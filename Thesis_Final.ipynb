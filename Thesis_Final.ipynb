{
  "cells": [
    {
      "cell_type": "markdown",
      "metadata": {
        "id": "9O51XzwDACsD"
      },
      "source": [
        "## Instalations"
      ]
    },
    {
      "cell_type": "code",
      "execution_count": null,
      "metadata": {
        "id": "W_NOJS7DxmAy",
        "scrolled": true
      },
      "outputs": [],
      "source": [
        "!pip install tqdm\n",
        "!pip install click\n",
        "!pip install -q -U keras-tuner\n",
        "import tensorflow as tf\n",
        "import keras\n",
        "import keras_tuner\n",
        "!pip install keras-tuner[bayesian]\n",
        "!pip install scipy"
      ]
    },
    {
      "cell_type": "markdown",
      "metadata": {
        "id": "xt3WS5mve95J"
      },
      "source": [
        "## Global variables"
      ]
    },
    {
      "cell_type": "code",
      "execution_count": null,
      "metadata": {
        "id": "sC_z5abOYqZA"
      },
      "outputs": [],
      "source": [
        "G_cipher = None\n",
        "G_data_format = None\n",
        "G_network = None\n",
        "G_shape = None\n",
        "G_tune = None\n",
        "G_num_epochs = None"
      ]
    },
    {
      "cell_type": "code",
      "execution_count": null,
      "metadata": {
        "id": "-40qF4IBYVFI"
      },
      "outputs": [],
      "source": [
        "def set_global_variables(cipher, data_format, network, shape, tune, num_epochs):\n",
        "  global G_cipher\n",
        "  global G_data_format\n",
        "  global G_network\n",
        "  global G_shape\n",
        "  global G_tune\n",
        "  global G_num_epochs\n",
        "\n",
        "  G_cipher = cipher\n",
        "  G_data_format = data_format\n",
        "  G_network = network\n",
        "  G_shape = shape\n",
        "  G_tune = tune\n",
        "  G_num_epochs = num_epochs"
      ]
    },
    {
      "cell_type": "code",
      "execution_count": null,
      "metadata": {
        "id": "bN3EeEnZa-M7"
      },
      "outputs": [],
      "source": [
        "def reset_global_variables():\n",
        "  global G_cipher\n",
        "  global G_data_format\n",
        "  global G_network\n",
        "  global G_shape\n",
        "  global G_tune\n",
        "  global G_num_epochs\n",
        "\n",
        "  G_cipher = None\n",
        "  G_data_format = None\n",
        "  G_network = None\n",
        "  G_shape = None\n",
        "  G_tune = None\n",
        "  G_num_epochs = None"
      ]
    },
    {
      "cell_type": "code",
      "execution_count": null,
      "metadata": {
        "id": "hEmlgHumdg3x"
      },
      "outputs": [],
      "source": [
        "def print_global_variables():\n",
        "  global G_cipher\n",
        "  global G_data_format\n",
        "  global G_network\n",
        "  global G_shape\n",
        "  global G_tune\n",
        "  global G_num_epochs\n",
        "\n",
        "  if G_cipher is not None:\n",
        "    print(\"Cipher: \" + str(G_cipher.get_name()))\n",
        "  else:\n",
        "    print(None)\n",
        "\n",
        "  if G_data_format is not None:\n",
        "    print(\"Data format: \" + G_data_format)\n",
        "  else:\n",
        "    print(None)\n",
        "\n",
        "  if G_network is not None:\n",
        "    print(\"Network: \" + G_network)\n",
        "  else:\n",
        "    print(None)\n",
        "\n",
        "  if G_shape is not None:\n",
        "    print(\"Input shape: \" + G_shape)\n",
        "  else:\n",
        "    print(None)\n",
        "\n",
        "  if G_tune is not None:\n",
        "    print(\"Tuning: \" + str(G_tune))\n",
        "  else:\n",
        "    print(None)\n",
        "\n",
        "  if G_num_epochs is not None:\n",
        "    print(\"Training epochs: \" + str(G_num_epochs))\n",
        "  else:\n",
        "    print(None)"
      ]
    },
    {
      "cell_type": "markdown",
      "metadata": {
        "id": "cshXBNawymaQ"
      },
      "source": [
        "## Ciphers"
      ]
    },
    {
      "cell_type": "markdown",
      "source": [
        "Based on code from: https://github.com/differential-neural/An-Assessment-of-Differential-Neural-Distinguishers"
      ],
      "metadata": {
        "id": "pJ4Y7yuKd6wh"
      }
    },
    {
      "cell_type": "code",
      "execution_count": null,
      "metadata": {
        "id": "MgEeKjDrzioD"
      },
      "outputs": [],
      "source": [
        "class NotImplementedException(Exception):\n",
        "    def __init__(self, func, cls):\n",
        "        self.func = func\n",
        "        self.cls = cls\n",
        "        super().__init__(f\"Function {func} (of class {cls}) is not implemented!\")"
      ]
    },
    {
      "cell_type": "code",
      "execution_count": null,
      "metadata": {
        "id": "LtCIcDkWwGER"
      },
      "outputs": [],
      "source": [
        "from abc import ABC, abstractmethod\n",
        "import numpy as np\n",
        "from os import urandom\n",
        "\n",
        "\n",
        "\n",
        "class AbstractCipher(ABC):\n",
        "    \"\"\" Abstract cipher class containing all methods a cipher class should implement \"\"\"\n",
        "\n",
        "    \"\"\" Data types for all the supported word sizes \"\"\"\n",
        "    DTYPES = {\n",
        "        2: np.uint8,\n",
        "        4: np.uint8,\n",
        "        8: np.uint8,\n",
        "        16: np.uint16,\n",
        "        32: np.uint32\n",
        "    }\n",
        "\n",
        "    def __init__(\n",
        "            self, n_rounds, word_size, n_words, n_main_key_words, n_round_key_words,\n",
        "            use_key_schedule=True, main_key_word_size=None, round_key_word_size=None\n",
        "    ):\n",
        "        \"\"\"\n",
        "        Initializes a cipher object\n",
        "        :param n_rounds: The number of rounds used for de-/encryption\n",
        "        :param word_size: The size (in bits) of a ciphertext word\n",
        "        :param n_words: The number of words of one ciphertext\n",
        "        :param n_main_key_words: The number of words in the main key\n",
        "        :param n_round_key_words: The number of words in each round key\n",
        "        :param use_key_schedule: Whether to use the key schedule or independent round keys\n",
        "        :param main_key_word_size: The size (in bits) of a main key word ('None' means the same as word_size)\n",
        "        :param round_key_word_size: The size (in bits) of a round key word ('None' means the same as word_size)\n",
        "        \"\"\"\n",
        "        self.n_rounds = n_rounds\n",
        "        self.word_size = word_size\n",
        "        self.word_dtype = self.DTYPES.get(self.word_size, None)\n",
        "        if self.word_dtype is None:\n",
        "            raise Exception(f'Error: Unexpected word size {self.word_size}')\n",
        "        self.mask_val = 2 ** self.word_size - 1\n",
        "        self.n_words = n_words\n",
        "        self.n_main_key_words = n_main_key_words\n",
        "        self.n_round_key_words = n_round_key_words\n",
        "        self.use_key_schedule = use_key_schedule\n",
        "        self.main_key_word_size = main_key_word_size if main_key_word_size is not None else word_size\n",
        "        self.main_key_word_dtype = self.DTYPES.get(self.main_key_word_size, None)\n",
        "        if self.main_key_word_dtype is None:\n",
        "            raise Exception(f'Error: Unexpected word size {self.main_key_word_size}')\n",
        "        self.round_key_word_size = round_key_word_size if round_key_word_size is not None else word_size\n",
        "        self.round_key_word_dtype = self.DTYPES.get(self.round_key_word_size, None)\n",
        "        if self.round_key_word_dtype is None:\n",
        "            raise Exception(f'Error: Unexpected word size {self.round_key_word_size}')\n",
        "\n",
        "\n",
        "    def get_word_size(self):\n",
        "        \"\"\"\n",
        "        :return: The size (in bits) of one word (which could be the size of an s-box or of the right/left side)\n",
        "        \"\"\"\n",
        "        return self.word_size\n",
        "\n",
        "    def get_n_words(self):\n",
        "        \"\"\"\n",
        "        :return: The number of words in one ciphertext\n",
        "        \"\"\"\n",
        "        return self.n_words\n",
        "\n",
        "    def get_block_size(self):\n",
        "        \"\"\"\n",
        "        :return: The size (in bits) of one ciphertext\n",
        "        \"\"\"\n",
        "        return self.word_size * self.n_words\n",
        "\n",
        "    def get_n_rounds(self):\n",
        "        \"\"\"\n",
        "        :return: The number of rounds\n",
        "        \"\"\"\n",
        "        return self.n_rounds\n",
        "\n",
        "    def set_n_rounds(self, new_n_rounds):\n",
        "        \"\"\"\n",
        "        Sets the number of rounds\n",
        "        :param new_n_rounds: The new number of rounds\n",
        "        \"\"\"\n",
        "        self.n_rounds = new_n_rounds\n",
        "\n",
        "    @staticmethod\n",
        "    def bytes_per_word(word_size):\n",
        "        \"\"\"\n",
        "        :param word_size: The word size (in bits)\n",
        "        :return: Returns the number of bytes to represent a word of word_size bits\n",
        "        \"\"\"\n",
        "        return word_size // 8 + (1 if (word_size % 8) else 0)\n",
        "\n",
        "    @abstractmethod\n",
        "    def encrypt_one_round(self, p, k, rc=None):\n",
        "        \"\"\"\n",
        "        Round function of the cipher\n",
        "        :param p: The plaintext\n",
        "        :param k: The round key\n",
        "        :param rc: The round constant\n",
        "        :return: The one round encryption of p using key k\n",
        "        \"\"\"\n",
        "        pass\n",
        "\n",
        "    def encrypt(self, p, keys):\n",
        "        \"\"\"\n",
        "        Encrypt by applying the round function for each given round key\n",
        "        :param p: The plaintext\n",
        "        :param keys: A list of round keys\n",
        "        :return: The encryption of p under the round keys in keys\n",
        "        \"\"\"\n",
        "        state = p\n",
        "        for i in range(len(keys)):\n",
        "            state = self.encrypt_one_round(state, keys[i], self.get_rc(i))\n",
        "        return state\n",
        "\n",
        "    @abstractmethod\n",
        "    def decrypt_one_round(self, c, k, rc=None):\n",
        "        \"\"\"\n",
        "        Inverse round function of the cipher\n",
        "        :param c: The ciphertext\n",
        "        :param k: The round key\n",
        "        :param rc: The round constant\n",
        "        :return: The one round decryption of c using key k\n",
        "        \"\"\"\n",
        "        pass\n",
        "\n",
        "    def decrypt(self, c, keys):\n",
        "        \"\"\"\n",
        "        Decrypt by applying the inverse round function for each given key\n",
        "        :param c: The ciphertext\n",
        "        :param keys: A list of round keys\n",
        "        :return: The decryption of c under the round keys in keys\n",
        "        \"\"\"\n",
        "        state = c\n",
        "        for i in range(len(keys) - 1, -1, -1):\n",
        "            state = self.decrypt_one_round(state, keys[i], self.get_rc(i))\n",
        "        return state\n",
        "\n",
        "    @abstractmethod\n",
        "    def calc_back(self, c, p=None, variant=1):\n",
        "        \"\"\"\n",
        "        Revert deterministic parts of the round function\n",
        "        :param c: The ciphertext\n",
        "        :param p: The initial plaintext\n",
        "        :param variant: Select the variant of how to calculate back (default is 1; 0 means not calculating back)\n",
        "        :return: The inner state after reverting the deterministic transformation at the end of the encryption process\n",
        "        \"\"\"\n",
        "        pass\n",
        "\n",
        "    def get_rc(self, r):\n",
        "        \"\"\"\n",
        "        :param r: The round\n",
        "        :return: The round constant for round r\n",
        "        \"\"\"\n",
        "        return None\n",
        "\n",
        "    def draw_keys(self, n_samples):\n",
        "        \"\"\"\n",
        "        :param n_samples: How many keys to draw\n",
        "        :return: An array of keys\n",
        "        \"\"\"\n",
        "        if self.use_key_schedule:\n",
        "            bytes_per_word = self.bytes_per_word(self.main_key_word_size)\n",
        "            main_key = np.frombuffer(\n",
        "                urandom(self.n_main_key_words * bytes_per_word * n_samples), dtype=self.main_key_word_dtype\n",
        "            ).reshape(self.n_main_key_words, n_samples)\n",
        "            if self.main_key_word_size < 8:\n",
        "                # Note: If the word size is greater than 8, it will always fit the dtype for the ciphers we use\n",
        "                main_key = np.right_shift(main_key, 8 - self.main_key_word_size)\n",
        "            return self.key_schedule(main_key)\n",
        "        else:\n",
        "            bytes_per_word = self.bytes_per_word(self.round_key_word_size)\n",
        "            round_keys = np.frombuffer(\n",
        "                urandom(self.n_rounds * self.n_round_key_words * bytes_per_word * n_samples),\n",
        "                dtype=self.round_key_word_dtype\n",
        "            ).reshape(self.n_rounds, self.n_round_key_words, n_samples)\n",
        "            if self.round_key_word_size < 8:\n",
        "                # Note: If the word size is greater than 8, it will always fit the dtype for the ciphers we use\n",
        "                round_keys = np.right_shift(round_keys, 8 - self.round_key_word_size)\n",
        "            return round_keys\n",
        "\n",
        "    def draw_plaintexts(self, n_samples):\n",
        "        \"\"\"\n",
        "        :param n_samples: How many plaintexts to draw\n",
        "        :return: An array of plaintexts\n",
        "        \"\"\"\n",
        "        # In most cases the format of the plain- and ciphertexts are the same,\n",
        "        # so we can return random ciphertexts at this point\n",
        "        return self.draw_ciphertexts(n_samples)\n",
        "\n",
        "    def draw_ciphertexts(self, n_samples):\n",
        "        \"\"\"\n",
        "        :param n_samples: How many ciphertexts to draw\n",
        "        :return: An array of ciphertexts\n",
        "        \"\"\"\n",
        "        bytes_per_word = self.bytes_per_word(self.word_size)\n",
        "        ct = np.reshape(\n",
        "            np.frombuffer(urandom(bytes_per_word * self.n_words * n_samples), dtype=self.word_dtype),\n",
        "            (self.n_words, n_samples)\n",
        "        )\n",
        "        if self.word_size < 8:\n",
        "            # Note: If the word size is greater than 8, it will always fit the dtype for the ciphers we use\n",
        "            ct = np.right_shift(ct, 8 - self.word_size)\n",
        "        return ct\n",
        "\n",
        "    @abstractmethod\n",
        "    def key_schedule(self, key):\n",
        "        \"\"\"\n",
        "        Applies the key schedule\n",
        "        :param key: The key\n",
        "        :return: A list of round keys\n",
        "        \"\"\"\n",
        "        pass\n",
        "\n",
        "    def rol(self, x, k):\n",
        "        \"\"\"\n",
        "        :param x: What to rotate\n",
        "        :param k: How to rotate\n",
        "        :return: x rotated by k bits to the left\n",
        "        \"\"\"\n",
        "        return ((x << k) & self.mask_val) | (x >> (self.word_size - k))\n",
        "\n",
        "    def ror(self, x, k):\n",
        "        \"\"\"\n",
        "        :param x: What to rotate\n",
        "        :param k: How to rotate\n",
        "        :return: x rotated by k bits to the right\n",
        "        \"\"\"\n",
        "        return (x >> k) | ((x << (self.word_size - k)) & self.mask_val)\n",
        "\n",
        "    @staticmethod\n",
        "    @abstractmethod\n",
        "    def get_test_vectors():\n",
        "        \"\"\"\n",
        "        :return: Returns the test vectors used for verifying the correct implementation of the cipher as a list of\n",
        "            tuples of the form (cipher, plaintext, key, ciphertext), where cipher is an instance of self that will\n",
        "            be used to verify the test vector\n",
        "        \"\"\"\n",
        "        pass\n",
        "\n",
        "    @classmethod\n",
        "    def verify_test_vectors(cls):\n",
        "        \"\"\"\n",
        "        Verifies the test vectors given by the designers\n",
        "        :return: Result of the test\n",
        "        \"\"\"\n",
        "        for cipher, pt, key, ct in cls.get_test_vectors():\n",
        "            if not np.array_equal(ct, cipher.encrypt(pt, key)):\n",
        "                print(f\"ERROR: Test vector for {cls.__name__} not verified (encryption did not match)\")\n",
        "                return False\n",
        "            try:  # This will use decrypt, which may not be implemented\n",
        "                if not np.array_equal(pt, cipher.decrypt(ct, key)):\n",
        "                    print(f\"ERROR: Test vector for {cls.__name__} not verified (decryption did not match)\")\n",
        "                    return False\n",
        "            except NotImplementedException as e:\n",
        "                print(f\"Info: Decryption not implemented for {cls.__name__}. (Original message: {e})\")\n",
        "\n",
        "        print(f\"Info: All test vectors for {cls.__name__} verified\")\n",
        "        return True"
      ]
    },
    {
      "cell_type": "code",
      "execution_count": null,
      "metadata": {
        "id": "5nByWsQXyqmb"
      },
      "outputs": [],
      "source": [
        "import numpy as np\n",
        "\n",
        "\n",
        "class Speck(AbstractCipher):\n",
        "\n",
        "    def __init__(self, n_rounds=22, word_size=16, use_key_schedule=True, alpha=7, beta=2, m=4):\n",
        "        \"\"\"\n",
        "        Initializes a Speck cipher object\n",
        "        :param n_rounds: The number of rounds\n",
        "        :param word_size: The size (in bits) of the right/left side\n",
        "        :param use_key_schedule: Whether to use the key schedule or independent round keys\n",
        "        :param alpha: The rotational constant alpha\n",
        "        :param beta: The rotational constant beta\n",
        "        :param m: Number of words of the key\n",
        "        \"\"\"\n",
        "        super(Speck, self).__init__(\n",
        "            n_rounds, word_size, n_words=2, n_main_key_words=m, n_round_key_words=1, use_key_schedule=use_key_schedule\n",
        "        )\n",
        "        self.alpha = alpha\n",
        "        self.beta = beta\n",
        "\n",
        "    @staticmethod\n",
        "    def get_name():\n",
        "      return \"Speck\"\n",
        "\n",
        "    def encrypt_one_round(self, p, k, rc=None):\n",
        "        \"\"\"\n",
        "        Round function of the cipher\n",
        "        :param p: The plaintext\n",
        "        :param k: The round key\n",
        "        :param rc: The round constant\n",
        "        :return: The one round encryption of p using key k\n",
        "        \"\"\"\n",
        "        c0, c1 = p[0], p[1]\n",
        "        c0 = self.ror(c0, self.alpha)\n",
        "        c0 = (c0 + c1) & self.mask_val\n",
        "        c0 = c0 ^ k[0]  # round key consists of one word only\n",
        "        c1 = self.rol(c1, self.beta)\n",
        "        c1 = c1 ^ c0\n",
        "        return c0, c1\n",
        "\n",
        "    def decrypt_one_round(self, c, k, rc=None):\n",
        "        \"\"\"\n",
        "        Inverse round function of the cipher\n",
        "        :param c: The ciphertext\n",
        "        :param k: The round key\n",
        "        :param rc: The round constant\n",
        "        :return: The one round decryption of c using key k\n",
        "        \"\"\"\n",
        "        c0, c1 = c[0], c[1]\n",
        "        c1 = c1 ^ c0\n",
        "        c1 = self.ror(c1, self.beta)\n",
        "        c0 = c0 ^ k[0]  # round key consists of one word only\n",
        "        c0 = (c0 - c1) & self.mask_val\n",
        "        c0 = self.rol(c0, self.alpha)\n",
        "        return c0, c1\n",
        "\n",
        "    def calc_back(self, c, p=None, variant=1):\n",
        "        \"\"\"\n",
        "        Revert deterministic parts of the round function\n",
        "        :param c: The ciphertext\n",
        "        :param p: The initial plaintext\n",
        "        :param variant: Select the variant of how to calculate back (default is 1; 0 means not calculating back)\n",
        "        :return: The inner state after reverting the deterministic transformation at the end of the encryption process\n",
        "        \"\"\"\n",
        "        if variant == 0:\n",
        "            return c\n",
        "        if variant != 1:\n",
        "            raise Exception(f'ERROR: Variant {variant} of calculating back is not implemented')\n",
        "        c0, c1 = c[0], c[1]\n",
        "        c1 = c1 ^ c0\n",
        "        c1 = self.ror(c1, self.beta)\n",
        "        return c0, c1\n",
        "\n",
        "    def key_schedule(self, key):\n",
        "        \"\"\"\n",
        "        Applies the key schedule\n",
        "        :param key: The key\n",
        "        :return: A list of round keys\n",
        "        \"\"\"\n",
        "        ks = [0 for i in range(self.n_rounds)]\n",
        "        ks[0] = key[len(key)-1]\n",
        "        l = list(reversed(key[:len(key)-1]))\n",
        "\n",
        "        for i in range(self.n_rounds-1):\n",
        "            l[i % 3], ks[i+1] = self.encrypt_one_round((l[i % 3], ks[i]), [i])\n",
        "\n",
        "        return np.array(ks, dtype=self.main_key_word_dtype)[:, np.newaxis]\n",
        "\n",
        "    @staticmethod\n",
        "    def get_test_vectors():\n",
        "        \"\"\"\n",
        "        Test vectors from https://eprint.iacr.org/2013/404.pdf, page 42\n",
        "        :return: Returns the test vectors used for verifying the correct implementation of the cipher as a list of\n",
        "            tuples of the form (cipher, plaintext, key, ciphertext), where cipher is an instance of self that will\n",
        "            be used to verify the test vector\n",
        "        \"\"\"\n",
        "        # Initialize Speck32/64 according to specification\n",
        "        speck32_64 = Speck()\n",
        "        key = np.array([[0x1918], [0x1110], [0x0908], [0x0100]], dtype=np.uint16)\n",
        "        ks = speck32_64.key_schedule(key)\n",
        "        pt = np.array([[0x6574], [0x694c]], dtype=np.uint16)\n",
        "        ct = np.array([[0xa868], [0x42f2]], dtype=np.uint16)\n",
        "        return [(speck32_64, pt, ks, ct)]"
      ]
    },
    {
      "cell_type": "code",
      "execution_count": null,
      "metadata": {
        "id": "iKkDTlkKzDs9"
      },
      "outputs": [],
      "source": [
        "import numpy as np\n",
        "\n",
        "\n",
        "class Simon(AbstractCipher):\n",
        "\n",
        "    def __init__(self, n_rounds=32, word_size=16, m=4, alpha=1, beta=8, gamma=2, const_seq=0, use_key_schedule=True):\n",
        "        \"\"\"\n",
        "        Initializes a Simon cipher object\n",
        "        :param n_rounds: The number of rounds used for de-/encryption\n",
        "        :param word_size:\n",
        "        :param m:\n",
        "        :param alpha:\n",
        "        :param beta:\n",
        "        :param gamma:\n",
        "        :param const_seq:\n",
        "        :param use_key_schedule:\n",
        "        \"\"\"\n",
        "        super(Simon, self).__init__(\n",
        "            n_rounds, word_size, n_words=2, n_main_key_words=m, n_round_key_words=1, use_key_schedule=use_key_schedule\n",
        "        )\n",
        "        self.alpha = alpha\n",
        "        self.beta = beta\n",
        "        self.gamma = gamma\n",
        "        self.const_seq = const_seq\n",
        "\n",
        "    @staticmethod\n",
        "    def get_name():\n",
        "      return \"Simon\"\n",
        "\n",
        "    def encrypt_one_round(self, p, k, rc=None):\n",
        "        \"\"\"\n",
        "        Round function of the cipher\n",
        "        :param p: The plaintext\n",
        "        :param k: The round key\n",
        "        :param rc: The round constant\n",
        "        :return: The one round encryption of p using key k\n",
        "        \"\"\"\n",
        "        c0 = (((self.rol(p[0], self.alpha) & self.rol(p[0], self.beta)) ^ self.rol(p[0], self.gamma)) ^ p[1]) ^ k[0]\n",
        "        c1 = p[0]\n",
        "        return c0, c1\n",
        "\n",
        "    def decrypt_one_round(self, c, k, rc=None):\n",
        "        \"\"\"\n",
        "        Inverse round function of the cipher\n",
        "        :param c: The ciphertext\n",
        "        :param k: The round key\n",
        "        :param rc: The round constant\n",
        "        :return: The one round decryption of c using key k\n",
        "        \"\"\"\n",
        "        c0, c1 = c[0], c[1]\n",
        "        c0 = ((c0 ^ k[0]) ^ self.rol(c1, self.gamma)) ^ (self.rol(c1, self.alpha) & self.rol(c1, self.beta))\n",
        "        return c1, c0\n",
        "\n",
        "    def calc_back(self, c, p=None, variant=1):\n",
        "        \"\"\"\n",
        "        Revert deterministic parts of the round function\n",
        "        :param c: The ciphertext\n",
        "        :param p: The initial plaintext\n",
        "        :param variant: Select the variant of how to calculate back (default is 1; 0 means not calculating back)\n",
        "        :return: The inner state after reverting the deterministic transformation at the end of the encryption process\n",
        "        \"\"\"\n",
        "        if variant == 0:\n",
        "            return c\n",
        "        if variant != 1:\n",
        "            raise Exception(\"ERROR: Only one variant of calculating back is known\")\n",
        "        c0, c1 = c[0], c[1]\n",
        "        c0 = (c0 ^ self.rol(c1, self.gamma)) ^ (self.rol(c1, self.alpha) & self.rol(c1, self.beta))\n",
        "        return c1, c0\n",
        "\n",
        "    def key_schedule(self, key):\n",
        "        \"\"\"\n",
        "        Applies the key schedule\n",
        "        :param key: The key\n",
        "        :return: A list of round keys\n",
        "        \"\"\"\n",
        "        z = [[1,1,1,1,1,0,1,0,0,0,1,0,0,1,0,1,0,1,1,0,0,0,0,1,1,1,0,0,1,1,0,1,1,1,1,1,0,1,0,0,0,1,0,0,1,0,1,0,1,1,0,0,0,0,1,1,1,0,0,1,1,0],\n",
        "             [1,0,0,0,1,1,1,0,1,1,1,1,1,0,0,1,0,0,1,1,0,0,0,0,1,0,1,1,0,1,0,1,0,0,0,1,1,1,0,1,1,1,1,1,0,0,1,0,0,1,1,0,0,0,0,1,0,1,1,0,1,0],\n",
        "             [1,0,1,0,1,1,1,1,0,1,1,1,0,0,0,0,0,0,1,1,0,1,0,0,1,0,0,1,1,0,0,0,1,0,1,0,0,0,0,1,0,0,0,1,1,1,1,1,1,0,0,1,0,1,1,0,1,1,0,0,1,1],\n",
        "             [1,1,0,1,1,0,1,1,1,0,1,0,1,1,0,0,0,1,1,0,0,1,0,1,1,1,1,0,0,0,0,0,0,1,0,0,1,0,0,0,1,0,1,0,0,1,1,1,0,0,1,1,0,1,0,0,0,0,1,1,1,1],\n",
        "             [1,1,0,1,0,0,0,1,1,1,1,0,0,1,1,0,1,0,1,1,0,1,1,0,0,0,1,0,0,0,0,0,0,1,0,1,1,1,0,0,0,0,1,1,0,0,1,0,1,0,0,1,0,0,1,1,1,0,1,1,1,1]]\n",
        "        ks = [0 for i in range(self.n_rounds)]\n",
        "        ks[:self.n_main_key_words] = list(reversed(key))\n",
        "        for i in range(self.n_main_key_words, self.n_rounds):\n",
        "            tmp = self.ror(ks[i-1], 3)\n",
        "            if self.n_main_key_words == 4:\n",
        "                tmp ^= ks[i-3]\n",
        "            tmp ^= self.ror(tmp, 1)\n",
        "            ks[i] = (ks[i-self.n_main_key_words] ^ self.mask_val) ^ tmp \\\n",
        "                    ^ z[self.const_seq][(i-self.n_main_key_words) % 62] ^ 3\n",
        "        return np.array(ks, dtype=self.main_key_word_dtype)[:, np.newaxis]\n",
        "\n",
        "    @staticmethod\n",
        "    def get_test_vectors():\n",
        "        \"\"\"\n",
        "        Test vectors from https://eprint.iacr.org/2013/404.pdf, page 41\n",
        "        :return: Returns the test vectors used for verifying the correct implementation of the cipher as a list of\n",
        "            tuples of the form (cipher, plaintext, key, ciphertext), where cipher is an instance of self that will\n",
        "            be used to verify the test vector\n",
        "        \"\"\"\n",
        "        # Initialize Simon32/64 according to specification\n",
        "        simon32_64 = Simon()\n",
        "        key = np.array([[0x1918], [0x1110], [0x0908], [0x0100]], dtype=np.uint16)\n",
        "        ks = simon32_64.key_schedule(key)\n",
        "        pt = np.array([[0x6565], [0x6877]], dtype=np.uint16)\n",
        "        ct = np.array([[0xc69b], [0xe9bb]], dtype=np.uint16)\n",
        "\n",
        "        # Initialize Simon64/128 according to specification\n",
        "        simon64_128 = Simon(n_rounds=44, word_size=32, alpha=1, beta=8, gamma=2, const_seq=3)\n",
        "        key = np.array([[0x1b1a1918], [0x13121110], [0x0b0a0908], [0x03020100]], dtype=np.uint32)\n",
        "        ks2 = simon64_128.key_schedule(key)\n",
        "        pt2 = np.array([[0x656b696c], [0x20646e75]], dtype=np.uint32)\n",
        "        ct2 = np.array([[0x44c8fc20], [0xb9dfa07a]], dtype=np.uint32)\n",
        "\n",
        "        return [(simon32_64, pt, ks, ct), (simon64_128, pt2, ks2, ct2)]"
      ]
    },
    {
      "cell_type": "code",
      "execution_count": null,
      "metadata": {
        "id": "PvUEp3utzHDU"
      },
      "outputs": [],
      "source": [
        "import numpy as np\n",
        "\n",
        "\n",
        "class Skinny(AbstractCipher):\n",
        "\n",
        "    def __init__(self, n_rounds=32, use_key_schedule=True):\n",
        "        \"\"\"\n",
        "        Initializes a Skinny cipher object\n",
        "        :param n_rounds: The number of round used for de-/encryption\n",
        "        :param use_key_schedule: Whether to use the key schedule or independent round keys\n",
        "        \"\"\"\n",
        "        super(Skinny, self).__init__(\n",
        "            n_rounds, word_size=4, n_words=16, n_main_key_words=16, n_round_key_words=16,\n",
        "            use_key_schedule=use_key_schedule\n",
        "        )\n",
        "\n",
        "    # Index:             0    1    2    3    4    5    6    7    8    9    a    b    c    d    e    f\n",
        "    SBOX    = np.array([0xC, 0x6, 0x9, 0x0, 0x1, 0xa, 0x2, 0xb, 0x3, 0x8, 0x5, 0xd, 0x4, 0xe, 0x7, 0xf])\n",
        "    SBOXINV = np.array([0x3, 0x4, 0x6, 0x8, 0xC, 0xa, 0x1, 0xe, 0x9, 0x2, 0x5, 0x7, 0x0, 0xb, 0xd, 0xf])\n",
        "\n",
        "    @staticmethod\n",
        "    def get_name():\n",
        "        return \"Skinny\"\n",
        "\n",
        "    @staticmethod\n",
        "    def substitute(state, sb):\n",
        "        \"\"\"\n",
        "        Applies the s-box sb on each word/nibble of state\n",
        "        :param state: The state to act on\n",
        "        :param sb: The s-box\n",
        "        :return: The resulting state\n",
        "        \"\"\"\n",
        "        result = []\n",
        "        for s in state:\n",
        "            result.append(sb[s])\n",
        "        return result\n",
        "\n",
        "    def substitution_layer(self, state):\n",
        "        \"\"\"\n",
        "        Applies the substitution layer to state\n",
        "        :param state: The current state\n",
        "        :return: The resulting state\n",
        "        \"\"\"\n",
        "        return self.substitute(state, self.SBOX)\n",
        "\n",
        "    def inv_substitution_layer(self, state):\n",
        "        \"\"\"\n",
        "        Applies the inverse substitution layer to state\n",
        "        :param state: The current state\n",
        "        :return: The resulting state\n",
        "        \"\"\"\n",
        "        return self.substitute(state, self.SBOXINV)\n",
        "\n",
        "    @staticmethod\n",
        "    def add_constants(state, constants):\n",
        "        \"\"\"\n",
        "        Adds the round constant to state. Constants should contain the values of rc0 to rc5, where rc0 is the lsb\n",
        "        :param state: The current state\n",
        "        :param constants: The round constant\n",
        "        :return: The resulting state\n",
        "        \"\"\"\n",
        "        # Add rc0 to rc3 to the first word/nibble of the state\n",
        "        state[0] = state[0] ^ (constants & 0xf)\n",
        "        # Add rc4 and rc5 to the first word/nibble of the second row of the state\n",
        "        state[4] = state[4] ^ (constants >> 4)\n",
        "        # Add c2=0x2 to the first word/nibble of the third row of the state\n",
        "        state[8] = state[8] ^ 0x2\n",
        "        return state\n",
        "\n",
        "    @staticmethod\n",
        "    def add_tweak_key(state, tweakKey):\n",
        "        \"\"\"\n",
        "        Adds the (tweak-)key to the first two rows of the state\n",
        "        :param state: The current state\n",
        "        :param tweakKey: The tweak-key to add\n",
        "        :return: the resulting state\n",
        "        \"\"\"\n",
        "        for i in range(8):\n",
        "            state[i] = state[i] ^ tweakKey[i]\n",
        "        return state\n",
        "\n",
        "    @staticmethod\n",
        "    def shift_rows(state):\n",
        "        \"\"\"\n",
        "        :param state: The current state\n",
        "        :return: The state with the rows shifted\n",
        "        \"\"\"\n",
        "        return [state[0], state[1], state[2], state[3],\n",
        "                state[7], state[4], state[5], state[6],\n",
        "                state[10], state[11], state[8], state[9],\n",
        "                state[13], state[14], state[15], state[12]]\n",
        "\n",
        "    @staticmethod\n",
        "    def inv_shift_rows(state):\n",
        "        \"\"\"\n",
        "        :param state: The current state\n",
        "        :return: The state with the rows shifted\n",
        "        \"\"\"\n",
        "        return [state[0], state[1], state[2], state[3],\n",
        "                state[5], state[6], state[7], state[4],\n",
        "                state[10], state[11], state[8], state[9],\n",
        "                state[15], state[12], state[13], state[14]]\n",
        "\n",
        "    @staticmethod\n",
        "    def mix_columns(state):\n",
        "        \"\"\"\n",
        "        Applies the mix columns operation\n",
        "        :param state: The current state\n",
        "        :return: The resulting state\n",
        "        \"\"\"\n",
        "        # Add 3rd row to 2nd row\n",
        "        for i in range(4):\n",
        "            state[4 + i] = state[4 + i] ^ state[8 + i]\n",
        "        # Add 1st row to 3rd row\n",
        "        for i in range(4):\n",
        "            state[8 + i] = state[8 + i] ^ state[i]\n",
        "        # Add 3rd row to 4th row\n",
        "        for i in range(4):\n",
        "            state[12 + i] = state[12 + i] ^ state[8 + i]\n",
        "        # Permute columns and return\n",
        "        return [state[12], state[13], state[14], state[15],\n",
        "                state[0], state[1], state[2], state[3],\n",
        "                state[4], state[5], state[6], state[7],\n",
        "                state[8], state[9], state[10], state[11]]\n",
        "\n",
        "    @staticmethod\n",
        "    def inv_mix_columns(state):\n",
        "        \"\"\"\n",
        "        Applies the inverse mix columns operation\n",
        "        :param state: The current state\n",
        "        :return: The resulting state\n",
        "        \"\"\"\n",
        "        # Revert permutation of columns\n",
        "        state = [state[4], state[5], state[6], state[7],\n",
        "                 state[8], state[9], state[10], state[11],\n",
        "                 state[12], state[13], state[14], state[15],\n",
        "                 state[0], state[1], state[2], state[3]]\n",
        "        # Add 3rd row to 4th row\n",
        "        for i in range(4):\n",
        "            state[12 + i] = state[12 + i] ^ state[8 + i]\n",
        "        # Add 1st row to 3rd row\n",
        "        for i in range(4):\n",
        "            state[8 + i] = state[8 + i] ^ state[i]\n",
        "        # Add 3rd row to 2nd row\n",
        "        for i in range(4):\n",
        "            state[4 + i] = state[4 + i] ^ state[8 + i]\n",
        "        return state\n",
        "\n",
        "    def encrypt_one_round(self, p, k, rc=None):\n",
        "        \"\"\"\n",
        "        Round function of the cipher\n",
        "        :param p: The plaintext\n",
        "        :param k: The round key\n",
        "        :param rc: The round constant\n",
        "        :return: The one round encryption of p using key k\n",
        "        \"\"\"\n",
        "        if rc is None:\n",
        "            raise Exception(\"ERROR: Round constant has to be set for Skinny encryption\")\n",
        "        s = self.substitution_layer(p)\n",
        "        s = self.add_constants(s, rc)\n",
        "        s = self.add_tweak_key(s, k)\n",
        "        s = self.shift_rows(s)\n",
        "        s = self.mix_columns(s)\n",
        "        return s\n",
        "\n",
        "    def decrypt_one_round(self, c, k, rc=None):\n",
        "        \"\"\"\n",
        "        Inverse round function of the cipher\n",
        "        :param c: The ciphertext\n",
        "        :param k: The round key\n",
        "        :param rc: The round constant\n",
        "        :return: The one round decryption of c using key k\n",
        "        \"\"\"\n",
        "        if rc is None:\n",
        "            raise Exception(\"ERROR: Round constant has to be set for Skinny decryption\")\n",
        "        s = self.inv_mix_columns(c)\n",
        "        s = self.inv_shift_rows(s)\n",
        "        s = self.add_tweak_key(s, k)\n",
        "        s = self.add_constants(s, rc)\n",
        "        s = self.inv_substitution_layer(s)\n",
        "        return s\n",
        "\n",
        "    def calc_back(self, c, p=None, variant=1):\n",
        "        \"\"\"\n",
        "        Revert deterministic parts of the round function\n",
        "        :param c: The ciphertext\n",
        "        :param p: The initial plaintext\n",
        "        :param variant: Select the variant of how to calculate back (default is 1; 0 means not calculating back)\n",
        "            Options are\n",
        "                - 1: Only revert Mix Columns and Shift Rows\n",
        "                - 2: Revert Mix Columns, Shift Rows, Add Constants and the SBoxes for last two rows\n",
        "        :return: The inner state after reverting the deterministic transformation at the end of the encryption process\n",
        "        \"\"\"\n",
        "        if variant == 0:\n",
        "            return c\n",
        "        # Always revert Mix Columns and Shift Rows\n",
        "        s = self.inv_mix_columns(c)\n",
        "        s = self.inv_shift_rows(s)\n",
        "        if variant == 1:  # Only revert Mix Columns and Shift Rows\n",
        "            return s\n",
        "        if variant == 2:  # Revert Mix Columns, Shift Rows, Add Constants and the SBoxes for last two rows\n",
        "            # Remove round constants from last round\n",
        "            s = self.add_constants(s, self.get_rc(self.n_rounds - 1))\n",
        "            # Revert SBoxes not influenced by the round (tweak-)key\n",
        "            for i in range(8, 16):\n",
        "                s[i] = self.SBOXINV[s[i]]\n",
        "            return s\n",
        "        raise Exception(f'ERROR: Variant {variant} of calculating back is not implemented')\n",
        "\n",
        "    def get_rc(self, r):\n",
        "        \"\"\"\n",
        "        :param r: The round\n",
        "        :return: The round constant for round r\n",
        "        \"\"\"\n",
        "        constant = 0x1\n",
        "        for key in range(r):\n",
        "            # Update constant\n",
        "            constant = ((constant << 1) & 0x3f) ^ ((constant >> 5) & 1) ^ ((constant >> 4) & 1) ^ 1\n",
        "        return constant\n",
        "\n",
        "    def key_schedule(self, key):\n",
        "        \"\"\"\n",
        "        Applies the key schedule\n",
        "        :param key: The key\n",
        "        :return: A list of round keys\n",
        "        \"\"\"\n",
        "        ks = [key[:8]]\n",
        "        for i in range(self.n_rounds - 1):\n",
        "            # Permute tweak-key state by P_T\n",
        "            key = [key[i] for i in [9,15,8,13,10,14,12,11,0,1,2,3,4,5,6,7]]\n",
        "            # Add first two rows as round (tweak-)key\n",
        "            ks.append(key[:8])\n",
        "        # Bring round keys in the form (roundConstant, roundKey) and return\n",
        "        return ks\n",
        "\n",
        "    @staticmethod\n",
        "    def get_test_vectors():\n",
        "        \"\"\"\n",
        "        Test vectors from https://eprint.iacr.org/2016/660.pdf, page 46\n",
        "        :return: Returns the test vectors used for verifying the correct implementation of the cipher as a list of\n",
        "            tuples of the form (cipher, plaintext, key, ciphertext), where cipher is an instance of self that will\n",
        "            be used to verify the test vector\n",
        "        \"\"\"\n",
        "        # Initialize Skinny64/64 according to specification\n",
        "        skinny_64_64 = Skinny()\n",
        "        key = np.array([[0xf], [0x5], [0x2], [0x6], [0x9], [0x8], [0x2], [0x6],\n",
        "                        [0xf], [0xc], [0x6], [0x8], [0x1], [0x2], [0x3], [0x8]], dtype=np.uint8)\n",
        "        ks = skinny_64_64.key_schedule(key)\n",
        "        pt = np.array([[0x0], [0x6], [0x0], [0x3], [0x4], [0xf], [0x9], [0x5],\n",
        "                       [0x7], [0x7], [0x2], [0x4], [0xd], [0x1], [0x9], [0xd]], dtype=np.uint8)\n",
        "        ct = np.array([\n",
        "            [0xb], [0xb], [0x3], [0x9], [0xd], [0xf], [0xb], [0x2],\n",
        "            [0x4], [0x2], [0x9], [0xb], [0x8], [0xa], [0xc], [0x7]\n",
        "        ], dtype=np.uint8)\n",
        "        return [(skinny_64_64, pt, ks, ct)]"
      ]
    },
    {
      "cell_type": "code",
      "execution_count": null,
      "metadata": {
        "id": "pXbAd_XHzJyN"
      },
      "outputs": [],
      "source": [
        "import numpy as np\n",
        "\n",
        "\n",
        "class Present(AbstractCipher):\n",
        "\n",
        "    def __init__(self, n_rounds=31, use_key_schedule=True):\n",
        "        \"\"\"\n",
        "        Initializes a Present cipher object\n",
        "        :param n_rounds: The number of round used for de-/encryption\n",
        "        :param use_key_schedule: Whether to use the key schedule or independent round keys\n",
        "        \"\"\"\n",
        "        super(Present, self).__init__(\n",
        "            n_rounds + 1,  # Internally, we will use the number of rounds as the number of round key additions\n",
        "            word_size=4, n_words=16, n_main_key_words=20, n_round_key_words=16, use_key_schedule=use_key_schedule\n",
        "        )\n",
        "\n",
        "    # Index:             0    1    2    3    4    5    6    7    8    9    A    B    C    D    E    F\n",
        "    SBOX    = np.array([0xC, 0x5, 0x6, 0xB, 0x9, 0x0, 0xA, 0xD, 0x3, 0xE, 0xF, 0x8, 0x4, 0x7, 0x1, 0x2])\n",
        "    SBOXINV = np.array([0x5, 0xE, 0xF, 0x8, 0xC, 0x1, 0x2, 0xD, 0xB, 0x4, 0x6, 0x3, 0x0, 0x7, 0x9, 0xA])\n",
        "\n",
        "    @staticmethod\n",
        "    def get_name():\n",
        "        return \"Present\"\n",
        "\n",
        "    def get_n_rounds(self, key_additions=True):\n",
        "        \"\"\"\n",
        "        :param key_additions: Whether to return the number of round key additions or the number of rounds\n",
        "        :return: The number of rounds or the number of round key additions\n",
        "        \"\"\"\n",
        "        if key_additions:\n",
        "            return super(Present, self).get_n_rounds()\n",
        "        return super(Present, self).get_n_rounds() - 1\n",
        "\n",
        "    @staticmethod\n",
        "    def bit_at_pos(x, i):\n",
        "        \"\"\"\n",
        "        :param x: Array\n",
        "        :param i: Bit position to return\n",
        "        :return: The i-th bit of all elements in x\n",
        "        \"\"\"\n",
        "        return np.right_shift(x, i) & 0b1\n",
        "\n",
        "    @staticmethod\n",
        "    def bit_to_pos(x, i):\n",
        "        \"\"\"\n",
        "        :param x: Array\n",
        "        :param i: Bit position\n",
        "        :return: All elements of x shifted to the left by i bits\n",
        "        \"\"\"\n",
        "        return np.left_shift(x, i)\n",
        "\n",
        "    def encrypt_one_round(self, p, k, rc=None):\n",
        "        \"\"\"\n",
        "        Round function of the cipher\n",
        "        :param p: The plaintext\n",
        "        :param k: The round key\n",
        "        :param rc: The round constant\n",
        "        :return: The one round encryption of p using key k\n",
        "        \"\"\"\n",
        "        s = [np.zeros(p[i].shape, dtype=self.word_dtype) for i in range(16)]\n",
        "        for i in range(16):\n",
        "            # add round key\n",
        "            s[i] = p[i] ^ k[i]\n",
        "            # apply s-box layer\n",
        "            s[i] = self.SBOX[s[i]]\n",
        "        c = [np.zeros(s[i].shape, dtype=self.word_dtype) for i in range(16)]\n",
        "        # permutation layer\n",
        "        for i in range(4):\n",
        "            q = 3-i\n",
        "            c[4*i+0] = self.bit_to_pos(self.bit_at_pos(s[0], q), 3) + self.bit_to_pos(self.bit_at_pos(s[1], q), 2) + \\\n",
        "                       self.bit_to_pos(self.bit_at_pos(s[2], q), 1) + self.bit_to_pos(self.bit_at_pos(s[3], q), 0)\n",
        "\n",
        "            c[4*i+1] = self.bit_to_pos(self.bit_at_pos(s[4], q), 3) + self.bit_to_pos(self.bit_at_pos(s[5], q), 2) + \\\n",
        "                       self.bit_to_pos(self.bit_at_pos(s[6], q), 1) + self.bit_to_pos(self.bit_at_pos(s[7], q), 0)\n",
        "\n",
        "            c[4*i+2] = self.bit_to_pos(self.bit_at_pos(s[8], q), 3) + self.bit_to_pos(self.bit_at_pos(s[9], q), 2) + \\\n",
        "                       self.bit_to_pos(self.bit_at_pos(s[10], q), 1) + self.bit_to_pos(self.bit_at_pos(s[11], q), 0)\n",
        "\n",
        "            c[4*i+3] = self.bit_to_pos(self.bit_at_pos(s[12], q), 3) + self.bit_to_pos(self.bit_at_pos(s[13], q), 2) + \\\n",
        "                       self.bit_to_pos(self.bit_at_pos(s[14], q), 1) + self.bit_to_pos(self.bit_at_pos(s[15], q), 0)\n",
        "        return c\n",
        "\n",
        "    def encrypt(self, p, keys):\n",
        "        \"\"\"\n",
        "        Encrypt by applying the round function for each given round key\n",
        "        :param p: The plaintext\n",
        "        :param keys: A list of round keys\n",
        "        :return: The encryption of p under the round keys in keys\n",
        "        \"\"\"\n",
        "        # For Present, the number of round keys is the number of rounds + 1\n",
        "        c = super(Present, self).encrypt(p, keys[:-1])\n",
        "        return c ^ keys[-1]\n",
        "\n",
        "    def decrypt_one_round(self, c, k, rc=None):\n",
        "        \"\"\"\n",
        "        Inverse round function of the cipher\n",
        "        :param c: The ciphertext\n",
        "        :param k: The round key\n",
        "        :param rc: The round constant\n",
        "        :return: The one round decryption of c using key k\n",
        "        \"\"\"\n",
        "        p = [np.zeros(c[i].shape, dtype=self.word_dtype) for i in range(16)]\n",
        "        # inverse permutation layer\n",
        "        for i in range(4):\n",
        "            p[4*i] = self.bit_to_pos(self.bit_at_pos(c[i], 3), 3) + self.bit_to_pos(self.bit_at_pos(c[4+i], 3), 2) + \\\n",
        "                     self.bit_to_pos(self.bit_at_pos(c[8+i], 3), 1) + self.bit_to_pos(self.bit_at_pos(c[12+i], 3), 0)\n",
        "\n",
        "            p[4*i+1] = self.bit_to_pos(self.bit_at_pos(c[i], 2), 3) + self.bit_to_pos(self.bit_at_pos(c[4+i], 2), 2) + \\\n",
        "                       self.bit_to_pos(self.bit_at_pos(c[8+i], 2), 1) + self.bit_to_pos(self.bit_at_pos(c[12+i], 2), 0)\n",
        "\n",
        "            p[4*i+2] = self.bit_to_pos(self.bit_at_pos(c[i], 1), 3) + self.bit_to_pos(self.bit_at_pos(c[4+i], 1), 2) + \\\n",
        "                       self.bit_to_pos(self.bit_at_pos(c[8+i], 1), 1) + self.bit_to_pos(self.bit_at_pos(c[12+i], 1), 0)\n",
        "\n",
        "            p[4*i+3] = self.bit_to_pos(self.bit_at_pos(c[i], 0), 3) + self.bit_to_pos(self.bit_at_pos(c[4+i], 0), 2) + \\\n",
        "                       self.bit_to_pos(self.bit_at_pos(c[8+i], 0), 1) + self.bit_to_pos(self.bit_at_pos(c[12+i], 0), 0)\n",
        "        for i in range(16):\n",
        "            # inverse s-box layer\n",
        "            p[i] = self.SBOXINV[p[i]]\n",
        "            # add round key\n",
        "            p[i] = p[i] ^ k[i]\n",
        "        return p\n",
        "\n",
        "    def decrypt(self, c, keys):\n",
        "        \"\"\"\n",
        "        Decrypt by applying the inverse round function for each given key\n",
        "        :param c: The ciphertext\n",
        "        :param keys: A list of round keys\n",
        "        :return: The decryption of c under the round keys in keys\n",
        "        \"\"\"\n",
        "        c = c ^ keys[-1]\n",
        "        return super(Present, self).decrypt(c, keys[:-1])\n",
        "\n",
        "    def calc_back(self, c, p=None, variant=1):\n",
        "        \"\"\"\n",
        "        Revert deterministic parts of the round function\n",
        "        :param c: The ciphertext\n",
        "        :param p: The initial plaintext\n",
        "        :param variant: Select the variant of how to calculate back (default is 1; 0 means not calculating back)\n",
        "        :return: The inner state after reverting the deterministic transformation at the end of the encryption process\n",
        "        \"\"\"\n",
        "        if variant == 0:\n",
        "            return c\n",
        "        raise Exception(\"ERROR: No variant of calculating back is implemented\")\n",
        "\n",
        "    def key_schedule(self, key):\n",
        "        \"\"\"\n",
        "        Applies the key schedule\n",
        "        :param key: The key\n",
        "        :return: A list of round keys\n",
        "        \"\"\"\n",
        "        samples = len(key[0])\n",
        "        ks = np.zeros((self.n_rounds, 20, samples), dtype=self.word_dtype)\n",
        "        ks[0] = key.copy()\n",
        "        for r in range(self.n_rounds - 1):\n",
        "            lmk = ks[r].copy()\n",
        "            for i in range(20):\n",
        "                ks[r+1, i] = np.left_shift(lmk[(i+15) % 20] & 0b0111, 1) ^ np.right_shift(lmk[(i+16) % 20], 3)\n",
        "            ks[r+1, 0] = self.SBOX[ks[r+1, 0]]\n",
        "            ks[r+1, 15] = ks[r+1, 15] ^ ((r+1) >> 1)\n",
        "            ks[r+1, 16] = ks[r+1, 16] ^ (((r+1) & 0b1) << 3)\n",
        "        return ks[:, 0:16]\n",
        "\n",
        "    @staticmethod\n",
        "    def get_test_vectors():\n",
        "        \"\"\"\n",
        "        Test vectors from https://link.springer.com/chapter/10.1007/978-3-540-74735-2_31, page 464 (15th page)\n",
        "        :return: Returns the test vectors used for verifying the correct implementation of the cipher as a list of\n",
        "            tuples of the form (cipher, plaintext, key, ciphertext), where cipher is an instance of self that will\n",
        "            be used to verify the test vector\n",
        "        \"\"\"\n",
        "        present_80 = Present()\n",
        "        key = np.array([[0, 0xf, 0, 0xf], [0, 0xf, 0, 0xf], [0, 0xf, 0, 0xf], [0, 0xf, 0, 0xf],\n",
        "                        [0, 0xf, 0, 0xf], [0, 0xf, 0, 0xf], [0, 0xf, 0, 0xf], [0, 0xf, 0, 0xf],\n",
        "                        [0, 0xf, 0, 0xf], [0, 0xf, 0, 0xf], [0, 0xf, 0, 0xf], [0, 0xf, 0, 0xf],\n",
        "                        [0, 0xf, 0, 0xf], [0, 0xf, 0, 0xf], [0, 0xf, 0, 0xf], [0, 0xf, 0, 0xf],\n",
        "                        [0, 0xf, 0, 0xf], [0, 0xf, 0, 0xf], [0, 0xf, 0, 0xf], [0, 0xf, 0, 0xf]], dtype=np.uint8)\n",
        "        ks = present_80.key_schedule(key)\n",
        "        pt = np.array([[0, 0, 0xf, 0xf], [0, 0, 0xf, 0xf], [0, 0, 0xf, 0xf], [0, 0, 0xf, 0xf],\n",
        "                       [0, 0, 0xf, 0xf], [0, 0, 0xf, 0xf], [0, 0, 0xf, 0xf], [0, 0, 0xf, 0xf],\n",
        "                       [0, 0, 0xf, 0xf], [0, 0, 0xf, 0xf], [0, 0, 0xf, 0xf], [0, 0, 0xf, 0xf],\n",
        "                       [0, 0, 0xf, 0xf], [0, 0, 0xf, 0xf], [0, 0, 0xf, 0xf], [0, 0, 0xf, 0xf]], dtype=np.uint8)\n",
        "        ct = np.array([\n",
        "            [0x5, 0xE, 0xA, 0x3], [0x5, 0x7, 0x1, 0x3], [0x7, 0x2, 0x1, 0x3], [0x9, 0xC, 0x2, 0x3],\n",
        "            [0xC, 0x4, 0xF, 0xD], [0x1, 0x6, 0xF, 0xC], [0x3, 0xC, 0xC, 0xD], [0x8, 0x0, 0x7, 0x3],\n",
        "            [0x7, 0xF, 0x2, 0x2], [0xB, 0x5, 0xF, 0x1], [0x2, 0x9, 0x6, 0x3], [0x2, 0x4, 0x8, 0x2],\n",
        "            [0x8, 0x5, 0x4, 0x1], [0x4, 0x0, 0x1, 0x0], [0x4, 0x4, 0x7, 0xD], [0x5, 0x9, 0xB, 0x2]\n",
        "        ], dtype=np.uint8)\n",
        "        return [(present_80, pt, ks, ct)]\n"
      ]
    },
    {
      "cell_type": "code",
      "execution_count": null,
      "metadata": {
        "id": "J18vmCKuzMiU"
      },
      "outputs": [],
      "source": [
        "import numpy as np\n",
        "\n",
        "class Katan(AbstractCipher):\n",
        "\n",
        "    def __init__(self, n_rounds=254, use_key_schedule=True):\n",
        "        \"\"\"\n",
        "        Initializes a Katan cipher object\n",
        "        :param n_rounds: The number of rounds used for de-/encryption\n",
        "        :param use_key_schedule: Whether to use the key schedule or independent round keys\n",
        "        \"\"\"\n",
        "        super(Katan, self).__init__(\n",
        "            n_rounds, word_size=32, n_words=1,  # We see the state of katan32 as one word\n",
        "            n_main_key_words=5, n_round_key_words=1, use_key_schedule=use_key_schedule,\n",
        "            main_key_word_size=16, round_key_word_size=2\n",
        "        )\n",
        "        self.len_l1 = 13\n",
        "        self.len_l2 = 19\n",
        "\n",
        "    @staticmethod\n",
        "    def get_name():\n",
        "        return \"Katan\"\n",
        "\n",
        "    IR = (1, 1, 1, 1, 1, 1, 1, 0, 0, 0, 1, 1, 0, 1, 0, 1, 0, 1, 0, 1,\n",
        "          1, 1, 1, 0, 1, 1, 0, 0, 1, 1, 0, 0, 1, 0, 1, 0, 0, 1, 0, 0,\n",
        "          0, 1, 0, 0, 0, 1, 1, 0, 0, 0, 1, 1, 1, 1, 0, 0, 0, 0, 1, 0,\n",
        "          0, 0, 0, 1, 0, 1, 0, 0, 0, 0, 0, 1, 1, 1, 1, 1, 0, 0, 1, 1,\n",
        "          1, 1, 1, 1, 0, 1, 0, 1, 0, 0, 0, 1, 0, 1, 0, 1, 0, 0, 1, 1,\n",
        "          0, 0, 0, 0, 1, 1, 0, 0, 1, 1, 1, 0, 1, 1, 1, 1, 1, 0, 1, 1,\n",
        "          1, 0, 1, 0, 0, 1, 0, 1, 0, 1, 1, 0, 1, 0, 0, 1, 1, 1, 0, 0,\n",
        "          1, 1, 0, 1, 1, 0, 0, 0, 1, 0, 1, 1, 1, 0, 1, 1, 0, 1, 1, 1,\n",
        "          1, 0, 0, 1, 0, 1, 1, 0, 1, 1, 0, 1, 0, 1, 1, 1, 0, 0, 1, 0,\n",
        "          0, 1, 0, 0, 1, 1, 0, 1, 0, 0, 0, 1, 1, 1, 0, 0, 0, 1, 0, 0,\n",
        "          1, 1, 1, 1, 0, 1, 0, 0, 0, 0, 1, 1, 1, 0, 1, 0, 1, 1, 0, 0,\n",
        "          0, 0, 0, 1, 0, 1, 1, 0, 0, 1, 0, 0, 0, 0, 0, 0, 1, 1, 0, 1,\n",
        "          1, 1, 0, 0, 0, 0, 0, 0, 0, 1, 0, 0, 1, 0)\n",
        "\n",
        "    @staticmethod\n",
        "    def parse_as_bits(x, word_size=32):\n",
        "        \"\"\"\n",
        "        Parses each element of p as a list of bits with the lsb of each element at position i = 0\n",
        "        :param x: The current state\n",
        "        :param word_size: The word size of x\n",
        "        :return: List of bits representing p\n",
        "        \"\"\"\n",
        "        bits = np.zeros(np.insert(x.shape, 0, word_size), dtype=np.uint8)\n",
        "        for i in range(word_size):\n",
        "            bits[i] = np.right_shift(x, i) & 0b1\n",
        "        return bits\n",
        "\n",
        "    def parse_as_int(self, bits):\n",
        "        \"\"\"\n",
        "        Parses a list of bits to the corresponding integers\n",
        "        :param bits: The bits\n",
        "        :return: Integers representing bits\n",
        "        \"\"\"\n",
        "        num = np.zeros(bits.shape[1:], dtype=self.word_dtype)\n",
        "        for i in range(bits.shape[0]-1, -1, -1):\n",
        "            num = np.left_shift(num, 1) ^ bits[i]\n",
        "        return num\n",
        "\n",
        "    def encrypt_one_round(self, p, k, rc=None):\n",
        "        \"\"\"\n",
        "        Round function of the cipher\n",
        "        :param p: The plaintext\n",
        "        :param k: The round key\n",
        "        :param rc: The round constant\n",
        "        :return: The one round encryption of p using key k\n",
        "        \"\"\"\n",
        "        k_a = k & 0x1\n",
        "        k_b = (k >> 1) & 0x1\n",
        "\n",
        "        f_a = p[self.len_l2 + 12] ^ p[self.len_l2 + 7] ^ (p[self.len_l2 + 8] & p[self.len_l2 + 5]) ^ k_a\n",
        "        if rc:\n",
        "            f_a = f_a ^ p[self.len_l2 + 3]\n",
        "\n",
        "        f_b = p[18] ^ p[7] ^ (p[12] & p[10]) ^ (p[8] & p[3]) ^ k_b\n",
        "\n",
        "        # Shift L1 and L2 by 1\n",
        "        p = np.roll(p, 1, axis=0)\n",
        "        # Set value of feedback function\n",
        "        p[0] = f_a\n",
        "        p[self.len_l2] = f_b\n",
        "        return p\n",
        "\n",
        "    def encrypt(self, p, keys):\n",
        "        \"\"\"\n",
        "        Encrypt by applying the round function for each given round key\n",
        "        :param p: The plaintext\n",
        "        :param keys: A list of round keys\n",
        "        :return: The encryption of p under the round keys in keys\n",
        "        \"\"\"\n",
        "        state = self.parse_as_bits(p)\n",
        "        c = super(Katan, self).encrypt(state, keys)\n",
        "        return self.parse_as_int(c)\n",
        "\n",
        "    def decrypt_one_round(self, c, k, rc=None):\n",
        "        \"\"\"\n",
        "        Inverse round function of the cipher\n",
        "        :param c: The ciphertext\n",
        "        :param k: The round key\n",
        "        :param rc: The round constant\n",
        "        :return: The one round decryption of c using key k\n",
        "        \"\"\"\n",
        "        k_a = k & 0x1\n",
        "        k_b = (k >> 1) & 0x1\n",
        "\n",
        "        f_a = c[0] ^ c[self.len_l2 + 8] ^ (c[self.len_l2 + 9] & c[self.len_l2 + 6]) ^ k_a\n",
        "        if rc:\n",
        "            f_a = f_a ^ c[self.len_l2 + 4]\n",
        "\n",
        "        f_b = c[self.len_l2 + 0] ^ c[8] ^ (c[13] & c[11]) ^ (c[9] & c[4]) ^ k_b\n",
        "\n",
        "        # Shift L1 and L2 by 1\n",
        "        c = np.roll(c, -1, axis=0)\n",
        "        # Set value of feedback function\n",
        "        c[self.len_l2 - 1] = f_b  # L2[-1] = f_b\n",
        "        c[-1] = f_a  # L1[-1] = f_a\n",
        "        return c\n",
        "\n",
        "    def decrypt(self, c, keys):\n",
        "        \"\"\"\n",
        "        Decrypt by applying the inverse round function for each given key\n",
        "        :param c: The ciphertext\n",
        "        :param keys: A list of round keys\n",
        "        :return: The decryption of c under the round keys in keys\n",
        "        \"\"\"\n",
        "        state = self.parse_as_bits(c)\n",
        "        p = super(Katan, self).decrypt(state, keys)\n",
        "        return self.parse_as_int(p)\n",
        "\n",
        "    def calc_back(self, c, p=None, variant=1):\n",
        "        \"\"\"\n",
        "        Revert deterministic parts of the round function\n",
        "        :param c: The ciphertext\n",
        "        :param p: The initial plaintext\n",
        "        :param variant: Select the variant of how to calculate back (default is 1; 0 means not calculating back)\n",
        "            Options are\n",
        "                - 1: Only revert 4 full rounds (except for key addition)\n",
        "                - 2: Revert 17 rounds as far as possible\n",
        "        :return: The inner state after reverting the deterministic transformation at the end of the encryption process\n",
        "        \"\"\"\n",
        "        if variant == 0:\n",
        "            return c\n",
        "        c = self.parse_as_bits(c)\n",
        "        # Calculate 4 rounds back with keys set to zero\n",
        "        for i in range(4):\n",
        "            c = self.decrypt_one_round(c, 0, self.get_rc(self.n_rounds - 1 - i))\n",
        "        if variant == 1:  # Revert 4 rounds except of key addition\n",
        "            return self.parse_as_int(c)\n",
        "        if variant == 2:  # Revert 17 rounds as far as possible\n",
        "            for i in range(13):  # Note: We already reverted 4 rounds\n",
        "                f_a = c[0]\n",
        "                f_b = c[self.len_l2 + 0]\n",
        "                # For all rounds, L1[x3]&L1[x4] is not known\n",
        "                # For i >= 2, L2[y3]&L2[y4] is not known\n",
        "                # For i >= 5,L1[8] is also masked by L1[x3]&L1[x4], with L1[x3] masked by a key bit\n",
        "                # Also, L1[x5] is now masked by a key bit\n",
        "                # For i >= 6, L2[y5]&L2[y6] is not known\n",
        "                if i < 2:\n",
        "                    f_b = f_b ^ (c[13] & c[11])\n",
        "                if i < 5:\n",
        "                    f_a = f_a ^ c[self.len_l2 + 8]  # Note that L1[8] may be masked with a key bit\n",
        "                    if self.get_rc(self.n_rounds - 5 - i):\n",
        "                        f_a = f_a ^ c[self.len_l2 + 4]\n",
        "                if i < 6:\n",
        "                    f_b = f_b ^ (c[9] & c[4])\n",
        "                f_b = f_b ^ c[8]\n",
        "                # Shift L1 and L2 by 1\n",
        "                c = np.roll(c, -1, axis=0)\n",
        "                # Set value of feedback function\n",
        "                c[self.len_l2 - 1] = f_b  # L2[-1] = f_b\n",
        "                c[-1] = f_a  # L1[-1] = f_a\n",
        "            return self.parse_as_int(c)\n",
        "        raise Exception(f'ERROR: Variant {variant} of calculating back is not implemented')\n",
        "\n",
        "    def get_rc(self, r):\n",
        "        \"\"\"\n",
        "        :param r: The round\n",
        "        :return: The round constant for round r\n",
        "        \"\"\"\n",
        "        return self.IR[r]\n",
        "\n",
        "    def key_schedule(self, key):\n",
        "        \"\"\"\n",
        "        Applies the key schedule\n",
        "        :param key: The key\n",
        "        :return: A list of round keys\n",
        "        \"\"\"\n",
        "        # Parse masterKey as 80 bit vector\n",
        "        samples = key.shape[1]\n",
        "        state = np.concatenate([self.parse_as_bits(key[i], 16) for i in range(key.shape[0])], axis=0)\n",
        "        key_bits = state.shape[0]\n",
        "\n",
        "        ks = np.zeros((self.n_rounds, samples), dtype=np.uint8)\n",
        "        for i in range(self.n_rounds):\n",
        "            k = 0  # First bit (lsb) will be k_a, second k_b\n",
        "            for j in range(2):\n",
        "                zero_pos = (2 * i + j) % key_bits\n",
        "                k ^= state[zero_pos] << j\n",
        "                h = state[zero_pos + 0] ^ state[(zero_pos + 19) % key_bits] ^ \\\n",
        "                    state[(zero_pos + 30) % key_bits] ^ state[(zero_pos + 67) % key_bits]\n",
        "                state[zero_pos] = h\n",
        "            ks[i] = k\n",
        "        return ks\n",
        "\n",
        "    @staticmethod\n",
        "    def get_test_vectors():\n",
        "        \"\"\"\n",
        "        Test vectors from http://www.cs.technion.ac.il/~orrd/KATAN/\n",
        "        :return: Returns the test vectors used for verifying the correct implementation of the cipher as a list of\n",
        "            tuples of the form (cipher, plaintext, key, ciphertext), where cipher is an instance of self that will\n",
        "            be used to verify the test vector\n",
        "        \"\"\"\n",
        "        katan32 = Katan()\n",
        "        key = np.array([[0xffff,     0],\n",
        "                        [0xffff,     0],\n",
        "                        [0xffff,     0],\n",
        "                        [0xffff,     0],\n",
        "                        [0xffff,     0]], dtype=np.uint16)\n",
        "        ks = katan32.key_schedule(key)\n",
        "        pt = np.array([[0, 0xffffffff]], dtype=np.uint32)\n",
        "        ct = np.array([[0x7E1FF945, 0x432E61DA]], dtype=np.uint32)\n",
        "        return [(katan32, pt, ks, ct)]"
      ]
    },
    {
      "cell_type": "code",
      "execution_count": null,
      "metadata": {
        "id": "B1QuIV3qzPuz"
      },
      "outputs": [],
      "source": [
        "import numpy as np\n",
        "from os import urandom\n",
        "\n",
        "\n",
        "\n",
        "class ChaCha(AbstractCipher):\n",
        "\n",
        "    def __init__(self, n_rounds=20, use_key_schedule=True):\n",
        "        \"\"\"\n",
        "        Initializes a ChaCha cipher object\n",
        "        :param n_rounds: The number of rounds used for de-/encryption\n",
        "        :param use_key_schedule: Whether to use the key schedule or independent round keys\n",
        "        \"\"\"\n",
        "        if not use_key_schedule:\n",
        "            raise Exception('ERROR: use_key_schedule=False not supported for ChaCha')\n",
        "        super(ChaCha, self).__init__(\n",
        "            n_rounds, word_size=32, n_words=16, n_main_key_words=8,\n",
        "            n_round_key_words=None, use_key_schedule=use_key_schedule\n",
        "        )\n",
        "\n",
        "\n",
        "    @staticmethod\n",
        "    def get_name():\n",
        "        return \"ChaCha\"\n",
        "\n",
        "    def quarter_round(self, state, a, b, c, d):\n",
        "        \"\"\"\n",
        "        Applies the ChaCha quarter round to state\n",
        "        :param state: The state\n",
        "        :param a: Index of input a\n",
        "        :param b: Index of input b\n",
        "        :param c: Index of input c\n",
        "        :param d: Index of input d\n",
        "        :return: The manipulated state\n",
        "        \"\"\"\n",
        "        state[a] += state[b]\n",
        "        state[d] ^= state[a]\n",
        "        state[d] = self.rol(state[d], 16)\n",
        "        state[c] += state[d]\n",
        "        state[b] ^= state[c]\n",
        "        state[b] = self.rol(state[b], 12)\n",
        "        state[a] += state[b]\n",
        "        state[d] ^= state[a]\n",
        "        state[d] = self.rol(state[d], 8)\n",
        "        state[c] += state[d]\n",
        "        state[b] ^= state[c]\n",
        "        state[b] = self.rol(state[b], 7)\n",
        "        return state\n",
        "\n",
        "    def encrypt_one_round(self, p, k, rc=None):\n",
        "        \"\"\"\n",
        "        Round function of the cipher\n",
        "        :param p: The plaintext\n",
        "        :param k: The round key\n",
        "        :param rc: The round constant\n",
        "        :return: The one round encryption of p using key k\n",
        "        \"\"\"\n",
        "        s = p  # p is the state which already contains the key. Hence, k is not used\n",
        "        if rc == 0:  # This is a column round\n",
        "            s = self.quarter_round(s, 0, 4, 8, 12)\n",
        "            s = self.quarter_round(s, 1, 5, 9, 13)\n",
        "            s = self.quarter_round(s, 2, 6, 10, 14)\n",
        "            s = self.quarter_round(s, 3, 7, 11, 15)\n",
        "        else:  # This is a diagonal round\n",
        "            s = self.quarter_round(s, 0, 5, 10, 15)\n",
        "            s = self.quarter_round(s, 1, 6, 11, 12)\n",
        "            s = self.quarter_round(s, 2, 7, 8, 13)\n",
        "            s = self.quarter_round(s, 3, 4, 9, 14)\n",
        "        return s\n",
        "\n",
        "    @staticmethod\n",
        "    def build_initial_state(nonce_and_counter, key):\n",
        "        \"\"\"\n",
        "        :param nonce_and_counter: Nonce and Counter\n",
        "        :param key: The key\n",
        "        :return: The initial state\n",
        "        \"\"\"\n",
        "        n_samples = len(nonce_and_counter[0])\n",
        "        constants = np.array([0x61707865, 0x3320646e, 0x79622d32, 0x6b206574], dtype=np.uint32)\n",
        "        constants = np.repeat(np.expand_dims(constants, axis=1), n_samples, axis=1)  # Repeat for every sample\n",
        "        return np.concatenate((constants, key, nonce_and_counter), axis=0)\n",
        "\n",
        "    def encrypt(self, p, keys):\n",
        "        \"\"\"\n",
        "        Generate the key stream. Note that, since this framework was designed with block ciphers in mind,\n",
        "        the usage of the parameters is slightly different.\n",
        "        :param p: The data an attacker is able to control, i.e. the counter and the nonce\n",
        "        :param keys: The key that is used to generate the key stream block\n",
        "        :return: The key stream block\n",
        "        \"\"\"\n",
        "        state = self.build_initial_state(p, keys)\n",
        "        working_state = state.copy()\n",
        "\n",
        "        # Iterate rounds\n",
        "        working_state = super(ChaCha, self).encrypt(working_state, [None for i in range(self.n_rounds)])\n",
        "\n",
        "        # Calculate final key stream block and return\n",
        "        return state + working_state\n",
        "\n",
        "    def decrypt_one_round(self, c, k, rc=None):\n",
        "        raise NotImplementedException(\"decrypt\", \"ChaCha\")\n",
        "\n",
        "    def calc_back(self, c, p=None, variant=1):\n",
        "        \"\"\"\n",
        "        Revert deterministic parts of the round function\n",
        "        :param c: The ciphertext\n",
        "        :param p: The initial plaintext\n",
        "        :param variant: Select the variant of how to calculate back (default is 1; 0 means not calculating back)\n",
        "        :return: The inner state after reverting the deterministic transformation at the end of the encryption process\n",
        "        \"\"\"\n",
        "        if variant == 0:\n",
        "            return c\n",
        "        if variant != 1:\n",
        "            raise Exception(f'ERROR: Variant {variant} of calculating back is not implemented')\n",
        "        if p is None:\n",
        "            raise Exception(\"ERROR: Nonce and counter are needed in order to calculate state back\")\n",
        "        # Build known initial state\n",
        "        zero_key = np.zeros((8, len(p[0])), dtype=np.uint32)\n",
        "        known_initial_state = self.build_initial_state(p, zero_key)\n",
        "        # Revert addition of initial state to working state for counter, constant and nonce\n",
        "        return c - known_initial_state\n",
        "\n",
        "    def get_rc(self, r):\n",
        "        \"\"\"\n",
        "        :param r: The round\n",
        "        :return: The round constant for round r\n",
        "        \"\"\"\n",
        "        return r % 2  # To distinguish between column and diagonal rounds\n",
        "\n",
        "    def draw_plaintexts(self, n_samples):\n",
        "        \"\"\"\n",
        "        Draw nonce and counter, i.e. 4 words\n",
        "        :param n_samples: How many plaintexts to draw\n",
        "        :return: An array of plaintexts\n",
        "        \"\"\"\n",
        "        return np.reshape(\n",
        "            np.frombuffer(urandom(4 * 4 * n_samples), dtype=self.word_dtype),\n",
        "            (4, n_samples)\n",
        "        )\n",
        "\n",
        "    def key_schedule(self, key):\n",
        "        \"\"\"\n",
        "        Applies the key schedule\n",
        "        :param key: The key\n",
        "        :return: A list of round keys\n",
        "        \"\"\"\n",
        "        return key  # There exist no round keys fo ChaCha and the main key has already the shape we need\n",
        "\n",
        "    @staticmethod\n",
        "    def get_test_vectors():\n",
        "        \"\"\"\n",
        "        Test vectors from https://tools.ietf.org/pdf/rfc7539.pdf, page 9\n",
        "        :return: Returns the test vectors used for verifying the correct implementation of the cipher as a list of\n",
        "            tuples of the form (cipher, plaintext, key, ciphertext), where cipher is an instance of self that will\n",
        "            be used to verify the test vector\n",
        "        \"\"\"\n",
        "        chacha = ChaCha()\n",
        "        key = np.array([[0x03020100], [0x07060504], [0x0b0a0908], [0x0f0e0d0c],\n",
        "                        [0x13121110], [0x17161514], [0x1b1a1918], [0x1f1e1d1c]], dtype=np.uint32)\n",
        "        nonce_and_counter = np.array([[0x00000001], [0x09000000], [0x4a000000], [0x00000000]], dtype=np.uint32)\n",
        "        stream = np.array([\n",
        "            [0xe4e7f110], [0x15593bd1], [0x1fdd0f50], [0xc47120a3],\n",
        "            [0xc7f4d1c7], [0x0368c033], [0x9aaa2204], [0x4e6cd4c3],\n",
        "            [0x466482d2], [0x09aa9f07], [0x05d7c214], [0xa2028bd9],\n",
        "            [0xd19c12b5], [0xb94e16de], [0xe883d0cb], [0x4e3c50a2]\n",
        "        ], dtype=np.uint32)\n",
        "        return [(chacha, nonce_and_counter, key, stream)]"
      ]
    },
    {
      "cell_type": "markdown",
      "metadata": {
        "id": "F9YRNdQ70qnK"
      },
      "source": [
        "## Generate datasets"
      ]
    },
    {
      "cell_type": "markdown",
      "source": [
        "Based on code from: https://github.com/differential-neural/An-Assessment-of-Differential-Neural-Distinguishers"
      ],
      "metadata": {
        "id": "UXfSEmcoeKh_"
      }
    },
    {
      "cell_type": "code",
      "execution_count": null,
      "metadata": {
        "id": "1kz_Kjhc0vdv"
      },
      "outputs": [],
      "source": [
        "from os import urandom\n",
        "import numpy as np\n",
        "\n",
        "def convert_to_binary(arr, n_words, word_size, n_pairs = 1): #-> np.ndarray\n",
        "    if n_words == 0:\n",
        "       sample_len =  word_size\n",
        "    else:\n",
        "      sample_len = 2 * n_words * word_size * n_pairs\n",
        "\n",
        "    n_samples = len(arr[0])\n",
        "\n",
        "    x = np.zeros((sample_len, n_samples), dtype=np.uint8)\n",
        "\n",
        "    for i in range(sample_len):\n",
        "        index = i // word_size\n",
        "        offset = word_size - (i % word_size) - 1\n",
        "        x[i] = (arr[index] >> offset) & 1\n",
        "    x = x.transpose()\n",
        "\n",
        "    return x\n",
        "\n",
        "\n",
        "def preprocess_samples(ct0, ct1, pt0, pt1, cipher, calc_back=0, data_format=None): #-> np.ndarray:\n",
        "    if data_format:\n",
        "        if calc_back != 0:\n",
        "            raise Exception(\"Backwards calculation is not compatible with using a specific data format!\")\n",
        "\n",
        "        if data_format == \"Diffs\":\n",
        "          diffs = []\n",
        "          for block in range(0, cipher.get_n_words()):\n",
        "              diff = ct0[block] ^ ct1[block]\n",
        "              arr  = [np.array(diff, dtype=cipher.main_key_word_dtype)]\n",
        "              diffs.append(arr)\n",
        "\n",
        "          concat = np.concatenate((tuple(diffs)), axis=0)\n",
        "\n",
        "          return convert_to_binary(concat, int(cipher.get_n_words()/2), cipher.get_word_size())\n",
        "\n",
        "        if data_format == \"Pairs\":\n",
        "          return convert_to_binary(np.concatenate((ct0, ct1), axis=0), cipher.get_n_words(), cipher.get_word_size())\n",
        "\n",
        "\n",
        "        if data_format == \"LLS+23\" and type(cipher) is Simon:\n",
        "            # calculate diff = (\\Delta_L^r,\\Delta_R^r)\n",
        "            diff_l = ct0[0] ^ ct1[0]\n",
        "            diff_r = ct0[1] ^ ct1[1]\n",
        "            # calculate diff_r_previous = \\Delta_R^{r-1}\n",
        "            previous0 = cipher.calc_back(ct0, pt0, 1)\n",
        "            previous1 = cipher.calc_back(ct1, pt1, 1)\n",
        "            diff_r_previous = previous0[1] ^ previous1[1]\n",
        "            # calculate diff_r_penultimate = p\\Delta_R^{r-2}\n",
        "            penultimate0 = cipher.calc_back(previous0, pt0, 1)\n",
        "            penultimate1 = cipher.calc_back(previous1, pt1, 1)\n",
        "            diff_r_penultimate = penultimate0[1] ^ penultimate1[1]\n",
        "            # merge into (\\Delta_L^r, \\Delta_R^r, C_l, C_r, C_l', C_r', \\Delta_R^{r-1}, p\\Delta_R^{r-2})\n",
        "            return convert_to_binary(np.concatenate(((diff_l, diff_r), ct0, ct1, (diff_r_previous, diff_r_penultimate)), axis=0), 4, cipher.get_word_size())\n",
        "\n",
        "\n",
        "        if data_format == \"PairsPlus\":\n",
        "            previous0 = cipher.calc_back(ct0, pt0, 1)\n",
        "            previous1 = cipher.calc_back(ct1, pt1, 1)\n",
        "            return convert_to_binary(np.concatenate((previous0, previous1, ct0, ct1), axis=0), cipher.get_n_words(), cipher.get_word_size(), n_pairs = 2)\n",
        "\n",
        "    if calc_back != 0:\n",
        "        # note that the plaintext gets used for ChaCha only\n",
        "        ct0 = cipher.calc_back(ct0, pt0, calc_back)\n",
        "        ct1 = cipher.calc_back(ct1, pt1, calc_back)\n",
        "    # convert to binary and return\n",
        "\n",
        "    return convert_to_binary(np.concatenate((ct0, ct1), axis=0), cipher.get_n_words(), cipher.get_word_size())\n",
        "\n",
        "\n",
        "def make_train_data(n_samples, cipher, diff, calc_back=0, y=None, additional_conditions=None, data_format=None): #-> (np.ndarray, np.ndarray):\n",
        "\n",
        "    # generate labels\n",
        "    if y is None:\n",
        "        y = np.frombuffer(urandom(n_samples), dtype=np.uint8) & 1\n",
        "    elif y == 0 or y == 1:\n",
        "        y = np.array([y for _ in range(n_samples)], dtype=np.uint8)\n",
        "    # draw keys and plaintexts\n",
        "    keys = cipher.draw_keys(n_samples)\n",
        "    pt0 = cipher.draw_plaintexts(n_samples)\n",
        "    if additional_conditions is not None:\n",
        "        pt0 = additional_conditions(pt0)\n",
        "    pt1 = pt0 ^ np.array(diff, dtype=cipher.word_dtype)[:, np.newaxis]\n",
        "    # replace plaintexts in pt1 with random ones if label is 0\n",
        "    num_rand_samples = np.sum(y == 0)\n",
        "    pt1[:, y == 0] = cipher.draw_plaintexts(num_rand_samples)\n",
        "    # encrypt\n",
        "    ct0 = cipher.encrypt(pt0, keys)\n",
        "    ct1 = cipher.encrypt(pt1, keys)\n",
        "    # perform backwards calculation and other preprocessing\n",
        "    x = preprocess_samples(ct0, ct1, pt0, pt1, cipher, calc_back, data_format)\n",
        "    return x, y\n",
        "\n",
        "\n",
        "\n",
        "def make_real_differences_data(n_samples, cipher, diff, calc_back=0): #-> (np.ndarray, np.ndarray):\n",
        "\n",
        "    # generate labels\n",
        "    y = np.frombuffer(urandom(n_samples), dtype=np.uint8) & 1\n",
        "    # draw keys and plaintexts\n",
        "    keys = cipher.draw_keys(n_samples)\n",
        "    pt0 = cipher.draw_plaintexts(n_samples)\n",
        "    pt1 = pt0.copy() ^ np.array(diff, dtype=cipher.word_dtype)[:, np.newaxis]\n",
        "    # encrypt\n",
        "    ct0 = cipher.encrypt(pt0, keys)\n",
        "    ct1 = cipher.encrypt(pt1, keys)\n",
        "    if calc_back != 0:\n",
        "        ct0 = cipher.calc_back(ct0, pt0, calc_back)\n",
        "        ct1 = cipher.calc_back(ct1, pt1, calc_back)\n",
        "    if type(ct0) is tuple or type(ct0) is list:  # Convert ciphertexts into numpy arrays in case they aren't already\n",
        "        ct0 = np.array(ct0, dtype=cipher.word_dtype)\n",
        "        ct1 = np.array(ct1, dtype=cipher.word_dtype)\n",
        "    # blind samples with label 0\n",
        "    num_rand_samples = np.sum(y == 0)\n",
        "    blinding_val = cipher.draw_ciphertexts(num_rand_samples)\n",
        "    ct0[:, y == 0] ^= blinding_val\n",
        "    ct1[:, y == 0] ^= blinding_val\n",
        "    # convert to binary and return\n",
        "    x = convert_to_binary(np.concatenate((ct0, ct1), axis=0), cipher.get_n_words(), cipher.get_word_size())\n",
        "    return x, y\n"
      ]
    },
    {
      "cell_type": "markdown",
      "metadata": {
        "id": "wdlIhW5L3aXx"
      },
      "source": [
        "## Train"
      ]
    },
    {
      "cell_type": "markdown",
      "source": [
        "Based on code from:\n",
        "1. https://github.com/differential-neural/An-Assessment-of-Differential-Neural-Distinguishers\n",
        "2. https://github.com/CryptAnalystDesigner/NeuralDistingsuisherWithInception\n",
        "3. https://github.com/Crypto-TII/AutoND"
      ],
      "metadata": {
        "id": "vlQg2iUSetYT"
      }
    },
    {
      "cell_type": "code",
      "execution_count": null,
      "metadata": {
        "id": "8QcQH9eU3cf6"
      },
      "outputs": [],
      "source": [
        "import numpy as np\n",
        "from pickle import dump\n",
        "from datetime import datetime\n",
        "from tensorflow.keras.callbacks import ModelCheckpoint, LearningRateScheduler\n",
        "from tensorflow.keras.models import Model\n",
        "from tensorflow.keras.layers import Dense, Conv1D, Input, Reshape, Permute, Add, Flatten, BatchNormalization, Activation, Lambda, concatenate\n",
        "from tensorflow.keras.regularizers import l2\n",
        "\n",
        "\n",
        "\n",
        "\n",
        "bs = 5000\n",
        "wdir = './freshly_trained_nets/'\n",
        "\n",
        "\n",
        "def cyclic_lr(num_epochs, high_lr, low_lr):\n",
        "    return lambda i: low_lr + ((num_epochs - 1) - i % num_epochs) / (num_epochs - 1) * (high_lr - low_lr)\n",
        "\n",
        "class MyLRSchedule(keras.optimizers.schedules.LearningRateSchedule):\n",
        "\n",
        "    def __init__(self, initial_learning_rate, final_learning_rate, num_epochs):\n",
        "        self.initial_learning_rate = initial_learning_rate\n",
        "        self.final_learning_rate = final_learning_rate\n",
        "        self.num_epochs = num_epochs\n",
        "\n",
        "    def __call__(self, step):\n",
        "        return self.final_learning_rate + ((self.num_epochs - 1) - step % self.num_epochs) / (self.num_epochs - 1) * (self.initial_learning_rate - self.final_learning_rate)\n",
        "\n",
        "\n",
        "\n",
        "def make_resnet(hp, tune, data_format, shape, num_blocks, word_size, high_lr, low_lr, reg_param, num_epochs):\n",
        "\n",
        "    if data_format == \"Diffs\":\n",
        "      inp = Input(shape=(num_blocks * word_size * 1, ))\n",
        "      rs = Reshape((1 * num_blocks, word_size))(inp)\n",
        "      perm = Permute((2, 1))(rs)\n",
        "    if data_format == \"Pairs\":\n",
        "      inp = Input(shape=(num_blocks * word_size * 2, ))\n",
        "      rs = Reshape((2 * num_blocks, word_size))(inp)\n",
        "      perm = Permute((2, 1))(rs)\n",
        "    if data_format == \"PairsPlus\":\n",
        "      inp = Input(shape=(num_blocks * word_size * 2  * 2,))\n",
        "      rs = Reshape((4 * num_blocks  ,  word_size))(inp)\n",
        "      perm = Permute((2, 1))(rs)\n",
        "\n",
        "    train_shape = None\n",
        "    search_ks = None\n",
        "    ks1 = 1\n",
        "    ks = 3\n",
        "\n",
        "    if shape == \"UNSHAPED\":\n",
        "      train_shape = Reshape((num_blocks * word_size * 2, 1))(inp)\n",
        "      search_ks = num_blocks * word_size\n",
        "    else:\n",
        "      train_shape = perm\n",
        "      search_ks = word_size\n",
        "\n",
        "\n",
        "\n",
        "\n",
        "\n",
        "    if tune is True:\n",
        "      reg_param = hp.Float(\"reg_param\", 0.000000001 , 0.0001, step=0.000000001, default = reg_param)\n",
        "      #ks1 = hp.Int('ks1', min_value=1, max_value= search_ks, step=1, default = ks1)\n",
        "      ks = hp.Int('ks', min_value=1, max_value= search_ks, step=1, default = ks)\n",
        "      high_lr = hp.Float(\"high_lr\", 0.0001 , 0.01, step=0.0001, default = high_lr)\n",
        "      low_lr = hp.Float(\"low_lr\", 0.000001 , 0.001, step=0.000001, default = low_lr)\n",
        "\n",
        "\n",
        "\n",
        "\n",
        "\n",
        "    conv0 = Conv1D(32, kernel_size= ks1, padding='same', kernel_regularizer=l2(reg_param))(train_shape)\n",
        "    conv0 = BatchNormalization()(conv0)\n",
        "    conv0 = Activation('relu')(conv0)\n",
        "\n",
        "    shortcut = conv0\n",
        "    for i in range(10):\n",
        "        conv1 = Conv1D(32, kernel_size= ks, padding='same', kernel_regularizer=l2(reg_param))(shortcut)\n",
        "        conv1 = BatchNormalization()(conv1)\n",
        "        conv1 = Activation('relu')(conv1)\n",
        "        conv2 = Conv1D(32, kernel_size= ks, padding='same', kernel_regularizer=l2(reg_param))(conv1)\n",
        "        conv2 = BatchNormalization()(conv2)\n",
        "        conv2 = Activation('relu')(conv2)\n",
        "        shortcut = Add()([shortcut, conv2])\n",
        "\n",
        "    flat1 = Flatten()(shortcut)\n",
        "\n",
        "    dense1 = Dense(64, kernel_regularizer=l2(reg_param))(flat1)\n",
        "    dense1 = BatchNormalization()(dense1)\n",
        "    dense1 = Activation('relu')(dense1)\n",
        "\n",
        "    dense2 = Dense(64, kernel_regularizer=l2(reg_param))(dense1)\n",
        "    dense2 = BatchNormalization()(dense2)\n",
        "    dense2 = Activation('relu')(dense2)\n",
        "\n",
        "    out = Dense(1, activation='sigmoid', kernel_regularizer=l2(reg_param))(dense2)\n",
        "    model = Model(inputs=inp, outputs=out)\n",
        "\n",
        "    #Add this everywhere and remove from main\n",
        "    model.compile(optimizer= keras.optimizers.Adam(learning_rate = MyLRSchedule(high_lr, low_lr, 5)), loss='mse', metrics=['acc'])\n",
        "\n",
        "    return model\n",
        "\n",
        "\n",
        "\n",
        "def make_MLP(hp, tune, data_format, shape, num_blocks, word_size, high_lr, low_lr, reg_param, num_epochs):\n",
        "\n",
        "    chunks = 0\n",
        "\n",
        "    #Add variant for False with INSHAPE\n",
        "    special_treatment_when_input_is_INSHAPE = True\n",
        "\n",
        "    if data_format == \"Diffs\":\n",
        "      inp = Input(shape=(num_blocks * word_size * 1, ))\n",
        "      rs = Reshape((1 * num_blocks, word_size))(inp)\n",
        "      perm = Permute((2, 1))(rs)\n",
        "      chunks = num_blocks\n",
        "    if data_format == \"Pairs\":\n",
        "      inp = Input(shape=(num_blocks * word_size * 2, ))\n",
        "      rs = Reshape((2 * num_blocks, word_size))(inp)\n",
        "      perm = Permute((2, 1))(rs)\n",
        "      chunks = num_blocks * 2\n",
        "    if data_format == \"PairsPlus\":\n",
        "      inp = Input(shape=(num_blocks * word_size * 2  * 2,))\n",
        "      rs = Reshape((4 * num_blocks  ,  word_size))(inp)\n",
        "      perm = Permute((2, 1))(rs)\n",
        "      chunks = num_blocks * 4\n",
        "\n",
        "\n",
        "    if tune is True:\n",
        "      reg_param = hp.Float(\"reg_param\", 0.000000001 , 0.0001, step=0.000000001, default = reg_param)\n",
        "      high_lr = hp.Float(\"high_lr\", 0.0001 , 0.01, step=0.0001, default = high_lr)\n",
        "      low_lr = hp.Float(\"low_lr\", 0.000001 , 0.001, step=0.000001, default = low_lr)\n",
        "\n",
        "\n",
        "\n",
        "\n",
        "    outputs = []\n",
        "    combined = None\n",
        "\n",
        "\n",
        "\n",
        "\n",
        "\n",
        "    if shape == \"UNSHAPED\":\n",
        "\n",
        "      dense = Dense(chunks * word_size, kernel_regularizer=l2(reg_param))(inp)\n",
        "      dense = BatchNormalization()(dense)\n",
        "      dense = Activation('relu')(dense)\n",
        "\n",
        "      dense = Dense(chunks * word_size, kernel_regularizer=l2(reg_param))(dense)\n",
        "      dense = BatchNormalization()(dense)\n",
        "      dense = Activation('relu')(dense)\n",
        "\n",
        "      combined = dense\n",
        "\n",
        "    else: #For shape a simple MLP that takes reshaped input does not work - but when given the full unshaped input a simple MLP does\n",
        "          #To boost the performance we do this special thing to train on reshaped input\n",
        "\n",
        "      if special_treatment_when_input_is_INSHAPE is True:\n",
        "          for chunk in list(range(0,chunks)):\n",
        "              dense = Dense(word_size, kernel_regularizer=l2(reg_param))(perm[:, :, chunk])\n",
        "              dense = BatchNormalization()(dense)\n",
        "              dense = Activation('relu')(dense)\n",
        "\n",
        "              dense = Dense(word_size, kernel_regularizer=l2(reg_param))(dense)\n",
        "              dense = BatchNormalization()(dense)\n",
        "              dense = Activation('relu')(dense)\n",
        "              outputs.append(dense)\n",
        "\n",
        "          # Concatenate the outputs of the four MLPs\n",
        "          combined = keras.layers.concatenate(outputs)\n",
        "      else:\n",
        "        dense = Dense(word_size, kernel_regularizer=l2(reg_param))(perm)\n",
        "        dense = BatchNormalization()(dense)\n",
        "        dense = Activation('relu')(dense)\n",
        "\n",
        "        dense = Dense(word_size, kernel_regularizer=l2(reg_param))(dense)\n",
        "        dense = BatchNormalization()(dense)\n",
        "        dense = Activation('relu')(dense)\n",
        "\n",
        "        combined = dense\n",
        "\n",
        "\n",
        "\n",
        "    num_layers_init =  3\n",
        "    #size = [64, 64, 32]\n",
        "    size_init = [chunks * word_size, chunks * word_size, int(chunks * word_size/2)]\n",
        "\n",
        "    if tune is True:\n",
        "      num_layers = hp.Int('num_layers', min_value=1, max_value= chunks*word_size, step=1, default = num_layers_init)\n",
        "\n",
        "    x = combined\n",
        "    counter = 0\n",
        "    for i in range(0, num_layers):\n",
        "      if tune is True:\n",
        "        size = hp.Int('size_layer'+str(counter), min_value=1, max_value= chunks*word_size * 4, step=1)\n",
        "        x = Dense(size, kernel_regularizer=l2(reg_param))(x)\n",
        "      else:\n",
        "        size = size_init\n",
        "        x = Dense(size[counter], kernel_regularizer=l2(reg_param))(x)\n",
        "\n",
        "\n",
        "      x = BatchNormalization()(x)\n",
        "      x = Activation('relu')(x)\n",
        "      counter = counter + 1\n",
        "\n",
        "    out = Dense(1, activation='sigmoid', kernel_regularizer=l2(reg_param))(x)\n",
        "    model = Model(inputs=inp, outputs=out)\n",
        "\n",
        "    model.compile(optimizer= keras.optimizers.Adam(learning_rate = MyLRSchedule(high_lr, low_lr, 5)), loss='mse', metrics=['acc'])\n",
        "\n",
        "\n",
        "    return model\n",
        "\n",
        "\n",
        "\n",
        "def make_Gohr_Inception_1stB(hp, tune, data_format, shape, num_blocks, word_size, high_lr, low_lr, reg_param, num_epochs):\n",
        "\n",
        "    if data_format == \"Diffs\":\n",
        "      inp = Input(shape=(num_blocks * word_size * 1, ))\n",
        "      rs = Reshape((1 * num_blocks, word_size))(inp)\n",
        "      perm = Permute((2, 1))(rs)\n",
        "    if data_format == \"Pairs\":\n",
        "      inp = Input(shape=(num_blocks * word_size * 2, ))\n",
        "      rs = Reshape((2 * num_blocks, word_size))(inp)\n",
        "      perm = Permute((2, 1))(rs)\n",
        "    if data_format == \"PairsPlus\":\n",
        "      inp = Input(shape=(num_blocks * word_size * 2  * 2,))\n",
        "      rs = Reshape((4 * num_blocks  ,  word_size))(inp)\n",
        "      perm = Permute((2, 1))(rs)\n",
        "\n",
        "    train_shape = None\n",
        "    search_ks = None\n",
        "    num_filters=32\n",
        "\n",
        "    ks1 = 1\n",
        "    ks2 = 3\n",
        "    ks3 = 5\n",
        "    ks4 = 7\n",
        "    ks = 3\n",
        "\n",
        "    if shape == \"UNSHAPED\":\n",
        "      train_shape = Reshape((num_blocks * word_size * 2, 1))(inp)\n",
        "      search_ks = num_blocks * word_size\n",
        "    else:\n",
        "      train_shape = perm\n",
        "      search_ks = word_size\n",
        "\n",
        "\n",
        "\n",
        "\n",
        "    if tune is True:\n",
        "      reg_param = hp.Float(\"reg_param\", 0.000000001 , 0.0001, step=0.000000001, default = reg_param)\n",
        "      #ks1 = hp.Int('ks1', min_value=1, max_value= search_ks, step=1, default = ks1)\n",
        "      ks2 = hp.Int('ks2', min_value=1, max_value= search_ks, step=1, default = ks2)\n",
        "      ks3 = hp.Int('ks3', min_value=1, max_value= search_ks, step=1, default = ks3)\n",
        "      ks4 = hp.Int('ks4', min_value=1, max_value= search_ks, step=1, default = ks4)\n",
        "      ks = hp.Int('ks', min_value=1, max_value= search_ks, step=1, default = ks)\n",
        "      high_lr = hp.Float(\"high_lr\", 0.0001 , 0.01, step=0.0001, default = high_lr)\n",
        "      low_lr = hp.Float(\"low_lr\", 0.000001 , 0.001, step=0.000001, default = low_lr)\n",
        "\n",
        "    conv01 = Conv1D(num_filters, kernel_size=ks1, padding='same', kernel_regularizer=l2(reg_param))(perm)\n",
        "    conv02 = Conv1D(num_filters, kernel_size=ks2, padding='same', kernel_regularizer=l2(reg_param))(perm)\n",
        "    conv03 = Conv1D(num_filters, kernel_size=ks3, padding='same', kernel_regularizer=l2(reg_param))(perm)\n",
        "    conv04 = Conv1D(num_filters, kernel_size=ks4, padding='same', kernel_regularizer=l2(reg_param))(perm)\n",
        "\n",
        "    c2 = keras.layers.concatenate([conv01, conv02, conv03, conv04], axis=-1)\n",
        "    conv0 = BatchNormalization()(c2)\n",
        "    conv0 = Activation('relu')(conv0)\n",
        "\n",
        "    shortcut = conv0\n",
        "\n",
        "\n",
        "    for i in range(10):\n",
        "        conv1 = Conv1D(num_filters*4, kernel_size=ks, padding='same', kernel_regularizer=l2(reg_param))(shortcut)\n",
        "        conv1 = BatchNormalization()(conv1)\n",
        "        conv1 = Activation('relu')(conv1)\n",
        "        conv2 = Conv1D(num_filters*4, kernel_size=ks, padding='same', kernel_regularizer=l2(reg_param))(conv1)\n",
        "        conv2 = BatchNormalization()(conv2)\n",
        "        conv2 = Activation('relu')(conv2)\n",
        "        shortcut = Add()([shortcut, conv2])\n",
        "        ks += 2\n",
        "\n",
        "\n",
        "    flat1 = Flatten()(shortcut)\n",
        "    dense0 = keras.layers.Dropout(0.8)(flat1) #Dropout added to reduce overfitting - as mentioned in paper\n",
        "    dense0 = Dense(512, kernel_regularizer=l2(reg_param))(dense0)\n",
        "\n",
        "    # dense0 = Dense(512, kernel_regularizer=l2(reg_param))(flat1)\n",
        "\n",
        "    dense0 = BatchNormalization()(dense0)\n",
        "    dense0 = Activation('relu')(dense0)\n",
        "    dense1 = Dense(64, kernel_regularizer=l2(reg_param))(dense0)\n",
        "    dense1 = BatchNormalization()(dense1)\n",
        "    dense1 = Activation('relu')(dense1)\n",
        "    dense2 = Dense(64, kernel_regularizer=l2(reg_param))(dense1)\n",
        "    dense2 = BatchNormalization()(dense2)\n",
        "    dense2 = Activation('relu')(dense2)\n",
        "    out = Dense(1, activation='sigmoid', kernel_regularizer=l2(reg_param))(dense2)\n",
        "    model = Model(inputs=inp, outputs=out)\n",
        "\n",
        "    model.compile(optimizer= keras.optimizers.Adam(learning_rate = MyLRSchedule(high_lr, low_lr, 5)), loss='mse', metrics=['acc'])\n",
        "\n",
        "\n",
        "    return(model)\n",
        "\n",
        "\n",
        "\n",
        "\n",
        "def make_Gohr_Inception_2ndB(hp, tune, data_format, shape, num_blocks, word_size, high_lr, low_lr, reg_param, num_epochs):\n",
        "\n",
        "    if data_format == \"Diffs\":\n",
        "      inp = Input(shape=(num_blocks * word_size * 1, ))\n",
        "      rs = Reshape((1 * num_blocks, word_size))(inp)\n",
        "      perm = Permute((2, 1))(rs)\n",
        "    if data_format == \"Pairs\":\n",
        "      inp = Input(shape=(num_blocks * word_size * 2, ))\n",
        "      rs = Reshape((2 * num_blocks, word_size))(inp)\n",
        "      perm = Permute((2, 1))(rs)\n",
        "    if data_format == \"PairsPlus\":\n",
        "      inp = Input(shape=(num_blocks * word_size * 2  * 2,))\n",
        "      rs = Reshape((4 * num_blocks  ,  word_size))(inp)\n",
        "      perm = Permute((2, 1))(rs)\n",
        "\n",
        "    train_shape = None\n",
        "    search_ks = None\n",
        "    num_filters=32\n",
        "    ks1 = 1\n",
        "    ks01 = 1\n",
        "    ks02 = 2\n",
        "    ks03 = 4\n",
        "    ks04 = 8\n",
        "    ks2 = 1\n",
        "\n",
        "\n",
        "    if shape == \"UNSHAPED\":\n",
        "      train_shape = Reshape((num_blocks * word_size * 2, 1))(inp)\n",
        "      search_ks = num_blocks * word_size\n",
        "    else:\n",
        "      train_shape = perm\n",
        "      search_ks = word_size\n",
        "\n",
        "\n",
        "    if tune is True:\n",
        "      reg_param = hp.Float(\"reg_param\", 0.000000001 , 0.0001, step=0.000000001, default = reg_param)\n",
        "      #ks1 = hp.Int('ks1', min_value=1, max_value= search_ks, step=1, default = ks1)\n",
        "      ks01 = hp.Int('ks01', min_value=1, max_value= search_ks, step=1, default = ks01)\n",
        "      ks02 = hp.Int('ks02', min_value=1, max_value= search_ks, step=1, default = ks02)\n",
        "      ks03 = hp.Int('ks03', min_value=1, max_value= search_ks, step=1, default = ks03)\n",
        "      ks04 = hp.Int('ks04', min_value=1, max_value= search_ks, step=1, default = ks04)\n",
        "      #ks2 = hp.Int('ks2', min_value=1, max_value= search_ks, step=1, default = ks2)\n",
        "\n",
        "      high_lr = hp.Float(\"high_lr\", 0.0001 , 0.01, step=0.0001, default = high_lr)\n",
        "      low_lr = hp.Float(\"low_lr\", 0.000001 , 0.001, step=0.000001, default = low_lr)\n",
        "\n",
        "    conv0 = Conv1D(3 * num_filters, kernel_size=ks1, padding='same', kernel_regularizer=l2(reg_param))(train_shape)\n",
        "    conv0 = BatchNormalization()(conv0)\n",
        "    conv0 = Activation('relu')(conv0)\n",
        "\n",
        "    shortcut = conv0\n",
        "    for i in range(10):\n",
        "        conv = Conv1D(3 * num_filters, kernel_size=ks01, padding='same', kernel_regularizer=l2(reg_param))(shortcut)\n",
        "\n",
        "        conv01 = Conv1D(num_filters, kernel_size=ks02, padding='same', kernel_regularizer=l2(reg_param))(conv)\n",
        "        conv02 = Conv1D(num_filters, kernel_size=ks03, padding='same', kernel_regularizer=l2(reg_param))(conv)\n",
        "        conv03 = Conv1D(num_filters, kernel_size=ks04, padding='same', kernel_regularizer=l2(reg_param))(conv)\n",
        "\n",
        "        concat = keras.layers.concatenate([conv01, conv02, conv03], axis=-1)\n",
        "        concat = BatchNormalization()(concat)\n",
        "        concat = Activation('relu')(concat)\n",
        "\n",
        "        conv2 = Conv1D(3 * num_filters, kernel_size=ks2, padding='same', kernel_regularizer=l2(reg_param))(concat)\n",
        "        conv2 = BatchNormalization()(conv2)\n",
        "        conv2 = Activation('relu')(conv2)\n",
        "        shortcut = Add()([shortcut, conv2])\n",
        "\n",
        "    flat = Flatten()(shortcut)\n",
        "\n",
        "    #pool = keras.layers.GlobalAveragePooling1D()(flat)\n",
        "\n",
        "    dense1 = Dense(64, kernel_regularizer=l2(reg_param))(flat)\n",
        "    dense1 = BatchNormalization()(dense1)\n",
        "    dense1 = Activation('relu')(dense1)\n",
        "\n",
        "    dense2 = Dense(64, kernel_regularizer=l2(reg_param))(dense1)\n",
        "    dense2 = BatchNormalization()(dense2)\n",
        "    dense2 = Activation('relu')(dense2)\n",
        "\n",
        "    out = Dense(1, activation='sigmoid', kernel_regularizer=l2(reg_param))(dense2)\n",
        "    model = Model(inputs=inp, outputs=out)\n",
        "\n",
        "    model.compile(optimizer= keras.optimizers.Adam(learning_rate = MyLRSchedule(high_lr, low_lr, 5)), loss='mse', metrics=['acc'])\n",
        "\n",
        "\n",
        "    return model\n",
        "\n",
        "\n",
        "\n",
        "\n",
        "def get_dilation_rates(input_size):\n",
        "    \"\"\"Helper function to determine the dilation rates of DBitNet given an input_size. \"\"\"\n",
        "    drs = []\n",
        "    while input_size >= 8:\n",
        "        drs.append(int(input_size / 2 - 1))\n",
        "        input_size = input_size // 2\n",
        "\n",
        "    return drs\n",
        "\n",
        "\n",
        "def make_DBIT(hp, tune, data_format, shape, num_blocks, word_size, high_lr, low_lr, reg_param, num_epochs):\n",
        "    input_size = None\n",
        "\n",
        "    #From here, only the input size is taken as the model does not need reshaping\n",
        "    if data_format == \"Diffs\":\n",
        "      inp = Input(shape=(num_blocks * word_size * 1, ))\n",
        "      rs = Reshape((1 * num_blocks, word_size))(inp)\n",
        "      perm = Permute((2, 1))(rs)\n",
        "      input_size= num_blocks * word_size * 1\n",
        "    if data_format == \"Pairs\":\n",
        "      inp = Input(shape=(num_blocks * word_size * 2, ))\n",
        "      rs = Reshape((2 * num_blocks, word_size))(inp)\n",
        "      perm = Permute((2, 1))(rs)\n",
        "      input_size= num_blocks * word_size * 2\n",
        "    if data_format == \"PairsPlus\":\n",
        "      inp = Input(shape=(num_blocks * word_size * 2  * 2,))\n",
        "      rs = Reshape((4 * num_blocks  ,  word_size))(inp)\n",
        "      perm = Permute((2, 1))(rs)\n",
        "      input_size= num_blocks * word_size * 4\n",
        "\n",
        "\n",
        "    '''\n",
        "    train_shape = None\n",
        "    if shape == \"UNSHAPED\":\n",
        "      train_shape = Reshape((num_blocks * word_size * 2, 1))(inp)\n",
        "    else:\n",
        "      train_shape = perm\n",
        "    '''\n",
        "\n",
        "    n_filters=32\n",
        "    n_add_filters=16\n",
        "\n",
        "\n",
        "    # determine the dilation rates from the given input size\n",
        "    dilation_rates = get_dilation_rates(input_size)\n",
        "\n",
        "    # prediction head parameters (similar to Gohr)\n",
        "    d1 = 256 # TODO this can likely be reduced to 64.\n",
        "    d2 = 64\n",
        "    reg_param = 1e-5\n",
        "\n",
        "    # define the input shape\n",
        "    inputs = Input(shape=(input_size, 1))\n",
        "    x = inputs\n",
        "\n",
        "    # normalize the input data to a range of [-1, 1]:\n",
        "    x = tf.subtract(x, 0.5)\n",
        "    x = tf.divide(x, 0.5)\n",
        "\n",
        "    for dilation_rate in dilation_rates:\n",
        "        ### wide-narrow blocks\n",
        "        x = Conv1D(filters=n_filters,kernel_size=2,padding='valid', dilation_rate=dilation_rate,strides=1,activation='relu')(x)\n",
        "        x = BatchNormalization()(x)\n",
        "        x_skip = x\n",
        "        x = Conv1D(filters=n_filters,kernel_size=2,padding='causal',dilation_rate=1,activation='relu')(x)\n",
        "        x = Add()([x, x_skip])\n",
        "        x = BatchNormalization()(x)\n",
        "\n",
        "        n_filters += n_add_filters\n",
        "\n",
        "    ### prediction head\n",
        "    out = tf.keras.layers.Flatten()(x)\n",
        "\n",
        "    dense0 = Dense(d1, kernel_regularizer=l2(reg_param))(out);\n",
        "    dense0 = BatchNormalization()(dense0);\n",
        "    dense0 = Activation('relu')(dense0);\n",
        "    dense1 = Dense(d1, kernel_regularizer=l2(reg_param))(dense0);\n",
        "    dense1 = BatchNormalization()(dense1);\n",
        "    dense1 = Activation('relu')(dense1);\n",
        "    dense2 = Dense(d2, kernel_regularizer=l2(reg_param))(dense1);\n",
        "    dense2 = BatchNormalization()(dense2);\n",
        "    dense2 = Activation('relu')(dense2);\n",
        "    out = Dense(1, activation='sigmoid', kernel_regularizer=l2(reg_param))(dense2)\n",
        "\n",
        "    model = Model(inputs, out)\n",
        "\n",
        "    model.compile(optimizer= tf.keras.optimizers.Adam(amsgrad=True), loss='mse', metrics=['acc'])\n",
        "\n",
        "\n",
        "    return model\n",
        "\n",
        "\n",
        "\n",
        "\n",
        "\n",
        "#def create_distinguisher(cipher, data_format, network, shape, tune, num_epochs, hp):\n",
        "def create_distinguisher(hp):\n",
        "    high_lr=0.002\n",
        "    low_lr=0.0001\n",
        "    reg_param=0.0001\n",
        "\n",
        "\n",
        "    # create the network\n",
        "    net = None\n",
        "\n",
        "    if G_network == \"Gohr\":\n",
        "        net = make_resnet(hp = hp, tune = G_tune, data_format = G_data_format, shape = G_shape, num_blocks = G_cipher.get_n_words(), word_size = G_cipher.get_word_size(), high_lr = high_lr, low_lr = low_lr, reg_param = reg_param, num_epochs = G_num_epochs)\n",
        "\n",
        "    if G_network == \"MLP\": #TD\n",
        "        net = make_MLP(hp = hp, tune = G_tune, data_format = G_data_format, shape = G_shape, num_blocks = G_cipher.get_n_words(), word_size = G_cipher.get_word_size(), high_lr = high_lr, low_lr = low_lr, reg_param = reg_param, num_epochs = G_num_epochs)\n",
        "\n",
        "    if G_network == \"GohrInception1stB\":\n",
        "\n",
        "        net = make_Gohr_Inception_1stB(hp = hp, tune = G_tune, data_format = G_data_format, shape = G_shape, num_blocks = G_cipher.get_n_words(), word_size = G_cipher.get_word_size(), high_lr = high_lr, low_lr = low_lr, reg_param = reg_param, num_epochs = G_num_epochs)\n",
        "\n",
        "    if G_network == \"GohrInception2ndB\":\n",
        "        net = make_Gohr_Inception_2ndB(hp = hp, tune = G_tune, data_format = G_data_format, shape = G_shape, num_blocks = G_cipher.get_n_words(), word_size = G_cipher.get_word_size(), high_lr = high_lr, low_lr = low_lr, reg_param = reg_param, num_epochs = G_num_epochs)\n",
        "\n",
        "    if G_network == \"DBIT\":\n",
        "        net = make_DBIT(hp = hp, tune = G_tune, data_format = G_data_format, shape = G_shape, num_blocks = G_cipher.get_n_words(), word_size = G_cipher.get_word_size(), high_lr = high_lr, low_lr = low_lr, reg_param = reg_param, num_epochs = G_num_epochs)\n",
        "\n",
        "\n",
        "    return net"
      ]
    },
    {
      "cell_type": "markdown",
      "metadata": {
        "id": "RZtGXvVoz1wT"
      },
      "source": [
        "## Evaluate"
      ]
    },
    {
      "cell_type": "markdown",
      "source": [
        "Based on code from: https://github.com/agohr/deep_speck"
      ],
      "metadata": {
        "id": "I8yvaMp1hLE6"
      }
    },
    {
      "cell_type": "code",
      "execution_count": null,
      "metadata": {
        "id": "N3h_btKOz63f"
      },
      "outputs": [],
      "source": [
        "import numpy as np\n",
        "\n",
        "def evaluate(net, X, Y):\n",
        "    Z = net.predict(X, batch_size=10000).flatten()\n",
        "    Zbin = (Z > 0.5)\n",
        "\n",
        "    n = len(Z)\n",
        "    n0 = np.sum(Y == 0)\n",
        "    n1 = np.sum(Y == 1)\n",
        "\n",
        "    acc = np.sum(Zbin == Y) / n\n",
        "    tpr = np.sum(Zbin[Y == 1]) / n1\n",
        "    tnr = np.sum(Zbin[Y == 0] == 0) / n0\n",
        "\n",
        "    print(\"Accuracy: \", acc, \"TPR: \", tpr, \"TNR: \", tnr)\n",
        "    return (acc, tpr, tnr)"
      ]
    },
    {
      "cell_type": "markdown",
      "metadata": {
        "id": "G4_h8QJX6AST"
      },
      "source": [
        "## Train and evaluate"
      ]
    },
    {
      "cell_type": "code",
      "execution_count": null,
      "metadata": {
        "id": "GOBUcvgJqSvx"
      },
      "outputs": [],
      "source": [
        "def train_and_evaluate(experiment_name, cipher_class, n_rounds, diff, reps, data_format, network = \"Gohr\", shape = \"INSHAPE\", tune = False, num_epochs = 10):\n",
        "\n",
        "\n",
        "  cipher = cipher_class(n_rounds)\n",
        "\n",
        "  print(\"SET GLOBAL VARIABLES\")\n",
        "  set_global_variables(cipher = cipher, data_format = data_format, network = network, shape = shape, tune = tune, num_epochs = num_epochs)\n",
        "  print_global_variables()\n",
        "  print(\"Blocks: \" + str(cipher.get_n_words()))\n",
        "  print(\"Word size: \" + str(cipher.get_word_size()))\n",
        "\n",
        "  n_train_samples=10**7\n",
        "  n_val_samples=10**6\n",
        "  n_test_samples = 10**6\n",
        "\n",
        "  batch_size = 5000\n",
        "\n",
        "\n",
        "  f = open(experiment_name + \"_\" + cipher_class.get_name() + \"_\" + str(n_rounds) + \"R\" + \"_Net:\" + network + \"_\" + shape + \"_\"+ data_format + \"Tuning:\" + str(tune) +\".txt\", \"a\")\n",
        "  f.write(\"Cipher: \" + str(cipher_class.get_name()) + \" - \" + str(n_rounds) +\" Rounds\" + \" - Blocks: \" + str(cipher.get_n_words()) + \" - Word size: \"+ str(cipher.get_word_size()) + \"\\n\")\n",
        "  f.write(\"Input difference: \" + str(diff) + \"\\n\")\n",
        "  f.write(\"Network: \" + network + \" - Tuning: \" + str(tune) + \"\\n\")\n",
        "  f.write(\"Trains on: \" + data_format + \" - \" + shape + \"\\n\")\n",
        "  f.close()\n",
        "\n",
        "\n",
        "\n",
        "  best_model = None\n",
        "\n",
        "\n",
        "\n",
        "  if tune is True:\n",
        "      tuner = keras_tuner.BayesianOptimization(create_distinguisher,\n",
        "                                              objective='val_acc',\n",
        "                                              max_trials=50)\n",
        "\n",
        "      x_train, y_train = make_train_data(n_samples = n_train_samples, cipher = cipher, diff = diff, data_format = data_format)\n",
        "      x_val, y_val     = make_train_data(n_samples = n_val_samples,   cipher = cipher, diff = diff, data_format = data_format)\n",
        "\n",
        "\n",
        "\n",
        "      stop_early_tune = tf.keras.callbacks.EarlyStopping(monitor='val_acc', patience= 3, restore_best_weights= True)\n",
        "      tuner.search(x_train, y_train, epochs = 10, batch_size=batch_size, validation_data=(x_val, y_val), callbacks=[stop_early_tune])\n",
        "      best_hps = tuner.get_best_hyperparameters(num_trials=1)[0]\n",
        "\n",
        "      print(\"------------------------------------\\n\")\n",
        "      print(\"TUNER SUMMARY:\")\n",
        "      print(\"------------------------------------\\n\")\n",
        "      tuner.results_summary(num_trials=1)\n",
        "\n",
        "      f = open(experiment_name + \"_\" + cipher_class.get_name() + \"_\" + str(n_rounds) + \"R\" + \"_Net:\" + network + \"_\" + shape + \"_\"+ data_format + \"Tuning:\" + str(tune) +\".txt\", \"a\")\n",
        "      f.write(\"--------------------------------- \\n\")\n",
        "      f.write(\"TUNER SUMMARY: \\n\" + str(tuner.oracle.get_best_trials(num_trials=1)[0].hyperparameters.values))\n",
        "      f.write(\"--------------------------------- \\n\")\n",
        "      f.close()\n",
        "\n",
        "\n",
        "      best_model = tuner.hypermodel.build(best_hps)\n",
        "\n",
        "\n",
        "\n",
        "\n",
        "  accs = []\n",
        "  tprs = []\n",
        "  tnrs = []\n",
        "\n",
        "\n",
        "  f = open(experiment_name + \"_\" + cipher_class.get_name() + \"_\" + str(n_rounds) + \"R\" + \"_Net:\" + network + \"_\" + shape + \"_\"+ data_format + \"Tuning:\" + str(tune) +\".txt\", \"a\")\n",
        "  f.write(\"\\n\")\n",
        "  print(\"TRAINING STARTS\")\n",
        "  f.write(\"--------------------------------- \\n\")\n",
        "  f.write(\"TRAINING STARTS!\\n\")\n",
        "  f.write(\"--------------------------------- \\n\")\n",
        "  f.close()\n",
        "\n",
        "  for i in range(0, reps):\n",
        "\n",
        "      distinguisher = None\n",
        "      if tune is True:\n",
        "        distinguisher = tuner.hypermodel.build(best_hps)\n",
        "      else:\n",
        "        set_global_variables(cipher = cipher, data_format = data_format, network = network, shape = shape, tune = tune, num_epochs = num_epochs)\n",
        "        distinguisher = create_distinguisher(hp = None)\n",
        "\n",
        "      x_train, y_train = make_train_data(n_samples = n_train_samples, cipher = cipher, diff = diff, data_format = data_format)\n",
        "      x_val, y_val     = make_train_data(n_samples = n_val_samples,   cipher = cipher, diff = diff, data_format = data_format)\n",
        "      x_test, y_test   = make_train_data(n_samples = n_test_samples,  cipher = cipher, diff = diff, data_format = data_format)\n",
        "\n",
        "      stop_early = tf.keras.callbacks.EarlyStopping(monitor='val_acc', patience= 3, restore_best_weights= True)\n",
        "      distinguisher.fit(x_train, y_train, epochs= num_epochs, batch_size=batch_size, validation_data=(x_val, y_val), callbacks=[stop_early])\n",
        "\n",
        "      (acc, tpr, tnr) = evaluate(distinguisher, x_test, y_test)\n",
        "      accs.append(acc)\n",
        "      tprs.append(tpr)\n",
        "      tnrs.append(tnr)\n",
        "\n",
        "      f = open(experiment_name + \"_\" + cipher_class.get_name() + \"_\" + str(n_rounds) + \"R\" + \"_Net:\" + network + \"_\" + shape + \"_\"+ data_format + \"Tuning:\" + str(tune) +\".txt\", \"a\")\n",
        "      f.write(\"Trial:\" + str(i) + \" - \" + \"ACC:\" + str(acc) + \"  \" + \"TPR:\" + str(tpr) + \"  \" + \"TNR:\" + str(tnr) + \"\\n\")\n",
        "      f.close()\n",
        "\n",
        "\n",
        "\n",
        "  f = open(experiment_name + \"_\" + cipher_class.get_name() + \"_\" + str(n_rounds) + \"R\" + \"_Net:\" + network + \"_\" + shape + \"_\"+ data_format + \"Tuning:\" + str(tune) +\".txt\", \"a\")\n",
        "  f.write(\"\\n\")\n",
        "\n",
        "  print(\"Accs list:\")\n",
        "  print(accs)\n",
        "  f.write(\"Accs list: \")\n",
        "  f.write(str(accs))\n",
        "  f.write(\"\\n\")\n",
        "  f.close()\n",
        "\n",
        "\n",
        "\n",
        "  f = open(experiment_name + \"_\" + cipher_class.get_name() + \"_\" + str(n_rounds) + \"R\" + \"_Net:\" + network + \"_\" + shape + \"_\"+ data_format + \"Tuning:\" + str(tune) +\".txt\", \"a\")\n",
        "  print(\"Tprs list:\")\n",
        "  print(tprs)\n",
        "  f.write(\"Tprs list: \")\n",
        "  f.write(str(tprs))\n",
        "  f.write(\"\\n\")\n",
        "  f.close()\n",
        "\n",
        "\n",
        "  f = open(experiment_name + \"_\" + cipher_class.get_name() + \"_\" + str(n_rounds) + \"R\" + \"_Net:\" + network + \"_\" + shape + \"_\"+ data_format + \"Tuning:\" + str(tune) +\".txt\", \"a\")\n",
        "  print(\"Tnrs list:\")\n",
        "  print(tnrs)\n",
        "  f.write(\"Tnrs list: \")\n",
        "  f.write(str(tnrs))\n",
        "  f.write(\"\\n\")\n",
        "  f.write(\"\\n\")\n",
        "\n",
        "  f.close()\n",
        "\n",
        "\n",
        "\n",
        "  f = open(experiment_name + \"_\" + cipher_class.get_name() + \"_\" + str(n_rounds) + \"R\" + \"_Net:\" + network + \"_\" + shape + \"_\"+ data_format + \"Tuning:\" + str(tune) +\".txt\", \"a\")\n",
        "  f.write(\"\\n\")\n",
        "\n",
        "  f.write(\"RESULTS: \\n\" +\n",
        "            \"Acc: \" + str(np.mean(accs)) + str(\" +- \") + str(np.std(accs)) + str(\"\\n\") +\n",
        "            \"Tpr:\" + str(np.mean(tprs)) + str(\" +- \") + str(np.std(tprs)) + str(\"\\n\") +\n",
        "            \"Tnr:\" + str(np.mean(tnrs)) + str(\" +- \") + str(np.std(tnrs)) + str(\"\\n\"))\n",
        "  f.close()\n",
        "\n",
        "  print(\"RESULTS: \\n\" +\n",
        "            \"Acc: \" + str(np.mean(accs)) + str(\" +- \") + str(np.std(accs)) + str(\"\\n\") +\n",
        "            \"Tpr:\" + str(np.mean(tprs)) + str(\" +- \") + str(np.std(tprs)) + str(\"\\n\") +\n",
        "            \"Tnr:\" + str(np.mean(tnrs)) + str(\" +- \") + str(np.std(tnrs)) + str(\"\\n\"))\n",
        "\n",
        "\n",
        "\n",
        "  print(\"RESET GLOBAL VARIABLES\")\n",
        "  reset_global_variables()\n",
        "  print_global_variables()"
      ]
    },
    {
      "cell_type": "markdown",
      "metadata": {
        "id": "1eVCpBOdn8Tk"
      },
      "source": [
        "# Results"
      ]
    },
    {
      "cell_type": "markdown",
      "source": [
        "## Questions 1 and 2"
      ],
      "metadata": {
        "id": "Ty6Mzbr8isAf"
      }
    },
    {
      "cell_type": "markdown",
      "metadata": {
        "id": "8cIwL_i-4Gtp"
      },
      "source": [
        "Next 3 experiments use Gohrs ND for training on INSHAPE data"
      ]
    },
    {
      "cell_type": "markdown",
      "metadata": {
        "id": "4RsQjkI7yaQr",
        "jp-MarkdownHeadingCollapsed": true
      },
      "source": [
        "\n",
        "### Train on ciphertext differences"
      ]
    },
    {
      "cell_type": "code",
      "execution_count": null,
      "metadata": {
        "id": "WNTmAPTKHoHz",
        "scrolled": true
      },
      "outputs": [],
      "source": [
        "train_and_evaluate(experiment_name = \"E1a_Ciphertext_Differences\", cipher_class = Speck, n_rounds = 6, diff = [0x40, 0], reps = 10, data_format = \"Diffs\")"
      ]
    },
    {
      "cell_type": "code",
      "execution_count": null,
      "metadata": {
        "id": "-uHqoeR7yITG",
        "scrolled": true
      },
      "outputs": [],
      "source": [
        "train_and_evaluate(experiment_name = \"E1a_Ciphertext_Differences\", cipher_class = Simon, n_rounds = 9, diff = [0, 0x400], reps = 10, data_format = \"Diffs\")"
      ]
    },
    {
      "cell_type": "code",
      "execution_count": null,
      "metadata": {
        "id": "wBXK3IraJjR9",
        "scrolled": true
      },
      "outputs": [],
      "source": [
        "train_and_evaluate(experiment_name = \"E1a_Ciphertext_Differences\", cipher_class = Skinny, n_rounds = 6, diff = [0, 0, 0, 0, 0, 0, 0, 0, 0, 0, 0, 0, 2, 0, 0, 0], reps = 10, data_format = \"Diffs\")"
      ]
    },
    {
      "cell_type": "code",
      "execution_count": null,
      "metadata": {
        "id": "-gxblSlELDfd",
        "scrolled": true
      },
      "outputs": [],
      "source": [
        "train_and_evaluate(experiment_name = \"E1a_Ciphertext_Differences\", cipher_class = Katan, n_rounds = 50, diff = [0x4000], reps = 10, data_format = \"Diffs\")"
      ]
    },
    {
      "cell_type": "code",
      "execution_count": null,
      "metadata": {
        "id": "G_pAXobmLLIq",
        "scrolled": true
      },
      "outputs": [],
      "source": [
        "train_and_evaluate(experiment_name = \"E1a_Ciphertext_Differences\", cipher_class = Present, n_rounds = 6, diff = [0, 0, 0, 0, 0, 0, 0, 0, 0, 0xd, 0, 0, 0, 0, 0, 0], reps = 10, data_format = \"Diffs\")"
      ]
    },
    {
      "cell_type": "code",
      "execution_count": null,
      "metadata": {
        "id": "2ukVITEpLUsM"
      },
      "outputs": [],
      "source": [
        "train_and_evaluate(experiment_name = \"E1a_Ciphertext_Differences\", cipher_class = ChaCha, n_rounds = 3, diff = [0, 0, 0, 0x8000], reps = 10, data_format = \"Diffs\")"
      ]
    },
    {
      "cell_type": "markdown",
      "metadata": {
        "id": "6PsXNQxTyevL"
      },
      "source": [
        "### Train on ciphertext pairs"
      ]
    },
    {
      "cell_type": "code",
      "execution_count": null,
      "metadata": {
        "id": "OJviu1Pbyhnn",
        "scrolled": true
      },
      "outputs": [],
      "source": [
        "train_and_evaluate(experiment_name = \"E1b_Ciphertext_Pairs\", cipher_class = Speck, n_rounds = 6, diff = [0x40, 0], reps = 10, data_format = \"Pairs\")"
      ]
    },
    {
      "cell_type": "code",
      "execution_count": null,
      "metadata": {
        "id": "_kdd6P8cLnP_"
      },
      "outputs": [],
      "source": [
        "train_and_evaluate(experiment_name = \"E1b_Ciphertext_Pairs\", cipher_class = Simon, n_rounds = 9, diff = [0, 0x400], reps = 10, data_format = \"Pairs\")"
      ]
    },
    {
      "cell_type": "code",
      "execution_count": null,
      "metadata": {
        "id": "o5-BaIEELrQ_"
      },
      "outputs": [],
      "source": [
        "train_and_evaluate(experiment_name = \"E1b_Ciphertext_Pairs\", cipher_class = Skinny, n_rounds = 7, diff = [0, 0, 0, 0, 0, 0, 0, 0, 0, 0, 0, 0, 2, 0, 0, 0], reps = 10, data_format = \"Pairs\")"
      ]
    },
    {
      "cell_type": "code",
      "execution_count": null,
      "metadata": {
        "id": "a7vIjrYSLxgx",
        "scrolled": true
      },
      "outputs": [],
      "source": [
        "train_and_evaluate(experiment_name = \"E1b_Ciphertext_Pairs\", cipher_class = Katan, n_rounds = 50, diff = [0x4000], reps = 10, data_format = \"Pairs\")"
      ]
    },
    {
      "cell_type": "code",
      "execution_count": null,
      "metadata": {
        "id": "aoAHa8ttL7i4"
      },
      "outputs": [],
      "source": [
        "train_and_evaluate(experiment_name = \"E1b_Ciphertext_Pairs\", cipher_class = Present, n_rounds = 6, diff = [0, 0, 0, 0, 0, 0, 0, 0, 0, 0xd, 0, 0, 0, 0, 0, 0], reps = 10, data_format = \"Pairs\")"
      ]
    },
    {
      "cell_type": "code",
      "execution_count": null,
      "metadata": {
        "id": "XgF5nbbhMA0E"
      },
      "outputs": [],
      "source": [
        "train_and_evaluate(experiment_name = \"E1b_Ciphertext_Pairs\", cipher_class = ChaCha, n_rounds = 3, diff = [0, 0, 0, 0x8000], reps = 10, data_format = \"Pairs\")"
      ]
    },
    {
      "cell_type": "markdown",
      "metadata": {
        "id": "IG6cdvDkyiWK"
      },
      "source": [
        "### Train on ciphertext pairs + info from previous round"
      ]
    },
    {
      "cell_type": "code",
      "execution_count": null,
      "metadata": {
        "id": "xSh5Kqlcyoe2",
        "scrolled": true
      },
      "outputs": [],
      "source": [
        "train_and_evaluate(experiment_name = \"E2_Ciphertext_PairsPlus\", cipher_class = Speck, n_rounds = 6, diff = [0x40, 0], reps = 10, data_format = \"PairsPlus\")"
      ]
    },
    {
      "cell_type": "code",
      "execution_count": null,
      "metadata": {
        "id": "L5VCfoZZT3tk"
      },
      "outputs": [],
      "source": [
        "train_and_evaluate(experiment_name = \"E2_Ciphertext_PairsPlus\", cipher_class = Simon, n_rounds = 9, diff = [0, 0x400], reps = 10, data_format = \"PairsPlus\")"
      ]
    },
    {
      "cell_type": "code",
      "execution_count": null,
      "metadata": {
        "id": "nIcyuV5DT-Q3",
        "scrolled": true
      },
      "outputs": [],
      "source": [
        "train_and_evaluate(experiment_name = \"E2_Ciphertext_PairsPlus\", cipher_class = Skinny, n_rounds = 6, diff = [0, 0, 0, 0, 0, 0, 0, 0, 0, 0, 0, 0, 2, 0, 0, 0], reps = 10, data_format = \"PairsPlus\")"
      ]
    },
    {
      "cell_type": "code",
      "execution_count": null,
      "metadata": {
        "id": "KNG1c5WGUFoq"
      },
      "outputs": [],
      "source": [
        "train_and_evaluate(experiment_name = \"E2_Ciphertext_PairsPlus\", cipher_class = Katan, n_rounds = 50, diff = [0x4000], reps = 10, data_format = \"PairsPlus\")"
      ]
    },
    {
      "cell_type": "code",
      "execution_count": null,
      "metadata": {
        "id": "Yc0h4950ULx4",
        "scrolled": true
      },
      "outputs": [],
      "source": [
        "train_and_evaluate(experiment_name = \"E2_Ciphertext_PairsPlus\", cipher_class = Present, n_rounds = 6, diff = [0, 0, 0, 0, 0, 0, 0, 0, 0, 0xd, 0, 0, 0, 0, 0, 0], reps = 10, data_format = \"Pairs\") #Previous round is just shifted bits so no impact"
      ]
    },
    {
      "cell_type": "code",
      "execution_count": null,
      "metadata": {
        "id": "_OmCbLqEUTJA"
      },
      "outputs": [],
      "source": [
        "train_and_evaluate(experiment_name = \"E2_Ciphertext_PairsPlus\", cipher_class = ChaCha, n_rounds = 3, diff = [0, 0, 0, 0x8000], reps = 10, data_format = \"PairsPlus\")"
      ]
    },
    {
      "cell_type": "markdown",
      "source": [
        "## Question 3 and 4"
      ],
      "metadata": {
        "id": "b8oOxEPWjBHx"
      }
    },
    {
      "cell_type": "markdown",
      "metadata": {
        "id": "ESPbxBhwyq1n"
      },
      "source": [
        "### Different networks trained on ciphertext pairs with NO tuning"
      ]
    },
    {
      "cell_type": "markdown",
      "metadata": {
        "id": "ZKwud-qhOQZt"
      },
      "source": [
        "#### Gohr"
      ]
    },
    {
      "cell_type": "markdown",
      "metadata": {
        "id": "KLGyhnXgPAg-"
      },
      "source": [
        "SHAPED: Networks on ciphertext pairs + no hyperparameter tuning"
      ]
    },
    {
      "cell_type": "code",
      "execution_count": null,
      "metadata": {
        "id": "qJDssk9O81j9",
        "scrolled": true
      },
      "outputs": [],
      "source": [
        "train_and_evaluate(experiment_name = \"E4_Ciphertext_Pairs\", cipher_class = Speck, n_rounds = 6, diff = [0x40, 0], reps = 10, data_format = \"Pairs\", network = \"Gohr\", shape = \"INSHAPE\", tune = False)"
      ]
    },
    {
      "cell_type": "code",
      "execution_count": null,
      "metadata": {
        "id": "NUGL7HrFOTk1",
        "scrolled": true
      },
      "outputs": [],
      "source": [
        "train_and_evaluate(experiment_name = \"E4_Ciphertext_Pairs\", cipher_class = Simon, n_rounds = 9, diff = [0, 0x400], reps = 10, data_format = \"Pairs\", network = \"Gohr\", shape = \"INSHAPE\", tune = False)"
      ]
    },
    {
      "cell_type": "code",
      "execution_count": null,
      "metadata": {
        "id": "FZzsPsArOTwD",
        "scrolled": true
      },
      "outputs": [],
      "source": [
        "train_and_evaluate(experiment_name = \"E4_Ciphertext_Pairs\", cipher_class = Skinny, n_rounds = 6, diff = [0, 0, 0, 0, 0, 0, 0, 0, 0, 0, 0, 0, 2, 0, 0, 0], reps = 10, data_format = \"Pairs\", network = \"Gohr\", shape = \"INSHAPE\", tune = False)"
      ]
    },
    {
      "cell_type": "code",
      "execution_count": null,
      "metadata": {
        "id": "KOky0e5SOT8D",
        "scrolled": true
      },
      "outputs": [],
      "source": [
        "train_and_evaluate(experiment_name = \"E4_Ciphertext_Pairs\", cipher_class = Katan, n_rounds = 50, diff = [0x4000], reps = 10, data_format = \"Pairs\", network = \"Gohr\", shape = \"INSHAPE\", tune = False)"
      ]
    },
    {
      "cell_type": "code",
      "execution_count": null,
      "metadata": {
        "id": "F11HQfiXOUHS",
        "scrolled": true
      },
      "outputs": [],
      "source": [
        "train_and_evaluate(experiment_name = \"E4_Ciphertext_Pairs\", cipher_class = Present, n_rounds = 6, diff = [0, 0, 0, 0, 0, 0, 0, 0, 0, 0xd, 0, 0, 0, 0, 0, 0], reps = 10, data_format = \"Pairs\", network = \"Gohr\", shape = \"INSHAPE\", tune = False)"
      ]
    },
    {
      "cell_type": "code",
      "execution_count": null,
      "metadata": {
        "id": "XIbkDDfHOUlZ",
        "scrolled": true
      },
      "outputs": [],
      "source": [
        "train_and_evaluate(experiment_name = \"E4_Ciphertext_Pairs\", cipher_class = ChaCha, n_rounds = 3, diff = [0, 0, 0, 0x8000], reps = 10, data_format = \"Pairs\", network = \"Gohr\", shape = \"INSHAPE\", tune = False)"
      ]
    },
    {
      "cell_type": "markdown",
      "metadata": {
        "id": "446OyGacPm3H"
      },
      "source": [
        "UNSHAPED: Networks on ciphertext pairs + no hyperparameter tuning"
      ]
    },
    {
      "cell_type": "code",
      "execution_count": null,
      "metadata": {
        "id": "Zx2T5OnBPtp5",
        "scrolled": true
      },
      "outputs": [],
      "source": [
        "train_and_evaluate(experiment_name = \"E3_Ciphertext_Pairs\", cipher_class = Speck, n_rounds = 6, diff = [0x40, 0], reps = 10, data_format = \"Pairs\", network = \"Gohr\", shape = \"UNSHAPED\", tune = False)"
      ]
    },
    {
      "cell_type": "code",
      "execution_count": null,
      "metadata": {
        "id": "pDX-l-StPt4f",
        "scrolled": true
      },
      "outputs": [],
      "source": [
        "train_and_evaluate(experiment_name = \"E3_Ciphertext_Pairs\",  cipher_class = Simon, n_rounds = 9, diff = [0, 0x400], reps = 10, data_format = \"Pairs\",  network = \"Gohr\", shape = \"UNSHAPED\", tune = False)"
      ]
    },
    {
      "cell_type": "code",
      "execution_count": null,
      "metadata": {
        "id": "4NhJuObrPuCV",
        "scrolled": true
      },
      "outputs": [],
      "source": [
        "train_and_evaluate(experiment_name = \"E3_Ciphertext_Pairs\", cipher_class = Skinny, n_rounds = 6, diff = [0, 0, 0, 0, 0, 0, 0, 0, 0, 0, 0, 0, 2, 0, 0, 0], reps = 10, data_format = \"Pairs\",  network = \"Gohr\", shape = \"UNSHAPED\", tune = False)"
      ]
    },
    {
      "cell_type": "code",
      "execution_count": null,
      "metadata": {
        "id": "YCE8bEyaPuN1",
        "scrolled": true
      },
      "outputs": [],
      "source": [
        "train_and_evaluate(experiment_name = \"E3_Ciphertext_Pairs\", cipher_class = Katan, n_rounds = 50, diff = [0x4000], reps = 10, data_format = \"Pairs\",  network = \"Gohr\", shape = \"UNSHAPED\", tune = False)"
      ]
    },
    {
      "cell_type": "code",
      "execution_count": null,
      "metadata": {
        "id": "IQ7jmRBdPuY5",
        "scrolled": true
      },
      "outputs": [],
      "source": [
        "train_and_evaluate(experiment_name = \"E3_Ciphertext_Pairs\", cipher_class = Present, n_rounds = 6, diff = [0, 0, 0, 0, 0, 0, 0, 0, 0, 0xd, 0, 0, 0, 0, 0, 0], reps = 10, data_format = \"Pairs\",  network = \"Gohr\", shape = \"UNSHAPED\", tune = False)"
      ]
    },
    {
      "cell_type": "code",
      "execution_count": null,
      "metadata": {
        "id": "6BhunZt8PulI"
      },
      "outputs": [],
      "source": [
        "train_and_evaluate(experiment_name = \"E3_Ciphertext_Pairs\", cipher_class = ChaCha, n_rounds = 3, diff = [0, 0, 0, 0x8000], reps = 10, data_format = \"Pairs\",  network = \"Gohr\", shape = \"UNSHAPED\", tune = False)"
      ]
    },
    {
      "cell_type": "markdown",
      "metadata": {
        "id": "i1201SurQgeY",
        "jp-MarkdownHeadingCollapsed": true
      },
      "source": [
        "#### MLP"
      ]
    },
    {
      "cell_type": "markdown",
      "metadata": {
        "id": "MYk8L1PHQkeX"
      },
      "source": [
        "SHAPED: Networks on ciphertext pairs + no hyperparameter tuning"
      ]
    },
    {
      "cell_type": "code",
      "execution_count": null,
      "metadata": {
        "id": "r6y9mwTTQk8O",
        "scrolled": true
      },
      "outputs": [],
      "source": [
        "train_and_evaluate(experiment_name = \"E4_Ciphertext_Pairs\", cipher_class = Speck, n_rounds = 6, diff = [0x40, 0], reps = 10, data_format = \"Pairs\", network = \"MLP\", shape = \"INSHAPE\", tune = False)"
      ]
    },
    {
      "cell_type": "code",
      "execution_count": null,
      "metadata": {
        "id": "CKr9vKZMQlIC",
        "scrolled": true
      },
      "outputs": [],
      "source": [
        "train_and_evaluate(experiment_name = \"E4_Ciphertext_Pairs\", cipher_class = Simon, n_rounds = 9, diff = [0, 0x400], reps = 10, data_format = \"Pairs\", network = \"MLP\", shape = \"INSHAPE\", tune = False)"
      ]
    },
    {
      "cell_type": "code",
      "execution_count": null,
      "metadata": {
        "id": "bdAFo3TfQlTj",
        "scrolled": true
      },
      "outputs": [],
      "source": [
        "train_and_evaluate(experiment_name = \"E4_Ciphertext_Pairs\", cipher_class = Skinny, n_rounds = 6, diff = [0, 0, 0, 0, 0, 0, 0, 0, 0, 0, 0, 0, 2, 0, 0, 0], reps = 10, data_format = \"Pairs\", network = \"MLP\", shape = \"INSHAPE\", tune = False)"
      ]
    },
    {
      "cell_type": "code",
      "execution_count": null,
      "metadata": {
        "id": "lClAW77qQliU",
        "scrolled": true
      },
      "outputs": [],
      "source": [
        "train_and_evaluate(experiment_name = \"E4_Ciphertext_Pairs\", cipher_class = Katan, n_rounds = 50, diff = [0x4000], reps = 10, data_format = \"Pairs\", network = \"MLP\", shape = \"INSHAPE\", tune = False)"
      ]
    },
    {
      "cell_type": "code",
      "execution_count": null,
      "metadata": {
        "id": "GV42TJZiQluF",
        "scrolled": true
      },
      "outputs": [],
      "source": [
        "train_and_evaluate(experiment_name = \"E4_Ciphertext_Pairs\", cipher_class = Present, n_rounds = 6, diff = [0, 0, 0, 0, 0, 0, 0, 0, 0, 0xd, 0, 0, 0, 0, 0, 0], reps = 10, data_format = \"Pairs\", network = \"MLP\", shape = \"INSHAPE\", tune = False)"
      ]
    },
    {
      "cell_type": "code",
      "execution_count": null,
      "metadata": {
        "id": "gNfAqjq5Ql4b"
      },
      "outputs": [],
      "source": [
        "train_and_evaluate(experiment_name = \"E4_Ciphertext_Pairs\", cipher_class = ChaCha, n_rounds = 3, diff = [0, 0, 0, 0x8000], reps = 10, data_format = \"Pairs\", network = \"MLP\", shape = \"INSHAPE\", tune = False)"
      ]
    },
    {
      "cell_type": "markdown",
      "metadata": {
        "id": "a5_TaMYzQmLn"
      },
      "source": [
        "UNSHAPED: Networks on ciphertext pairs + hyperparameter tuning"
      ]
    },
    {
      "cell_type": "code",
      "execution_count": null,
      "metadata": {
        "id": "O9UQ_wV9Qm-r"
      },
      "outputs": [],
      "source": [
        "train_and_evaluate(experiment_name = \"E3_Ciphertext_Pairs\", cipher_class = Speck, n_rounds = 6, diff = [0x40, 0], reps = 10, data_format = \"Pairs\", network = \"MLP\", shape = \"UNSHAPED\", tune = False)"
      ]
    },
    {
      "cell_type": "code",
      "execution_count": null,
      "metadata": {
        "id": "_9Vyo08TQnL4",
        "scrolled": true
      },
      "outputs": [],
      "source": [
        "train_and_evaluate(experiment_name = \"E3_Ciphertext_Pairs\", cipher_class = Simon, n_rounds = 9, diff = [0, 0x400], reps = 10, data_format = \"Pairs\", network = \"MLP\", shape = \"UNSHAPED\", tune = False)"
      ]
    },
    {
      "cell_type": "code",
      "execution_count": null,
      "metadata": {
        "id": "TgquOaMGQnWf",
        "scrolled": true
      },
      "outputs": [],
      "source": [
        "train_and_evaluate(experiment_name = \"E3_Ciphertext_Pairs\", cipher_class = Skinny, n_rounds = 6, diff = [0, 0, 0, 0, 0, 0, 0, 0, 0, 0, 0, 0, 2, 0, 0, 0], reps = 10, data_format = \"Pairs\", network = \"MLP\", shape = \"UNSHAPED\", tune = False)"
      ]
    },
    {
      "cell_type": "code",
      "execution_count": null,
      "metadata": {
        "id": "0ohIB7czQng8",
        "scrolled": true
      },
      "outputs": [],
      "source": [
        "train_and_evaluate(experiment_name = \"E3_Ciphertext_Pairs\", cipher_class = Katan, n_rounds = 50, diff = [0x4000], reps = 10, data_format = \"Pairs\", network = \"MLP\", shape = \"UNSHAPED\", tune = False)"
      ]
    },
    {
      "cell_type": "code",
      "execution_count": null,
      "metadata": {
        "id": "YO9AeGd0Qnr3",
        "scrolled": true
      },
      "outputs": [],
      "source": [
        "train_and_evaluate(experiment_name = \"E3_Ciphertext_Pairs\", cipher_class = Present, n_rounds = 6, diff = [0, 0, 0, 0, 0, 0, 0, 0, 0, 0xd, 0, 0, 0, 0, 0, 0], reps = 10, data_format = \"Pairs\", network = \"MLP\", shape = \"UNSHAPED\", tune = False)"
      ]
    },
    {
      "cell_type": "code",
      "execution_count": null,
      "metadata": {
        "id": "7JlYMvecQn1s"
      },
      "outputs": [],
      "source": [
        "train_and_evaluate(experiment_name = \"E3_Ciphertext_Pairs\", cipher_class = ChaCha, n_rounds = 3, diff = [0, 0, 0, 0x8000], reps = 10, data_format = \"Pairs\", network = \"MLP\", shape = \"UNSHAPED\", tune = False)"
      ]
    },
    {
      "cell_type": "markdown",
      "metadata": {
        "id": "0DCQuSqYR1hv",
        "jp-MarkdownHeadingCollapsed": true
      },
      "source": [
        "#### Gohr with Inception block in 1st part"
      ]
    },
    {
      "cell_type": "markdown",
      "metadata": {
        "id": "OEVy1tLVR1vh"
      },
      "source": [
        "SHAPED: Networks on ciphertext pairs + no hyperparameter tuning"
      ]
    },
    {
      "cell_type": "code",
      "execution_count": null,
      "metadata": {
        "id": "mxn4Dww7R2RF",
        "scrolled": true
      },
      "outputs": [],
      "source": [
        "train_and_evaluate(experiment_name = \"E4_Ciphertext_Pairs\", cipher_class = Speck, n_rounds = 6, diff = [0x40, 0], reps = 10, data_format = \"Pairs\", network = \"GohrInception1stB\", shape = \"INSHAPE\", tune = False)"
      ]
    },
    {
      "cell_type": "code",
      "execution_count": null,
      "metadata": {
        "id": "lnXKAlzMR2eF",
        "scrolled": true
      },
      "outputs": [],
      "source": [
        "train_and_evaluate(experiment_name = \"E4_Ciphertext_Pairs\", cipher_class = Simon, n_rounds = 9, diff = [0, 0x400], reps = 10, data_format = \"Pairs\", network = \"GohrInception1stB\", shape = \"INSHAPE\", tune = False)"
      ]
    },
    {
      "cell_type": "code",
      "execution_count": null,
      "metadata": {
        "id": "qjgY5ggVR2qE",
        "scrolled": true
      },
      "outputs": [],
      "source": [
        "train_and_evaluate(experiment_name = \"E4_Ciphertext_Pairs\", cipher_class = Skinny, n_rounds = 6, diff = [0, 0, 0, 0, 0, 0, 0, 0, 0, 0, 0, 0, 2, 0, 0, 0], reps = 10, data_format = \"Pairs\", network = \"GohrInception1stB\", shape = \"INSHAPE\", tune = False)"
      ]
    },
    {
      "cell_type": "code",
      "execution_count": null,
      "metadata": {
        "id": "80h3SycER22L",
        "scrolled": true
      },
      "outputs": [],
      "source": [
        "train_and_evaluate(experiment_name = \"E4_Ciphertext_Pairs\", cipher_class = Katan, n_rounds = 50, diff = [0x4000], reps = 10, data_format = \"Pairs\", network = \"GohrInception1stB\", shape = \"INSHAPE\", tune = False)"
      ]
    },
    {
      "cell_type": "code",
      "execution_count": null,
      "metadata": {
        "id": "gyROwFYnR3Cp"
      },
      "outputs": [],
      "source": [
        "train_and_evaluate(experiment_name = \"E4_Ciphertext_Pairs\", cipher_class = Present, n_rounds = 6, diff = [0, 0, 0, 0, 0, 0, 0, 0, 0, 0xd, 0, 0, 0, 0, 0, 0], reps = 10, data_format = \"Pairs\", network = \"GohrInception1stB\", shape = \"INSHAPE\", tune = False)"
      ]
    },
    {
      "cell_type": "code",
      "execution_count": null,
      "metadata": {
        "id": "52pPgzMPR3Ot"
      },
      "outputs": [],
      "source": [
        "train_and_evaluate(experiment_name = \"E4_Ciphertext_Pairs\", cipher_class = ChaCha, n_rounds = 3, diff = [0, 0, 0, 0x8000], reps = 10, data_format = \"Pairs\", network = \"GohrInception1stB\", shape = \"INSHAPE\", tune = False)"
      ]
    },
    {
      "cell_type": "markdown",
      "metadata": {
        "id": "ell1juu1R3ij"
      },
      "source": [
        "UNSHAPED: Networks on ciphertext pairs + no hyperparameter tuning"
      ]
    },
    {
      "cell_type": "code",
      "execution_count": null,
      "metadata": {
        "id": "8_vDfUgOR3yz"
      },
      "outputs": [],
      "source": [
        "train_and_evaluate(experiment_name = \"E3_Ciphertext_Pairs\", cipher_class = Speck, n_rounds = 6, diff = [0x40, 0], reps = 10, data_format = \"Pairs\", network = \"GohrInception1stB\", shape = \"UNSHAPED\", tune = False)"
      ]
    },
    {
      "cell_type": "code",
      "execution_count": null,
      "metadata": {
        "id": "VbyH0fAlR4Nz",
        "scrolled": true
      },
      "outputs": [],
      "source": [
        "train_and_evaluate(experiment_name = \"E3_Ciphertext_Pairs\", cipher_class = Simon, n_rounds = 9, diff = [0, 0x400], reps = 10, data_format = \"Pairs\", network = \"GohrInception1stB\", shape = \"UNSHAPED\", tune = False)"
      ]
    },
    {
      "cell_type": "code",
      "execution_count": null,
      "metadata": {
        "id": "XVDYT6P1R4Zk",
        "scrolled": true
      },
      "outputs": [],
      "source": [
        "train_and_evaluate(experiment_name = \"E3_Ciphertext_Pairs\", cipher_class = Skinny, n_rounds = 6, diff = [0, 0, 0, 0, 0, 0, 0, 0, 0, 0, 0, 0, 2, 0, 0, 0], reps = 10, data_format = \"Pairs\", network = \"GohrInception1stB\", shape = \"UNSHAPED\", tune = False)"
      ]
    },
    {
      "cell_type": "code",
      "execution_count": null,
      "metadata": {
        "id": "6IFS0pyVR4li"
      },
      "outputs": [],
      "source": [
        "train_and_evaluate(experiment_name = \"E3_Ciphertext_Pairs\", cipher_class = Katan, n_rounds = 50, diff = [0x4000], reps = 10, data_format = \"Pairs\", network = \"GohrInception1stB\", shape = \"UNSHAPED\", tune = False)"
      ]
    },
    {
      "cell_type": "code",
      "execution_count": null,
      "metadata": {
        "id": "baZiipVhR4x3"
      },
      "outputs": [],
      "source": [
        "train_and_evaluate(experiment_name = \"E3_Ciphertext_Pairs\", cipher_class = Present, n_rounds = 6, diff = [0, 0, 0, 0, 0, 0, 0, 0, 0, 0xd, 0, 0, 0, 0, 0, 0], reps = 10, data_format = \"Pairs\", network = \"GohrInception1stB\", shape = \"UNSHAPED\", tune = False)"
      ]
    },
    {
      "cell_type": "code",
      "execution_count": null,
      "metadata": {
        "id": "Kk_2VTfRR4-B"
      },
      "outputs": [],
      "source": [
        "train_and_evaluate(experiment_name = \"E3_Ciphertext_Pairs\", cipher_class = ChaCha, n_rounds = 3, diff = [0, 0, 0, 0x8000], reps = 10, data_format = \"Pairs\", network = \"GohrInception1stB\", shape = \"UNSHAPED\", tune = False)"
      ]
    },
    {
      "cell_type": "markdown",
      "metadata": {
        "id": "r_LnMERMTBVu",
        "jp-MarkdownHeadingCollapsed": true
      },
      "source": [
        "#### Gohr with Inception block in 2nd part"
      ]
    },
    {
      "cell_type": "markdown",
      "metadata": {
        "id": "XnziWqiYTBj4"
      },
      "source": [
        "SHAPED: Networks on ciphertext pairs + no hyperparameter tuning"
      ]
    },
    {
      "cell_type": "code",
      "execution_count": null,
      "metadata": {
        "id": "iY0q3eMfTB8-"
      },
      "outputs": [],
      "source": [
        "train_and_evaluate(experiment_name = \"E4_Ciphertext_Pairs\", cipher_class = Speck, n_rounds = 6, diff = [0x40, 0], reps = 10, data_format = \"Pairs\", network = \"GohrInception2ndB\", shape = \"INSHAPE\", tune = False)"
      ]
    },
    {
      "cell_type": "code",
      "execution_count": null,
      "metadata": {
        "id": "xBV1S_whTCGZ"
      },
      "outputs": [],
      "source": [
        "train_and_evaluate(experiment_name = \"E4_Ciphertext_Pairs\", cipher_class = Simon, n_rounds = 9, diff = [0, 0x400], reps = 10, data_format = \"Pairs\", network = \"GohrInception2ndB\", shape = \"INSHAPE\", tune = False)"
      ]
    },
    {
      "cell_type": "code",
      "execution_count": null,
      "metadata": {
        "id": "dOWxhrlgTCUG"
      },
      "outputs": [],
      "source": [
        "train_and_evaluate(experiment_name = \"E4_Ciphertext_Pairs\", cipher_class = Skinny, n_rounds = 6, diff = [0, 0, 0, 0, 0, 0, 0, 0, 0, 0, 0, 0, 2, 0, 0, 0], reps = 10, data_format = \"Pairs\", network = \"GohrInception2ndB\", shape = \"INSHAPE\", tune = False)"
      ]
    },
    {
      "cell_type": "code",
      "execution_count": null,
      "metadata": {
        "id": "clFDlu0PTCgu"
      },
      "outputs": [],
      "source": [
        "train_and_evaluate(experiment_name = \"E4_Ciphertext_Pairs\", cipher_class = Katan, n_rounds = 50, diff = [0x4000], reps = 10, data_format = \"Pairs\", network = \"GohrInception2ndB\", shape = \"INSHAPE\", tune = False)"
      ]
    },
    {
      "cell_type": "code",
      "execution_count": null,
      "metadata": {
        "id": "6VgkaipSTCtl"
      },
      "outputs": [],
      "source": [
        "train_and_evaluate(experiment_name = \"E4_Ciphertext_Pairs\", cipher_class = Present, n_rounds = 6, diff = [0, 0, 0, 0, 0, 0, 0, 0, 0, 0xd, 0, 0, 0, 0, 0, 0], reps = 10, data_format = \"Pairs\", network = \"GohrInception2ndB\", shape = \"INSHAPE\", tune = False)"
      ]
    },
    {
      "cell_type": "code",
      "execution_count": null,
      "metadata": {
        "id": "CwvV3Nf1TC6j"
      },
      "outputs": [],
      "source": [
        "train_and_evaluate(experiment_name = \"E4_Ciphertext_Pairs\", cipher_class = ChaCha, n_rounds = 3, diff = [0, 0, 0, 0x8000], reps = 10, data_format = \"Pairs\", network = \"GohrInception2ndB\", shape = \"INSHAPE\", tune = False)"
      ]
    },
    {
      "cell_type": "markdown",
      "metadata": {
        "id": "yYjuJdKmTDRb"
      },
      "source": [
        "UNSHAPED: Networks on ciphertext pairs + no hyperparameter tuning"
      ]
    },
    {
      "cell_type": "code",
      "execution_count": null,
      "metadata": {
        "id": "5eKAqcp0TDlR"
      },
      "outputs": [],
      "source": [
        "train_and_evaluate(experiment_name = \"E3_Ciphertext_Pairs\", cipher_class = Speck, n_rounds = 6, diff = [0x40, 0], reps = 10, data_format = \"Pairs\", network = \"GohrInception2ndB\", shape = \"UNSHAPED\", tune = False)"
      ]
    },
    {
      "cell_type": "code",
      "execution_count": null,
      "metadata": {
        "id": "qJL-M_t1TDw9"
      },
      "outputs": [],
      "source": [
        "train_and_evaluate(experiment_name = \"E3_Ciphertext_Pairs\", cipher_class = Simon, n_rounds = 9, diff = [0, 0x400], reps = 10, data_format = \"Pairs\", network = \"GohrInception2ndB\", shape = \"UNSHAPED\", tune = False)"
      ]
    },
    {
      "cell_type": "code",
      "execution_count": null,
      "metadata": {
        "id": "-h2z-qF8TD9r"
      },
      "outputs": [],
      "source": [
        "train_and_evaluate(experiment_name = \"E3_Ciphertext_Pairs\", cipher_class = Skinny, n_rounds = 6, diff = [0, 0, 0, 0, 0, 0, 0, 0, 0, 0, 0, 0, 2, 0, 0, 0], reps = 10, data_format = \"Pairs\", network = \"GohrInception2ndB\", shape = \"UNSHAPED\", tune = False)"
      ]
    },
    {
      "cell_type": "code",
      "execution_count": null,
      "metadata": {
        "id": "l3NbeqqFTEKM"
      },
      "outputs": [],
      "source": [
        "train_and_evaluate(experiment_name = \"E3_Ciphertext_Pairs\", cipher_class = Katan, n_rounds = 50, diff = [0x4000], reps = 10, data_format = \"Pairs\", network = \"GohrInception2ndB\", shape = \"UNSHAPED\", tune = False)"
      ]
    },
    {
      "cell_type": "code",
      "execution_count": null,
      "metadata": {
        "id": "weqx43b8TEXB"
      },
      "outputs": [],
      "source": [
        "train_and_evaluate(experiment_name = \"E3_Ciphertext_Pairs\", cipher_class = Present, n_rounds = 6, diff = [0, 0, 0, 0, 0, 0, 0, 0, 0, 0xd, 0, 0, 0, 0, 0, 0], reps = 10, data_format = \"Pairs\", network = \"GohrInception2ndB\", shape = \"UNSHAPED\", tune = False)"
      ]
    },
    {
      "cell_type": "code",
      "execution_count": null,
      "metadata": {
        "id": "Pcy2TlzMTEkC"
      },
      "outputs": [],
      "source": [
        "train_and_evaluate(experiment_name = \"E3_Ciphertext_Pairs\", cipher_class = ChaCha, n_rounds = 3, diff = [0, 0, 0, 0x8000], reps = 10, data_format = \"Pairs\", network = \"GohrInception2ndB\", shape = \"UNSHAPED\", tune = False)"
      ]
    },
    {
      "cell_type": "markdown",
      "metadata": {
        "id": "EigTFFA9NTNL",
        "jp-MarkdownHeadingCollapsed": true
      },
      "source": [
        "### Different networks trained on ciphertext pairs WITH tuning"
      ]
    },
    {
      "cell_type": "markdown",
      "metadata": {
        "id": "UyKSgGilWNQA"
      },
      "source": [
        "#### GOHR"
      ]
    },
    {
      "cell_type": "markdown",
      "metadata": {
        "id": "wRUvPWbmWVxe"
      },
      "source": [
        "SHAPED: Networks on ciphertext pairs + hyperparameter tuning"
      ]
    },
    {
      "cell_type": "code",
      "execution_count": null,
      "metadata": {
        "id": "2qXcCd6AWQYF"
      },
      "outputs": [],
      "source": [
        "train_and_evaluate(experiment_name = \"E4_Ciphertext_Pairs\", cipher_class = Speck, n_rounds = 6, diff = [0x40, 0], reps = 10, data_format = \"Pairs\", network = \"Gohr\", shape = \"INSHAPE\", tune = True)"
      ]
    },
    {
      "cell_type": "code",
      "execution_count": null,
      "metadata": {
        "id": "CtdgmWTyWQpM"
      },
      "outputs": [],
      "source": [
        "train_and_evaluate(experiment_name = \"E4_Ciphertext_Pairs\", cipher_class = Simon, n_rounds = 9, diff = [0, 0x400], reps = 10, data_format = \"Pairs\", network = \"Gohr\", shape = \"INSHAPE\", tune = True)"
      ]
    },
    {
      "cell_type": "code",
      "execution_count": null,
      "metadata": {
        "id": "Ge-yGVBIWQ4i"
      },
      "outputs": [],
      "source": [
        "train_and_evaluate(experiment_name = \"E4_Ciphertext_Pairs\", cipher_class = Skinny, n_rounds = 6, diff = [0, 0, 0, 0, 0, 0, 0, 0, 0, 0, 0, 0, 2, 0, 0, 0], reps = 10, data_format = \"Pairs\", network = \"Gohr\", shape = \"INSHAPE\", tune = True)"
      ]
    },
    {
      "cell_type": "code",
      "execution_count": null,
      "metadata": {
        "id": "nu42aohMWRBs"
      },
      "outputs": [],
      "source": [
        "train_and_evaluate(experiment_name = \"E4_Ciphertext_Pairs\", cipher_class = Katan, n_rounds = 50, diff = [0x4000], reps = 10, data_format = \"Pairs\", network = \"Gohr\", shape = \"INSHAPE\", tune = True)"
      ]
    },
    {
      "cell_type": "code",
      "execution_count": null,
      "metadata": {
        "id": "0v9KWXxmWRMO"
      },
      "outputs": [],
      "source": [
        "train_and_evaluate(experiment_name = \"E4_Ciphertext_Pairs\", cipher_class = Present, n_rounds = 6, diff = [0, 0, 0, 0, 0, 0, 0, 0, 0, 0xd, 0, 0, 0, 0, 0, 0], reps = 10, data_format = \"Pairs\", network = \"Gohr\", shape = \"INSHAPE\", tune = True)"
      ]
    },
    {
      "cell_type": "code",
      "execution_count": null,
      "metadata": {
        "id": "Sc_ltsiYWRX-"
      },
      "outputs": [],
      "source": [
        "train_and_evaluate(experiment_name = \"E4_Ciphertext_Pairs\", cipher_class = ChaCha, n_rounds = 3, diff = [0, 0, 0, 0x8000], reps = 10, data_format = \"Pairs\", network = \"Gohr\", shape = \"INSHAPE\", tune = True)"
      ]
    },
    {
      "cell_type": "markdown",
      "metadata": {
        "id": "h9OfmcYvWYCj"
      },
      "source": [
        "UNSHAPED: Networks on ciphertext pairs + hyperparameter tuning"
      ]
    },
    {
      "cell_type": "code",
      "execution_count": null,
      "metadata": {
        "id": "zuC2GhnqWSEt"
      },
      "outputs": [],
      "source": [
        "train_and_evaluate(experiment_name = \"E3_Ciphertext_Pairs\", cipher_class = Speck, n_rounds = 6, diff = [0x40, 0], reps = 10, data_format = \"Pairs\", network = \"Gohr\", shape = \"UNSHAPED\", tune = True)"
      ]
    },
    {
      "cell_type": "code",
      "execution_count": null,
      "metadata": {
        "id": "xfGhijhTWSPZ"
      },
      "outputs": [],
      "source": [
        "train_and_evaluate(experiment_name = \"E3_Ciphertext_Pairs\",  cipher_class = Simon, n_rounds = 9, diff = [0, 0x400], reps = 10, data_format = \"Pairs\",  network = \"Gohr\", shape = \"UNSHAPED\", tune = True)"
      ]
    },
    {
      "cell_type": "code",
      "execution_count": null,
      "metadata": {
        "id": "HMY-pDfyWSY9"
      },
      "outputs": [],
      "source": [
        "train_and_evaluate(experiment_name = \"E3_Ciphertext_Pairs\", cipher_class = Skinny, n_rounds = 6, diff = [0, 0, 0, 0, 0, 0, 0, 0, 0, 0, 0, 0, 2, 0, 0, 0], reps = 10, data_format = \"Pairs\",  network = \"Gohr\", shape = \"UNSHAPED\", tune = True)"
      ]
    },
    {
      "cell_type": "code",
      "execution_count": null,
      "metadata": {
        "id": "4ApF-g06WSio"
      },
      "outputs": [],
      "source": [
        "train_and_evaluate(experiment_name = \"E3_Ciphertext_Pairs\", cipher_class = Katan, n_rounds = 50, diff = [0x4000], reps = 10, data_format = \"Pairs\",  network = \"Gohr\", shape = \"UNSHAPED\", tune = True)"
      ]
    },
    {
      "cell_type": "code",
      "execution_count": null,
      "metadata": {
        "id": "mA8jkW1SWSsV"
      },
      "outputs": [],
      "source": [
        "train_and_evaluate(experiment_name = \"E3_Ciphertext_Pairs\", cipher_class = Present, n_rounds = 6, diff = [0, 0, 0, 0, 0, 0, 0, 0, 0, 0xd, 0, 0, 0, 0, 0, 0], reps = 10, data_format = \"Pairs\",  network = \"Gohr\", shape = \"UNSHAPED\", tune = True)"
      ]
    },
    {
      "cell_type": "code",
      "execution_count": null,
      "metadata": {
        "id": "bSFfQHXKWS2o"
      },
      "outputs": [],
      "source": [
        "train_and_evaluate(experiment_name = \"E3_Ciphertext_Pairs\", cipher_class = ChaCha, n_rounds = 3, diff = [0, 0, 0, 0x8000], reps = 10, data_format = \"Pairs\",  network = \"Gohr\", shape = \"UNSHAPED\", tune = True)"
      ]
    },
    {
      "cell_type": "markdown",
      "metadata": {
        "id": "OWNAg2sOVzwl",
        "jp-MarkdownHeadingCollapsed": true
      },
      "source": [
        "#### MLP"
      ]
    },
    {
      "cell_type": "markdown",
      "metadata": {
        "id": "AD5p-pLyxxcH"
      },
      "source": [
        "SHAPED: Networks on ciphertext pairs + hyperparameter tuning"
      ]
    },
    {
      "cell_type": "code",
      "execution_count": null,
      "metadata": {
        "id": "s9V1jBwmyp_h"
      },
      "outputs": [],
      "source": [
        "train_and_evaluate(experiment_name = \"E4_Ciphertext_Pairs\", cipher_class = Speck, n_rounds = 6, diff = [0x40, 0], reps = 10, data_format = \"Pairs\", network = \"MLP\", shape = \"INSHAPE\", tune = True)"
      ]
    },
    {
      "cell_type": "code",
      "execution_count": null,
      "metadata": {
        "id": "sRuC0kjLTxFJ"
      },
      "outputs": [],
      "source": [
        "train_and_evaluate(experiment_name = \"E4_Ciphertext_Pairs\", cipher_class = Simon, n_rounds = 9, diff = [0, 0x400], reps = 10, data_format = \"Pairs\", network = \"MLP\", shape = \"INSHAPE\", tune = True)"
      ]
    },
    {
      "cell_type": "code",
      "execution_count": null,
      "metadata": {
        "id": "EwgE22kwTxRQ"
      },
      "outputs": [],
      "source": [
        "train_and_evaluate(experiment_name = \"E4_Ciphertext_Pairs\", cipher_class = Skinny, n_rounds = 6, diff = [0, 0, 0, 0, 0, 0, 0, 0, 0, 0, 0, 0, 2, 0, 0, 0], reps = 10, data_format = \"Pairs\", network = \"MLP\", shape = \"INSHAPE\", tune = True)"
      ]
    },
    {
      "cell_type": "code",
      "execution_count": null,
      "metadata": {
        "id": "76ic6nsQTxds"
      },
      "outputs": [],
      "source": [
        "train_and_evaluate(experiment_name = \"E4_Ciphertext_Pairs\", cipher_class = Katan, n_rounds = 50, diff = [0x4000], reps = 10, data_format = \"Pairs\", network = \"MLP\", shape = \"INSHAPE\", tune = True)"
      ]
    },
    {
      "cell_type": "code",
      "execution_count": null,
      "metadata": {
        "id": "xHBdcIcVybkK"
      },
      "outputs": [],
      "source": [
        "train_and_evaluate(experiment_name = \"E4_Ciphertext_Pairs\", cipher_class = Present, n_rounds = 6, diff = [0, 0, 0, 0, 0, 0, 0, 0, 0, 0xd, 0, 0, 0, 0, 0, 0], reps = 10, data_format = \"Pairs\", network = \"MLP\", shape = \"INSHAPE\", tune = True)"
      ]
    },
    {
      "cell_type": "code",
      "execution_count": null,
      "metadata": {
        "id": "t1dUFDtEybyS"
      },
      "outputs": [],
      "source": [
        "train_and_evaluate(experiment_name = \"E4_Ciphertext_Pairs\", cipher_class = ChaCha, n_rounds = 3, diff = [0, 0, 0, 0x8000], reps = 10, data_format = \"Pairs\", network = \"MLP\", shape = \"INSHAPE\", tune = True)"
      ]
    },
    {
      "cell_type": "markdown",
      "metadata": {
        "id": "cJTYaks2E3ZQ"
      },
      "source": [
        "UNSHAPED: Networks on ciphertext pairs + hyperparameter tuning"
      ]
    },
    {
      "cell_type": "code",
      "execution_count": null,
      "metadata": {
        "id": "YfvHv8l_yb0w"
      },
      "outputs": [],
      "source": [
        "train_and_evaluate(experiment_name = \"E3_Ciphertext_Pairs\", cipher_class = Speck, n_rounds = 6, diff = [0x40, 0], reps = 10, data_format = \"Pairs\", network = \"MLP\", shape = \"UNSHAPED\", tune = True)"
      ]
    },
    {
      "cell_type": "code",
      "execution_count": null,
      "metadata": {
        "id": "mEll4P9myb4G"
      },
      "outputs": [],
      "source": [
        "train_and_evaluate(experiment_name = \"E3_Ciphertext_Pairs\", cipher_class = Simon, n_rounds = 9, diff = [0, 0x400], reps = 10, data_format = \"Pairs\", network = \"MLP\", shape = \"UNSHAPED\", tune = True)"
      ]
    },
    {
      "cell_type": "code",
      "execution_count": null,
      "metadata": {
        "id": "9yER5I4kFGTx"
      },
      "outputs": [],
      "source": [
        "train_and_evaluate(experiment_name = \"E3_Ciphertext_Pairs\", cipher_class = Skinny, n_rounds = 6, diff = [0, 0, 0, 0, 0, 0, 0, 0, 0, 0, 0, 0, 2, 0, 0, 0], reps = 10, data_format = \"Pairs\", network = \"MLP\", shape = \"UNSHAPED\", tune = True)"
      ]
    },
    {
      "cell_type": "code",
      "execution_count": null,
      "metadata": {
        "id": "slJ6omTrFGWG"
      },
      "outputs": [],
      "source": [
        "train_and_evaluate(experiment_name = \"E3_Ciphertext_Pairs\", cipher_class = Katan, n_rounds = 50, diff = [0x4000], reps = 10, data_format = \"Pairs\", network = \"MLP\", shape = \"UNSHAPED\", tune = True)"
      ]
    },
    {
      "cell_type": "code",
      "execution_count": null,
      "metadata": {
        "id": "NQAw0TL7FGYt"
      },
      "outputs": [],
      "source": [
        "train_and_evaluate(experiment_name = \"E3_Ciphertext_Pairs\", cipher_class = Present, n_rounds = 6, diff = [0, 0, 0, 0, 0, 0, 0, 0, 0, 0xd, 0, 0, 0, 0, 0, 0], reps = 10, data_format = \"Pairs\", network = \"MLP\", shape = \"UNSHAPED\", tune = True)"
      ]
    },
    {
      "cell_type": "code",
      "execution_count": null,
      "metadata": {
        "id": "0Yr3JF7lFGbE"
      },
      "outputs": [],
      "source": [
        "train_and_evaluate(experiment_name = \"E3_Ciphertext_Pairs\", cipher_class = ChaCha, n_rounds = 3, diff = [0, 0, 0, 0x8000], reps = 10, data_format = \"Pairs\", network = \"MLP\", shape = \"UNSHAPED\", tune = True)"
      ]
    },
    {
      "cell_type": "markdown",
      "metadata": {
        "id": "LaUgHQBvWLa6",
        "jp-MarkdownHeadingCollapsed": true
      },
      "source": [
        "#### Gohr with Inception block in 1st part"
      ]
    },
    {
      "cell_type": "markdown",
      "metadata": {
        "id": "8SYceh4bjBwo"
      },
      "source": [
        "SHAPED: Networks on ciphertext pairs + hyperparameter tuning"
      ]
    },
    {
      "cell_type": "code",
      "execution_count": null,
      "metadata": {
        "id": "DEVkBn0WjI1O"
      },
      "outputs": [],
      "source": [
        "train_and_evaluate(experiment_name = \"E4_Ciphertext_Pairs\", cipher_class = Speck, n_rounds = 6, diff = [0x40, 0], reps = 10, data_format = \"Pairs\", network = \"GohrInception1stB\", shape = \"INSHAPE\", tune = True)"
      ]
    },
    {
      "cell_type": "code",
      "execution_count": null,
      "metadata": {
        "id": "jlmCeGN-jJBO"
      },
      "outputs": [],
      "source": [
        "train_and_evaluate(experiment_name = \"E4_Ciphertext_Pairs\", cipher_class = Simon, n_rounds = 9, diff = [0, 0x400], reps = 10, data_format = \"Pairs\", network = \"GohrInception1stB\", shape = \"INSHAPE\", tune = True)"
      ]
    },
    {
      "cell_type": "code",
      "execution_count": null,
      "metadata": {
        "id": "yhYgXTCijJKl"
      },
      "outputs": [],
      "source": [
        "train_and_evaluate(experiment_name = \"E4_Ciphertext_Pairs\", cipher_class = Skinny, n_rounds = 6, diff = [0, 0, 0, 0, 0, 0, 0, 0, 0, 0, 0, 0, 2, 0, 0, 0], reps = 10, data_format = \"Pairs\", network = \"GohrInception1stB\", shape = \"INSHAPE\", tune = True)"
      ]
    },
    {
      "cell_type": "code",
      "execution_count": null,
      "metadata": {
        "id": "S6B_gZc5jJT7"
      },
      "outputs": [],
      "source": [
        "train_and_evaluate(experiment_name = \"E4_Ciphertext_Pairs\", cipher_class = Katan, n_rounds = 50, diff = [0x4000], reps = 10, data_format = \"Pairs\", network = \"GohrInception1stB\", shape = \"INSHAPE\", tune = True)"
      ]
    },
    {
      "cell_type": "code",
      "execution_count": null,
      "metadata": {
        "id": "-9gwl_E7jJd9"
      },
      "outputs": [],
      "source": [
        "train_and_evaluate(experiment_name = \"E4_Ciphertext_Pairs\", cipher_class = Present, n_rounds = 6, diff = [0, 0, 0, 0, 0, 0, 0, 0, 0, 0xd, 0, 0, 0, 0, 0, 0], reps = 10, data_format = \"Pairs\", network = \"GohrInception1stB\", shape = \"INSHAPE\", tune = True)"
      ]
    },
    {
      "cell_type": "code",
      "execution_count": null,
      "metadata": {
        "id": "f8F79qN6jJoT"
      },
      "outputs": [],
      "source": [
        "train_and_evaluate(experiment_name = \"E4_Ciphertext_Pairs\", cipher_class = ChaCha, n_rounds = 3, diff = [0, 0, 0, 0x8000], reps = 10, data_format = \"Pairs\", network = \"GohrInception1stB\", shape = \"INSHAPE\", tune = True)"
      ]
    },
    {
      "cell_type": "markdown",
      "metadata": {
        "id": "QF7bFScHjCUz"
      },
      "source": [
        "UNSHAPED: Networks on ciphertext pairs + hyperparameter tuning"
      ]
    },
    {
      "cell_type": "code",
      "execution_count": null,
      "metadata": {
        "id": "kg7G4gnYjK_v"
      },
      "outputs": [],
      "source": [
        "train_and_evaluate(experiment_name = \"E3_Ciphertext_Pairs\", cipher_class = Speck, n_rounds = 6, diff = [0x40, 0], reps = 10, data_format = \"Pairs\", network = \"GohrInception1stB\", shape = \"UNSHAPED\", tune = True)"
      ]
    },
    {
      "cell_type": "code",
      "execution_count": null,
      "metadata": {
        "id": "GtFNY3QvjLCq"
      },
      "outputs": [],
      "source": [
        "train_and_evaluate(experiment_name = \"E3_Ciphertext_Pairs\", cipher_class = Simon, n_rounds = 9, diff = [0, 0x400], reps = 10, data_format = \"Pairs\", network = \"GohrInception1stB\", shape = \"UNSHAPED\", tune = True)"
      ]
    },
    {
      "cell_type": "code",
      "execution_count": null,
      "metadata": {
        "id": "V1SlV0qMjLFZ"
      },
      "outputs": [],
      "source": [
        "train_and_evaluate(experiment_name = \"E3_Ciphertext_Pairs\", cipher_class = Skinny, n_rounds = 6, diff = [0, 0, 0, 0, 0, 0, 0, 0, 0, 0, 0, 0, 2, 0, 0, 0], reps = 10, data_format = \"Pairs\", network = \"GohrInception1stB\", shape = \"UNSHAPED\", tune = True)"
      ]
    },
    {
      "cell_type": "code",
      "execution_count": null,
      "metadata": {
        "id": "0PLSvV_CjLH8"
      },
      "outputs": [],
      "source": [
        "train_and_evaluate(experiment_name = \"E3_Ciphertext_Pairs\", cipher_class = Katan, n_rounds = 50, diff = [0x4000], reps = 10, data_format = \"Pairs\", network = \"GohrInception1stB\", shape = \"UNSHAPED\", tune = True)"
      ]
    },
    {
      "cell_type": "code",
      "execution_count": null,
      "metadata": {
        "id": "Pi8t7TgwjLK1"
      },
      "outputs": [],
      "source": [
        "train_and_evaluate(experiment_name = \"E3_Ciphertext_Pairs\", cipher_class = Present, n_rounds = 6, diff = [0, 0, 0, 0, 0, 0, 0, 0, 0, 0xd, 0, 0, 0, 0, 0, 0], reps = 10, data_format = \"Pairs\",network = \"GohrInception1stB\", shape = \"UNSHAPED\", tune = True)"
      ]
    },
    {
      "cell_type": "code",
      "execution_count": null,
      "metadata": {
        "id": "4vdzdzDmjLvy"
      },
      "outputs": [],
      "source": [
        "train_and_evaluate(experiment_name = \"E3_Ciphertext_Pairs\", cipher_class = ChaCha, n_rounds = 3, diff = [0, 0, 0, 0x8000], reps = 10, data_format = \"Pairs\", network = \"GohrInception1stB\", shape = \"UNSHAPED\", tune = True)"
      ]
    },
    {
      "cell_type": "markdown",
      "metadata": {
        "id": "mwxewAZokMH-",
        "jp-MarkdownHeadingCollapsed": true
      },
      "source": [
        "#### Gohr with Inception block in 2nd part"
      ]
    },
    {
      "cell_type": "markdown",
      "metadata": {
        "id": "yQ_h9BKHkWEf"
      },
      "source": [
        "SHAPED: Networks on ciphertext pairs + hyperparameter tuning"
      ]
    },
    {
      "cell_type": "code",
      "execution_count": null,
      "metadata": {
        "id": "qFyfcWcrkXP6"
      },
      "outputs": [],
      "source": [
        "train_and_evaluate(experiment_name = \"E4_Ciphertext_Pairs\", cipher_class = Speck, n_rounds = 6, diff = [0x40, 0], reps = 10, data_format = \"Pairs\", network = \"GohrInception2ndB\", shape = \"INSHAPE\", tune = True)"
      ]
    },
    {
      "cell_type": "code",
      "execution_count": null,
      "metadata": {
        "id": "xSJmZsDbkXSV"
      },
      "outputs": [],
      "source": [
        "train_and_evaluate(experiment_name = \"E4_Ciphertext_Pairs\", cipher_class = Simon, n_rounds = 9, diff = [0, 0x400], reps = 10, data_format = \"Pairs\", network = \"GohrInception2ndB\", shape = \"INSHAPE\", tune = True)"
      ]
    },
    {
      "cell_type": "code",
      "execution_count": null,
      "metadata": {
        "id": "fJYCM0pMkXWf"
      },
      "outputs": [],
      "source": [
        "train_and_evaluate(experiment_name = \"E4_Ciphertext_Pairs\", cipher_class = Skinny, n_rounds = 6, diff = [0, 0, 0, 0, 0, 0, 0, 0, 0, 0, 0, 0, 2, 0, 0, 0], reps = 10, data_format = \"Pairs\", network = \"GohrInception2ndB\", shape = \"INSHAPE\", tune = True)"
      ]
    },
    {
      "cell_type": "code",
      "execution_count": null,
      "metadata": {
        "id": "uuenfHP3kXZ4"
      },
      "outputs": [],
      "source": [
        "train_and_evaluate(experiment_name = \"E4_Ciphertext_Pairs\", cipher_class = Katan, n_rounds = 50, diff = [0x4000], reps = 10, data_format = \"Pairs\", network = \"GohrInception2ndB\", shape = \"INSHAPE\", tune = True)"
      ]
    },
    {
      "cell_type": "code",
      "execution_count": null,
      "metadata": {
        "id": "GrUsdq7hkXrL"
      },
      "outputs": [],
      "source": [
        "train_and_evaluate(experiment_name = \"E4_Ciphertext_Pairs\", cipher_class = Present, n_rounds = 6, diff = [0, 0, 0, 0, 0, 0, 0, 0, 0, 0xd, 0, 0, 0, 0, 0, 0], reps = 10, data_format = \"Pairs\", network = \"GohrInception2ndB\", shape = \"INSHAPE\", tune = True)"
      ]
    },
    {
      "cell_type": "code",
      "execution_count": null,
      "metadata": {
        "id": "YXWSWqGVkYCT"
      },
      "outputs": [],
      "source": [
        "train_and_evaluate(experiment_name = \"E4_Ciphertext_Pairs\", cipher_class = ChaCha, n_rounds = 3, diff = [0, 0, 0, 0x8000], reps = 10, data_format = \"Pairs\", network = \"GohrInception2ndB\", shape = \"INSHAPE\", tune = True)"
      ]
    },
    {
      "cell_type": "markdown",
      "metadata": {
        "id": "RWjPRqHukWRz"
      },
      "source": [
        "UNSHAPED: Networks on ciphertext pairs + hyperparameter tuning"
      ]
    },
    {
      "cell_type": "code",
      "execution_count": null,
      "metadata": {
        "id": "ALM_ck2LkZTI"
      },
      "outputs": [],
      "source": [
        "train_and_evaluate(experiment_name = \"E3_Ciphertext_Pairs\", cipher_class = Speck, n_rounds = 6, diff = [0x40, 0], reps = 10, data_format = \"Pairs\", network = \"GohrInception2ndB\", shape = \"UNSHAPED\", tune = True)"
      ]
    },
    {
      "cell_type": "code",
      "execution_count": null,
      "metadata": {
        "id": "RCgOG9khkZeU"
      },
      "outputs": [],
      "source": [
        "train_and_evaluate(experiment_name = \"E3_Ciphertext_Pairs\", cipher_class = Simon, n_rounds = 9, diff = [0, 0x400], reps = 10, data_format = \"Pairs\", network = \"GohrInception2ndB\", shape = \"UNSHAPED\", tune = True)"
      ]
    },
    {
      "cell_type": "code",
      "execution_count": null,
      "metadata": {
        "id": "Mx56SZVtkZgy"
      },
      "outputs": [],
      "source": [
        "train_and_evaluate(experiment_name = \"E3_Ciphertext_Pairs\", cipher_class = Skinny, n_rounds = 6, diff = [0, 0, 0, 0, 0, 0, 0, 0, 0, 0, 0, 0, 2, 0, 0, 0], reps = 10, data_format = \"Pairs\", network = \"GohrInception2ndB\", shape = \"UNSHAPED\", tune = True)"
      ]
    },
    {
      "cell_type": "code",
      "execution_count": null,
      "metadata": {
        "id": "AVOXIMFvkZkL"
      },
      "outputs": [],
      "source": [
        "train_and_evaluate(experiment_name = \"E3_Ciphertext_Pairs\", cipher_class = Katan, n_rounds = 50, diff = [0x4000], reps = 10, data_format = \"Pairs\", network = \"GohrInception2ndB\", shape = \"UNSHAPED\", tune = True)"
      ]
    },
    {
      "cell_type": "code",
      "execution_count": null,
      "metadata": {
        "id": "1Z1yF5FCkZ-m"
      },
      "outputs": [],
      "source": [
        "train_and_evaluate(experiment_name = \"E3_Ciphertext_Pairs\", cipher_class = Present, n_rounds = 6, diff = [0, 0, 0, 0, 0, 0, 0, 0, 0, 0xd, 0, 0, 0, 0, 0, 0], reps = 10, data_format = \"Pairs\", network = \"GohrInception2ndB\", shape = \"UNSHAPED\", tune = True)"
      ]
    },
    {
      "cell_type": "code",
      "execution_count": null,
      "metadata": {
        "id": "yzGoHY03kaJI"
      },
      "outputs": [],
      "source": [
        "train_and_evaluate(experiment_name = \"E3_Ciphertext_Pairs\", cipher_class = ChaCha, n_rounds = 3, diff = [0, 0, 0, 0x8000], reps = 10, data_format = \"Pairs\", network = \"GohrInception2ndB\", shape = \"UNSHAPED\", tune = True)"
      ]
    },
    {
      "cell_type": "markdown",
      "metadata": {
        "id": "vutawm55k5Hw",
        "jp-MarkdownHeadingCollapsed": true
      },
      "source": [
        "### Special cipher agnostic network DBIT trained on pairs (as in the original paper)\n",
        "\n",
        "No tuning + No shaping as per original paper"
      ]
    },
    {
      "cell_type": "markdown",
      "metadata": {
        "id": "0RDRe1UJ8v8g"
      },
      "source": [
        "UNSHAPED: Networks on ciphertext pairs + no hyperparameter tuning"
      ]
    },
    {
      "cell_type": "code",
      "execution_count": null,
      "metadata": {
        "id": "vCEmnY4f8w1H"
      },
      "outputs": [],
      "source": [
        "train_and_evaluate(experiment_name = \"E3_Ciphertext_Pairs\", cipher_class = Speck, n_rounds = 6, diff = [0x40, 0], reps = 10, data_format = \"Pairs\", network = \"DBIT\", shape = \"UNSHAPED\", tune = False)"
      ]
    },
    {
      "cell_type": "code",
      "execution_count": null,
      "metadata": {
        "id": "CVxvEILz8w4s"
      },
      "outputs": [],
      "source": [
        "train_and_evaluate(experiment_name = \"E3_Ciphertext_Pairs\", cipher_class = Simon, n_rounds = 9, diff = [0, 0x400], reps = 10, data_format = \"Pairs\", network = \"DBIT\", shape = \"UNSHAPED\", tune = False)"
      ]
    },
    {
      "cell_type": "code",
      "execution_count": null,
      "metadata": {
        "id": "nZkKfvq08w8I"
      },
      "outputs": [],
      "source": [
        "train_and_evaluate(experiment_name = \"E3_Ciphertext_Pairs\", cipher_class = Skinny, n_rounds = 6, diff = [0, 0, 0, 0, 0, 0, 0, 0, 0, 0, 0, 0, 2, 0, 0, 0], reps = 10, data_format = \"Pairs\", network = \"DBIT\", shape = \"UNSHAPED\", tune = False)"
      ]
    },
    {
      "cell_type": "code",
      "execution_count": null,
      "metadata": {
        "id": "xa4QpZkm8xNH"
      },
      "outputs": [],
      "source": [
        "train_and_evaluate(experiment_name = \"E3_Ciphertext_Pairs\", cipher_class = Katan, n_rounds = 50, diff = [0x4000], reps = 10, data_format = \"Pairs\", network = \"DBIT\", shape = \"UNSHAPED\", tune = False)"
      ]
    },
    {
      "cell_type": "code",
      "execution_count": null,
      "metadata": {
        "id": "2dvHzdGn8xjb"
      },
      "outputs": [],
      "source": [
        "train_and_evaluate(experiment_name = \"E3_Ciphertext_Pairs\", cipher_class = Present, n_rounds = 6, diff = [0, 0, 0, 0, 0, 0, 0, 0, 0, 0xd, 0, 0, 0, 0, 0, 0], reps = 10, data_format = \"Pairs\", network = \"DBIT\", shape = \"UNSHAPED\", tune = False)"
      ]
    },
    {
      "cell_type": "code",
      "execution_count": null,
      "metadata": {
        "id": "3eDxq_FK8xtH"
      },
      "outputs": [],
      "source": [
        "train_and_evaluate(experiment_name = \"E3_Ciphertext_Pairs\", cipher_class = ChaCha, n_rounds = 3, diff = [0, 0, 0, 0x8000], reps = 10, data_format = \"Pairs\", network = \"DBIT\", shape = \"UNSHAPED\", tune = False)"
      ]
    },
    {
      "cell_type": "markdown",
      "source": [
        "## Question 5 and 6"
      ],
      "metadata": {
        "id": "H7F-YVLWkXuB"
      }
    },
    {
      "cell_type": "markdown",
      "metadata": {
        "id": "AR8C6VUOt3V2"
      },
      "source": [
        "### Updated interfaces of the above neural networks"
      ]
    },
    {
      "cell_type": "code",
      "execution_count": null,
      "metadata": {
        "id": "6M3L1Rp1IlKP"
      },
      "outputs": [],
      "source": [
        "import numpy as np\n",
        "from pickle import dump\n",
        "from datetime import datetime\n",
        "from tensorflow.keras.callbacks import ModelCheckpoint, LearningRateScheduler\n",
        "from tensorflow.keras.models import Model\n",
        "from tensorflow.keras.layers import Dense, Conv1D, Input, Reshape, Permute, Add, Flatten, BatchNormalization, Activation, Lambda, concatenate\n",
        "from tensorflow.keras.regularizers import l2\n",
        "\n",
        "\n",
        "\n",
        "# +++ Based on train_nets.py by Gohr +++\n",
        "\n",
        "bs = 5000\n",
        "wdir = './freshly_trained_nets/'\n",
        "\n",
        "\n",
        "def cyclic_lr(num_epochs, high_lr, low_lr):\n",
        "    return lambda i: low_lr + ((num_epochs - 1) - i % num_epochs) / (num_epochs - 1) * (high_lr - low_lr)\n",
        "\n",
        "class MyLRSchedule(keras.optimizers.schedules.LearningRateSchedule):\n",
        "\n",
        "    def __init__(self, initial_learning_rate, final_learning_rate, num_epochs):\n",
        "        self.initial_learning_rate = initial_learning_rate\n",
        "        self.final_learning_rate = final_learning_rate\n",
        "        self.num_epochs = num_epochs\n",
        "\n",
        "    def __call__(self, step):\n",
        "        return self.final_learning_rate + ((self.num_epochs - 1) - step % self.num_epochs) / (self.num_epochs - 1) * (self.initial_learning_rate - self.final_learning_rate)\n",
        "\n",
        "\n",
        "\n",
        "def make_resnet(hp, tune, data_format, shape, num_blocks, word_size, high_lr, low_lr, reg_param, num_epochs):\n",
        "\n",
        "    if data_format == \"Diffs\":\n",
        "      inp = Input(shape=(num_blocks * word_size * 1, ))\n",
        "      rs = Reshape((1 * num_blocks, word_size))(inp)\n",
        "      perm = Permute((2, 1))(rs)\n",
        "    if data_format == \"Pairs\":\n",
        "      inp = Input(shape=(num_blocks * word_size * 2, ))\n",
        "      rs = Reshape((2 * num_blocks, word_size))(inp)\n",
        "      perm = Permute((2, 1))(rs)\n",
        "    if data_format == \"PairsPlus\":\n",
        "      inp = Input(shape=(num_blocks * word_size * 2  * 2,))\n",
        "      rs = Reshape((4 * num_blocks  ,  word_size))(inp)\n",
        "      perm = Permute((2, 1))(rs)\n",
        "\n",
        "    train_shape = None\n",
        "    search_ks = None\n",
        "    ks1 = 1\n",
        "    ks = 3\n",
        "\n",
        "    if shape == \"UNSHAPED\":\n",
        "      train_shape = Reshape((num_blocks * word_size * 2, 1))(inp)\n",
        "      search_ks = num_blocks * word_size\n",
        "    else:\n",
        "      train_shape = perm\n",
        "      search_ks = word_size\n",
        "\n",
        "\n",
        "\n",
        "\n",
        "\n",
        "    if tune is True:\n",
        "      reg_param = hp.Float(\"reg_param\", 0.000000001 , 0.0001, step=0.000000001, default = reg_param)\n",
        "      #ks1 = hp.Int('ks1', min_value=1, max_value= search_ks, step=1, default = ks1)\n",
        "      ks = hp.Int('ks', min_value=1, max_value= search_ks, step=1, default = ks)\n",
        "      high_lr = hp.Float(\"high_lr\", 0.0001 , 0.01, step=0.0001, default = high_lr)\n",
        "      low_lr = hp.Float(\"low_lr\", 0.000001 , 0.001, step=0.000001, default = low_lr)\n",
        "\n",
        "\n",
        "\n",
        "\n",
        "\n",
        "    conv0 = Conv1D(32, kernel_size= ks1, padding='same', kernel_regularizer=l2(reg_param))(train_shape)\n",
        "    conv0 = BatchNormalization()(conv0)\n",
        "    conv0 = Activation('relu')(conv0)\n",
        "\n",
        "    shortcut = conv0\n",
        "    for i in range(10):\n",
        "        conv1 = Conv1D(32, kernel_size= ks, padding='same', kernel_regularizer=l2(reg_param))(shortcut)\n",
        "        conv1 = BatchNormalization()(conv1)\n",
        "        conv1 = Activation('relu')(conv1)\n",
        "        conv2 = Conv1D(32, kernel_size= ks, padding='same', kernel_regularizer=l2(reg_param))(conv1)\n",
        "        conv2 = BatchNormalization()(conv2)\n",
        "        conv2 = Activation('relu')(conv2)\n",
        "        shortcut = Add()([shortcut, conv2])\n",
        "\n",
        "    flat1 = Flatten()(shortcut)\n",
        "\n",
        "    dense1 = Dense(64, kernel_regularizer=l2(reg_param))(flat1)\n",
        "    dense1 = BatchNormalization()(dense1)\n",
        "    dense1 = Activation('relu')(dense1)\n",
        "\n",
        "    dense2 = Dense(64, kernel_regularizer=l2(reg_param))(dense1)\n",
        "    dense2 = BatchNormalization()(dense2)\n",
        "    dense2 = Activation('relu')(dense2)\n",
        "\n",
        "    out = Dense(1, activation='sigmoid', kernel_regularizer=l2(reg_param))(dense2)\n",
        "    model = Model(inputs=inp, outputs=out)\n",
        "\n",
        "    #Add this everywhere and remove from main\n",
        "    model.compile(optimizer= tf.keras.optimizers.Adam(amsgrad=True), loss='mse', metrics=['acc'])\n",
        "\n",
        "    return model\n",
        "\n",
        "\n",
        "\n",
        "def make_MLP(hp, tune, data_format, shape, num_blocks, word_size, high_lr, low_lr, reg_param, num_epochs):\n",
        "\n",
        "    chunks = 0\n",
        "\n",
        "    #Add variant for False with INSHAPE\n",
        "    special_treatment_when_input_is_INSHAPE = True\n",
        "\n",
        "    if data_format == \"Diffs\":\n",
        "      inp = Input(shape=(num_blocks * word_size * 1, ))\n",
        "      rs = Reshape((1 * num_blocks, word_size))(inp)\n",
        "      perm = Permute((2, 1))(rs)\n",
        "      chunks = num_blocks\n",
        "    if data_format == \"Pairs\":\n",
        "      inp = Input(shape=(num_blocks * word_size * 2, ))\n",
        "      rs = Reshape((2 * num_blocks, word_size))(inp)\n",
        "      perm = Permute((2, 1))(rs)\n",
        "      chunks = num_blocks * 2\n",
        "    if data_format == \"PairsPlus\":\n",
        "      inp = Input(shape=(num_blocks * word_size * 2  * 2,))\n",
        "      rs = Reshape((4 * num_blocks  ,  word_size))(inp)\n",
        "      perm = Permute((2, 1))(rs)\n",
        "      chunks = num_blocks * 4\n",
        "\n",
        "\n",
        "    if tune is True:\n",
        "      reg_param = hp.Float(\"reg_param\", 0.000000001 , 0.0001, step=0.000000001, default = reg_param)\n",
        "      high_lr = hp.Float(\"high_lr\", 0.0001 , 0.01, step=0.0001, default = high_lr)\n",
        "      low_lr = hp.Float(\"low_lr\", 0.000001 , 0.001, step=0.000001, default = low_lr)\n",
        "\n",
        "\n",
        "\n",
        "\n",
        "    outputs = []\n",
        "    combined = None\n",
        "\n",
        "\n",
        "\n",
        "\n",
        "\n",
        "    if shape == \"UNSHAPED\":\n",
        "\n",
        "      dense = Dense(chunks * word_size, kernel_regularizer=l2(reg_param))(inp)\n",
        "      dense = BatchNormalization()(dense)\n",
        "      dense = Activation('relu')(dense)\n",
        "\n",
        "      dense = Dense(chunks * word_size, kernel_regularizer=l2(reg_param))(dense)\n",
        "      dense = BatchNormalization()(dense)\n",
        "      dense = Activation('relu')(dense)\n",
        "\n",
        "      combined = dense\n",
        "\n",
        "    else: #For shape a simple MLP that takes reshaped input does not work - but when given the full unshaped input a simple MLP does\n",
        "          #To boost the performance we do this special thing to train on reshaped input\n",
        "\n",
        "      if special_treatment_when_input_is_INSHAPE is True:\n",
        "          for chunk in list(range(0,chunks)):\n",
        "              dense = Dense(word_size, kernel_regularizer=l2(reg_param))(perm[:, :, chunk])\n",
        "              dense = BatchNormalization()(dense)\n",
        "              dense = Activation('relu')(dense)\n",
        "\n",
        "              dense = Dense(word_size, kernel_regularizer=l2(reg_param))(dense)\n",
        "              dense = BatchNormalization()(dense)\n",
        "              dense = Activation('relu')(dense)\n",
        "              outputs.append(dense)\n",
        "\n",
        "          # Concatenate the outputs of the four MLPs\n",
        "          combined = keras.layers.concatenate(outputs)\n",
        "      else:\n",
        "        dense = Dense(word_size, kernel_regularizer=l2(reg_param))(perm)\n",
        "        dense = BatchNormalization()(dense)\n",
        "        dense = Activation('relu')(dense)\n",
        "\n",
        "        dense = Dense(word_size, kernel_regularizer=l2(reg_param))(dense)\n",
        "        dense = BatchNormalization()(dense)\n",
        "        dense = Activation('relu')(dense)\n",
        "\n",
        "        combined = dense\n",
        "\n",
        "\n",
        "\n",
        "    num_layers_init =  3\n",
        "    #size = [64, 64, 32]\n",
        "    size_init = [chunks * word_size, chunks * word_size, int(chunks * word_size/2)]\n",
        "\n",
        "    if tune is True:\n",
        "      num_layers = hp.Int('num_layers', min_value=1, max_value= chunks*word_size, step=1, default = num_layers_init)\n",
        "    else:\n",
        "        num_layers = num_layers_init\n",
        "\n",
        "    x = combined\n",
        "    counter = 0\n",
        "    for i in range(0, num_layers):\n",
        "      if tune is True:\n",
        "        size = hp.Int('size_layer'+str(counter), min_value=1, max_value= chunks*word_size * 4, step=1)\n",
        "        x = Dense(size, kernel_regularizer=l2(reg_param))(x)\n",
        "      else:\n",
        "        size = size_init\n",
        "        x = Dense(size[counter], kernel_regularizer=l2(reg_param))(x)\n",
        "\n",
        "\n",
        "      x = BatchNormalization()(x)\n",
        "      x = Activation('relu')(x)\n",
        "      counter = counter + 1\n",
        "\n",
        "    out = Dense(1, activation='sigmoid', kernel_regularizer=l2(reg_param))(x)\n",
        "    model = Model(inputs=inp, outputs=out)\n",
        "\n",
        "    model.compile(optimizer= tf.keras.optimizers.Adam(amsgrad=True), loss='mse', metrics=['acc'])\n",
        "\n",
        "\n",
        "    return model\n",
        "\n",
        "\n",
        "\n",
        "def make_Gohr_Inception_1stB(hp, tune, data_format, shape, num_blocks, word_size, high_lr, low_lr, reg_param, num_epochs):\n",
        "\n",
        "    if data_format == \"Diffs\":\n",
        "      inp = Input(shape=(num_blocks * word_size * 1, ))\n",
        "      rs = Reshape((1 * num_blocks, word_size))(inp)\n",
        "      perm = Permute((2, 1))(rs)\n",
        "    if data_format == \"Pairs\":\n",
        "      inp = Input(shape=(num_blocks * word_size * 2, ))\n",
        "      rs = Reshape((2 * num_blocks, word_size))(inp)\n",
        "      perm = Permute((2, 1))(rs)\n",
        "    if data_format == \"PairsPlus\":\n",
        "      inp = Input(shape=(num_blocks * word_size * 2  * 2,))\n",
        "      rs = Reshape((4 * num_blocks  ,  word_size))(inp)\n",
        "      perm = Permute((2, 1))(rs)\n",
        "\n",
        "    train_shape = None\n",
        "    search_ks = None\n",
        "    num_filters=32\n",
        "\n",
        "    ks1 = 1\n",
        "    ks2 = 3\n",
        "    ks3 = 5\n",
        "    ks4 = 7\n",
        "    ks = 3\n",
        "\n",
        "    if shape == \"UNSHAPED\":\n",
        "      train_shape = Reshape((num_blocks * word_size * 2, 1))(inp)\n",
        "      search_ks = num_blocks * word_size\n",
        "    else:\n",
        "      train_shape = perm\n",
        "      search_ks = word_size\n",
        "\n",
        "\n",
        "\n",
        "\n",
        "    if tune is True:\n",
        "      reg_param = hp.Float(\"reg_param\", 0.000000001 , 0.0001, step=0.000000001, default = reg_param)\n",
        "      #ks1 = hp.Int('ks1', min_value=1, max_value= search_ks, step=1, default = ks1)\n",
        "      ks2 = hp.Int('ks2', min_value=1, max_value= search_ks, step=1, default = ks2)\n",
        "      ks3 = hp.Int('ks3', min_value=1, max_value= search_ks, step=1, default = ks3)\n",
        "      ks4 = hp.Int('ks4', min_value=1, max_value= search_ks, step=1, default = ks4)\n",
        "      ks = hp.Int('ks', min_value=1, max_value= search_ks, step=1, default = ks)\n",
        "      high_lr = hp.Float(\"high_lr\", 0.0001 , 0.01, step=0.0001, default = high_lr)\n",
        "      low_lr = hp.Float(\"low_lr\", 0.000001 , 0.001, step=0.000001, default = low_lr)\n",
        "\n",
        "    conv01 = Conv1D(num_filters, kernel_size=ks1, padding='same', kernel_regularizer=l2(reg_param))(perm)\n",
        "    conv02 = Conv1D(num_filters, kernel_size=ks2, padding='same', kernel_regularizer=l2(reg_param))(perm)\n",
        "    conv03 = Conv1D(num_filters, kernel_size=ks3, padding='same', kernel_regularizer=l2(reg_param))(perm)\n",
        "    conv04 = Conv1D(num_filters, kernel_size=ks4, padding='same', kernel_regularizer=l2(reg_param))(perm)\n",
        "\n",
        "    c2 = keras.layers.concatenate([conv01, conv02, conv03, conv04], axis=-1)\n",
        "    conv0 = BatchNormalization()(c2)\n",
        "    conv0 = Activation('relu')(conv0)\n",
        "\n",
        "    shortcut = conv0\n",
        "\n",
        "\n",
        "    for i in range(10):\n",
        "        conv1 = Conv1D(num_filters*4, kernel_size=ks, padding='same', kernel_regularizer=l2(reg_param))(shortcut)\n",
        "        conv1 = BatchNormalization()(conv1)\n",
        "        conv1 = Activation('relu')(conv1)\n",
        "        conv2 = Conv1D(num_filters*4, kernel_size=ks, padding='same', kernel_regularizer=l2(reg_param))(conv1)\n",
        "        conv2 = BatchNormalization()(conv2)\n",
        "        conv2 = Activation('relu')(conv2)\n",
        "        shortcut = Add()([shortcut, conv2])\n",
        "        ks += 2\n",
        "\n",
        "\n",
        "    flat1 = Flatten()(shortcut)\n",
        "    dense0 = keras.layers.Dropout(0.8)(flat1) #Dropout added to reduce overfitting - as mentioned in paper\n",
        "    dense0 = Dense(512, kernel_regularizer=l2(reg_param))(dense0)\n",
        "\n",
        "    # dense0 = Dense(512, kernel_regularizer=l2(reg_param))(flat1)\n",
        "\n",
        "    dense0 = BatchNormalization()(dense0)\n",
        "    dense0 = Activation('relu')(dense0)\n",
        "    dense1 = Dense(64, kernel_regularizer=l2(reg_param))(dense0)\n",
        "    dense1 = BatchNormalization()(dense1)\n",
        "    dense1 = Activation('relu')(dense1)\n",
        "    dense2 = Dense(64, kernel_regularizer=l2(reg_param))(dense1)\n",
        "    dense2 = BatchNormalization()(dense2)\n",
        "    dense2 = Activation('relu')(dense2)\n",
        "    out = Dense(1, activation='sigmoid', kernel_regularizer=l2(reg_param))(dense2)\n",
        "    model = Model(inputs=inp, outputs=out)\n",
        "\n",
        "    model.compile(optimizer= tf.keras.optimizers.Adam(amsgrad=True), loss='mse', metrics=['acc'])\n",
        "\n",
        "\n",
        "    return(model)\n",
        "\n",
        "\n",
        "\n",
        "\n",
        "def make_Gohr_Inception_2ndB(hp, tune, data_format, shape, num_blocks, word_size, high_lr, low_lr, reg_param, num_epochs):\n",
        "\n",
        "    if data_format == \"Diffs\":\n",
        "      inp = Input(shape=(num_blocks * word_size * 1, ))\n",
        "      rs = Reshape((1 * num_blocks, word_size))(inp)\n",
        "      perm = Permute((2, 1))(rs)\n",
        "    if data_format == \"Pairs\":\n",
        "      inp = Input(shape=(num_blocks * word_size * 2, ))\n",
        "      rs = Reshape((2 * num_blocks, word_size))(inp)\n",
        "      perm = Permute((2, 1))(rs)\n",
        "    if data_format == \"PairsPlus\":\n",
        "      inp = Input(shape=(num_blocks * word_size * 2  * 2,))\n",
        "      rs = Reshape((4 * num_blocks  ,  word_size))(inp)\n",
        "      perm = Permute((2, 1))(rs)\n",
        "\n",
        "    train_shape = None\n",
        "    search_ks = None\n",
        "    num_filters=32\n",
        "    ks1 = 1\n",
        "    ks01 = 1\n",
        "    ks02 = 2\n",
        "    ks03 = 4\n",
        "    ks04 = 8\n",
        "    ks2 = 1\n",
        "\n",
        "\n",
        "    if shape == \"UNSHAPED\":\n",
        "      train_shape = Reshape((num_blocks * word_size * 2, 1))(inp)\n",
        "      search_ks = num_blocks * word_size\n",
        "    else:\n",
        "      train_shape = perm\n",
        "      search_ks = word_size\n",
        "\n",
        "\n",
        "    if tune is True:\n",
        "      reg_param = hp.Float(\"reg_param\", 0.000000001 , 0.0001, step=0.000000001, default = reg_param)\n",
        "      #ks1 = hp.Int('ks1', min_value=1, max_value= search_ks, step=1, default = ks1)\n",
        "      ks01 = hp.Int('ks01', min_value=1, max_value= search_ks, step=1, default = ks01)\n",
        "      ks02 = hp.Int('ks02', min_value=1, max_value= search_ks, step=1, default = ks02)\n",
        "      ks03 = hp.Int('ks03', min_value=1, max_value= search_ks, step=1, default = ks03)\n",
        "      ks04 = hp.Int('ks04', min_value=1, max_value= search_ks, step=1, default = ks04)\n",
        "      #ks2 = hp.Int('ks2', min_value=1, max_value= search_ks, step=1, default = ks2)\n",
        "\n",
        "      high_lr = hp.Float(\"high_lr\", 0.0001 , 0.01, step=0.0001, default = high_lr)\n",
        "      low_lr = hp.Float(\"low_lr\", 0.000001 , 0.001, step=0.000001, default = low_lr)\n",
        "\n",
        "    conv0 = Conv1D(3 * num_filters, kernel_size=ks1, padding='same', kernel_regularizer=l2(reg_param))(train_shape)\n",
        "    conv0 = BatchNormalization()(conv0)\n",
        "    conv0 = Activation('relu')(conv0)\n",
        "\n",
        "    shortcut = conv0\n",
        "    for i in range(10):\n",
        "        conv = Conv1D(3 * num_filters, kernel_size=ks01, padding='same', kernel_regularizer=l2(reg_param))(shortcut)\n",
        "\n",
        "        conv01 = Conv1D(num_filters, kernel_size=ks02, padding='same', kernel_regularizer=l2(reg_param))(conv)\n",
        "        conv02 = Conv1D(num_filters, kernel_size=ks03, padding='same', kernel_regularizer=l2(reg_param))(conv)\n",
        "        conv03 = Conv1D(num_filters, kernel_size=ks04, padding='same', kernel_regularizer=l2(reg_param))(conv)\n",
        "\n",
        "        concat = keras.layers.concatenate([conv01, conv02, conv03], axis=-1)\n",
        "        concat = BatchNormalization()(concat)\n",
        "        concat = Activation('relu')(concat)\n",
        "\n",
        "        conv2 = Conv1D(3 * num_filters, kernel_size=ks2, padding='same', kernel_regularizer=l2(reg_param))(concat)\n",
        "        conv2 = BatchNormalization()(conv2)\n",
        "        conv2 = Activation('relu')(conv2)\n",
        "        shortcut = Add()([shortcut, conv2])\n",
        "\n",
        "    flat = Flatten()(shortcut)\n",
        "\n",
        "    #pool = keras.layers.GlobalAveragePooling1D()(flat)\n",
        "\n",
        "    dense1 = Dense(64, kernel_regularizer=l2(reg_param))(flat)\n",
        "    dense1 = BatchNormalization()(dense1)\n",
        "    dense1 = Activation('relu')(dense1)\n",
        "\n",
        "    dense2 = Dense(64, kernel_regularizer=l2(reg_param))(dense1)\n",
        "    dense2 = BatchNormalization()(dense2)\n",
        "    dense2 = Activation('relu')(dense2)\n",
        "\n",
        "    out = Dense(1, activation='sigmoid', kernel_regularizer=l2(reg_param))(dense2)\n",
        "    model = Model(inputs=inp, outputs=out)\n",
        "\n",
        "    model.compile(optimizer= tf.keras.optimizers.Adam(amsgrad=True), loss='mse', metrics=['acc'])\n",
        "\n",
        "\n",
        "    return model\n",
        "\n",
        "\n",
        "\n",
        "\n",
        "def get_dilation_rates(input_size):\n",
        "    \"\"\"Helper function to determine the dilation rates of DBitNet given an input_size. \"\"\"\n",
        "    drs = []\n",
        "    while input_size >= 8:\n",
        "        drs.append(int(input_size / 2 - 1))\n",
        "        input_size = input_size // 2\n",
        "\n",
        "    return drs\n",
        "\n",
        "\n",
        "def make_DBIT(hp, tune, data_format, shape, num_blocks, word_size, high_lr, low_lr, reg_param, num_epochs):\n",
        "    input_size = None\n",
        "\n",
        "    #From here, only the input size is taken as the model does not need reshaping\n",
        "    if data_format == \"Diffs\":\n",
        "      inp = Input(shape=(num_blocks * word_size * 1, ))\n",
        "      rs = Reshape((1 * num_blocks, word_size))(inp)\n",
        "      perm = Permute((2, 1))(rs)\n",
        "      input_size= num_blocks * word_size * 1\n",
        "    if data_format == \"Pairs\":\n",
        "      inp = Input(shape=(num_blocks * word_size * 2, ))\n",
        "      rs = Reshape((2 * num_blocks, word_size))(inp)\n",
        "      perm = Permute((2, 1))(rs)\n",
        "      input_size= num_blocks * word_size * 2\n",
        "    if data_format == \"PairsPlus\":\n",
        "      inp = Input(shape=(num_blocks * word_size * 2  * 2,))\n",
        "      rs = Reshape((4 * num_blocks  ,  word_size))(inp)\n",
        "      perm = Permute((2, 1))(rs)\n",
        "      input_size= num_blocks * word_size * 4\n",
        "\n",
        "\n",
        "    '''\n",
        "    train_shape = None\n",
        "    if shape == \"UNSHAPED\":\n",
        "      train_shape = Reshape((num_blocks * word_size * 2, 1))(inp)\n",
        "    else:\n",
        "      train_shape = perm\n",
        "    '''\n",
        "\n",
        "    n_filters=32\n",
        "    n_add_filters=16\n",
        "\n",
        "\n",
        "    # determine the dilation rates from the given input size\n",
        "    dilation_rates = get_dilation_rates(input_size)\n",
        "\n",
        "    # prediction head parameters (similar to Gohr)\n",
        "    d1 = 256 # TODO this can likely be reduced to 64.\n",
        "    d2 = 64\n",
        "    reg_param = 1e-5\n",
        "\n",
        "    # define the input shape\n",
        "    inputs = Input(shape=(input_size, 1))\n",
        "    x = inputs\n",
        "\n",
        "    # normalize the input data to a range of [-1, 1]:\n",
        "    x = tf.subtract(x, 0.5)\n",
        "    x = tf.divide(x, 0.5)\n",
        "\n",
        "    for dilation_rate in dilation_rates:\n",
        "        ### wide-narrow blocks\n",
        "        x = Conv1D(filters=n_filters,kernel_size=2,padding='valid', dilation_rate=dilation_rate,strides=1,activation='relu')(x)\n",
        "        x = BatchNormalization()(x)\n",
        "        x_skip = x\n",
        "        x = Conv1D(filters=n_filters,kernel_size=2,padding='causal',dilation_rate=1,activation='relu')(x)\n",
        "        x = Add()([x, x_skip])\n",
        "        x = BatchNormalization()(x)\n",
        "\n",
        "        n_filters += n_add_filters\n",
        "\n",
        "    ### prediction head\n",
        "    out = tf.keras.layers.Flatten()(x)\n",
        "\n",
        "    dense0 = Dense(d1, kernel_regularizer=l2(reg_param))(out);\n",
        "    dense0 = BatchNormalization()(dense0);\n",
        "    dense0 = Activation('relu')(dense0);\n",
        "    dense1 = Dense(d1, kernel_regularizer=l2(reg_param))(dense0);\n",
        "    dense1 = BatchNormalization()(dense1);\n",
        "    dense1 = Activation('relu')(dense1);\n",
        "    dense2 = Dense(d2, kernel_regularizer=l2(reg_param))(dense1);\n",
        "    dense2 = BatchNormalization()(dense2);\n",
        "    dense2 = Activation('relu')(dense2);\n",
        "    out = Dense(1, activation='sigmoid', kernel_regularizer=l2(reg_param))(dense2)\n",
        "\n",
        "    model = Model(inputs, out)\n",
        "\n",
        "    model.compile(optimizer= tf.keras.optimizers.Adam(amsgrad=True), loss='mse', metrics=['acc'])\n",
        "\n",
        "\n",
        "    return model\n",
        "\n",
        "\n",
        "\n",
        "\n",
        "\n",
        "def create_distinguisher(cipher, data_format, network, shape, tune, num_epochs, hp = None):\n",
        "\n",
        "    high_lr=0.002\n",
        "    low_lr=0.0001\n",
        "    reg_param=0.0001\n",
        "\n",
        "\n",
        "    # create the network\n",
        "    net = None\n",
        "\n",
        "    if network == \"Gohr\":\n",
        "        net = make_resnet(hp = hp, tune = False, data_format = data_format, shape = shape, num_blocks = cipher.get_n_words(), word_size = cipher.get_word_size(), high_lr = high_lr, low_lr = low_lr, reg_param = reg_param, num_epochs = num_epochs)\n",
        "\n",
        "    if network == \"MLP\": #TD\n",
        "        net = make_MLP(hp = hp, tune = False, data_format = data_format, shape = shape, num_blocks = cipher.get_n_words(), word_size = cipher.get_word_size(), high_lr = high_lr, low_lr = low_lr, reg_param = reg_param, num_epochs = num_epochs)\n",
        "\n",
        "    if network == \"GohrInception1stB\":\n",
        "\n",
        "        net = make_Gohr_Inception_1stB(hp = hp, tune = False, data_format = data_format, shape = shape, num_blocks = cipher.get_n_words(), word_size = cipher.get_word_size(), high_lr = high_lr, low_lr = low_lr, reg_param = reg_param, num_epochs = num_epochs)\n",
        "\n",
        "    if network == \"GohrInception2ndB\":\n",
        "        net = make_Gohr_Inception_2ndB(hp = hp, tune = False, data_format = data_format, shape = shape, num_blocks = cipher.get_n_words(), word_size = cipher.get_word_size(), high_lr = high_lr, low_lr = low_lr, reg_param = reg_param, num_epochs = num_epochs)\n",
        "\n",
        "    if network == \"DBIT\":\n",
        "        net = make_DBIT(hp = hp, tune = False, data_format = data_format, shape = shape, num_blocks = cipher.get_n_words(), word_size = cipher.get_word_size(), high_lr = high_lr, low_lr = low_lr, reg_param = reg_param, num_epochs = num_epochs)\n",
        "\n",
        "\n",
        "    return net"
      ]
    },
    {
      "cell_type": "markdown",
      "metadata": {
        "id": "tef1HR-nIYqD"
      },
      "source": [
        "### Strategies"
      ]
    },
    {
      "cell_type": "code",
      "execution_count": null,
      "metadata": {
        "id": "jrqbYOupbIyR"
      },
      "outputs": [],
      "source": [
        "def freeze_feature_extractor(model):\n",
        "  for layer in model.layers:\n",
        "    if layer.name != \"Train\":\n",
        "      layer.trainable = False\n",
        "\n",
        "  return model"
      ]
    },
    {
      "cell_type": "code",
      "execution_count": null,
      "metadata": {
        "id": "aiPE4RIwCuJs"
      },
      "outputs": [],
      "source": [
        "import logging\n",
        "import pandas as pd\n",
        "import numpy as np\n",
        "\n",
        "batch_size = 5000\n",
        "\n",
        "def train_one_round(model, cipher, diff, data_format):\n",
        "\n",
        "      x_train, y_train = make_train_data(n_samples = 10**7, cipher = cipher, diff = diff, data_format = data_format)\n",
        "      x_val, y_val = make_train_data(n_samples = 10**6, cipher = cipher, diff = diff, data_format = data_format)\n",
        "\n",
        "\n",
        "      stop_early = tf.keras.callbacks.EarlyStopping(monitor='val_acc', patience= 3, restore_best_weights= True)\n",
        "      model.fit(x_train, y_train, epochs= 10, batch_size=batch_size, validation_data=(x_val, y_val), callbacks=[stop_early])\n",
        "\n",
        "      return model\n",
        "\n",
        "def run_experiment(start_round, end_round, cipher_class, diff, data_format, shape, network, strategy):\n",
        "\n",
        "    print(\"Startegy: \" + strategy)\n",
        "    cipher = cipher_class(start_round)\n",
        "    model = create_distinguisher(cipher_class(start_round), data_format, network, shape = shape, tune = False, num_epochs = None, hp = None) #num_epochs not needed anymore since no cyclical LR\n",
        "\n",
        "    if strategy == \"Iterative\":\n",
        "      for current_round in range(start_round, end_round+1):\n",
        "        cipher = cipher_class(current_round)\n",
        "        model = train_one_round(model, cipher, diff, data_format)\n",
        "\n",
        "    if strategy == \"Freeze\":\n",
        "        model = train_one_round(model, cipher, diff, data_format)\n",
        "        model = freeze_feature_extractor(model)\n",
        "        model = train_one_round(model, cipher, diff, data_format)\n",
        "\n",
        "\n",
        "    return model\n",
        "\n",
        "\n",
        "def repeat_experiment_with_strategy(experiment_name, reps, start_round, end_round, cipher_class , diff, data_format, shape, network, strategy):\n",
        "  cipher = cipher_class(end_round)\n",
        "  f = open(experiment_name + \"_\" + cipher_class.get_name() + \"_\" + str(end_round) + \"R\" + \"_Net:\" + network + \"_\" + shape + \"_\"+ data_format +\".txt\", \"a\")\n",
        "  f.write(\"Cipher: \" + str(cipher_class.get_name()) + \" - \" + str(end_round) +\" Rounds\" + \" - Blocks: \" + str(cipher.get_n_words()) + \" - Word size: \"+ str(cipher.get_word_size()) + \"\\n\")\n",
        "  f.write(\"Input difference: \" + str(diff) + \"\\n\")\n",
        "  f.write(\"Network: \" + network + \"\\n\")\n",
        "  f.write(\"Trains on: \" + data_format + \" - \" + shape + \"\\n\")\n",
        "  f.write(\"Strategy: \" + strategy + \"\\n\")\n",
        "  f.close()\n",
        "\n",
        "  accs = []\n",
        "  tprs = []\n",
        "  tnrs = []\n",
        "\n",
        "  for i in range(0, reps):\n",
        "      model = run_experiment(start_round, end_round, cipher_class, diff, data_format, shape, network, strategy)\n",
        "\n",
        "      x_test, y_test   = make_train_data(n_samples = 10**6,  cipher = cipher, diff = diff, data_format = data_format)\n",
        "      (acc, tpr, tnr) = evaluate(model, x_test, y_test)\n",
        "      accs.append(acc)\n",
        "      tprs.append(tpr)\n",
        "      tnrs.append(tnr)\n",
        "\n",
        "      f = open(experiment_name + \"_\" + cipher_class.get_name() + \"_\" + str(end_round) + \"R\" + \"_Net:\" + network + \"_\" + shape + \"_\"+ data_format + \".txt\", \"a\")\n",
        "      f.write(\"Trial:\" + str(i) + \" - \" + \"ACC:\" + str(acc) + \"  \" + \"TPR:\" + str(tpr) + \"  \" + \"TNR:\" + str(tnr) + \"\\n\")\n",
        "      f.close()\n",
        "\n",
        "\n",
        "\n",
        "  f = open(experiment_name + \"_\" + cipher_class.get_name() + \"_\" + str(end_round) + \"R\" + \"_Net:\" + network + \"_\" + shape + \"_\"+ data_format +\".txt\", \"a\")\n",
        "  f.write(\"\\n\")\n",
        "\n",
        "  print(\"Accs list:\")\n",
        "  print(accs)\n",
        "  f.write(\"Accs list: \")\n",
        "  f.write(str(accs))\n",
        "  f.write(\"\\n\")\n",
        "  f.close()\n",
        "\n",
        "\n",
        "\n",
        "  f = open(experiment_name + \"_\" + cipher_class.get_name() + \"_\" + str(end_round) + \"R\" + \"_Net:\" + network + \"_\" + shape + \"_\"+ data_format + \".txt\", \"a\")\n",
        "  print(\"Tprs list:\")\n",
        "  print(tprs)\n",
        "  f.write(\"Tprs list: \")\n",
        "  f.write(str(tprs))\n",
        "  f.write(\"\\n\")\n",
        "  f.close()\n",
        "\n",
        "\n",
        "  f = open(experiment_name + \"_\" + cipher_class.get_name() + \"_\" + str(end_round) + \"R\" + \"_Net:\" + network + \"_\" + shape + \"_\"+ data_format + \".txt\", \"a\")\n",
        "  print(\"Tnrs list:\")\n",
        "  print(tnrs)\n",
        "  f.write(\"Tnrs list: \")\n",
        "  f.write(str(tnrs))\n",
        "  f.write(\"\\n\")\n",
        "  f.write(\"\\n\")\n",
        "\n",
        "  f.close()\n",
        "\n"
      ]
    },
    {
      "cell_type": "markdown",
      "metadata": {
        "id": "MLSECXRljI8Y"
      },
      "source": [
        "### Question 5: Iterative training strategy"
      ]
    },
    {
      "cell_type": "markdown",
      "metadata": {
        "id": "kb3SIGkcjO1B"
      },
      "source": [
        "#### Gohr"
      ]
    },
    {
      "cell_type": "markdown",
      "metadata": {
        "id": "y24U2UsrjvPa"
      },
      "source": [
        "Input is INSHAPE"
      ]
    },
    {
      "cell_type": "code",
      "execution_count": null,
      "metadata": {
        "id": "xvMFyRSjkSYU",
        "scrolled": true
      },
      "outputs": [],
      "source": [
        "repeat_experiment_with_strategy(experiment_name = \"E5_Ciphertext_Pairs\", reps = 10, start_round = 5, end_round = 6, cipher_class = Speck , diff = [0x40, 0], data_format = \"Pairs\", shape = \"INSHAPE\", network = \"Gohr\", strategy = \"Iterative\")"
      ]
    },
    {
      "cell_type": "code",
      "execution_count": null,
      "metadata": {
        "id": "VgrC9Zf8kSms",
        "scrolled": true
      },
      "outputs": [],
      "source": [
        "repeat_experiment_with_strategy(experiment_name = \"E5_Ciphertext_Pairs\", reps = 10, start_round = 8, end_round = 9, cipher_class = Simon , diff = [0, 0x400], data_format = \"Pairs\", shape = \"INSHAPE\", network = \"Gohr\", strategy = \"Iterative\")"
      ]
    },
    {
      "cell_type": "code",
      "execution_count": null,
      "metadata": {
        "id": "pk_u_4HfkSvp",
        "scrolled": true
      },
      "outputs": [],
      "source": [
        "repeat_experiment_with_strategy(experiment_name = \"E5_Ciphertext_Pairs\", reps = 10, start_round = 5, end_round = 6, cipher_class = Skinny , diff = [0, 0, 0, 0, 0, 0, 0, 0, 0, 0, 0, 0, 2, 0, 0, 0], data_format = \"Pairs\", shape = \"INSHAPE\", network = \"Gohr\", strategy = \"Iterative\")"
      ]
    },
    {
      "cell_type": "code",
      "execution_count": null,
      "metadata": {
        "id": "3mXNJoqukS9w",
        "scrolled": true
      },
      "outputs": [],
      "source": [
        "repeat_experiment_with_strategy(experiment_name = \"E5_Ciphertext_Pairs\", reps = 10, start_round = 49, end_round = 50, cipher_class = Katan , diff = [0x4000], data_format = \"Pairs\", shape = \"INSHAPE\", network = \"Gohr\", strategy = \"Iterative\")"
      ]
    },
    {
      "cell_type": "code",
      "execution_count": null,
      "metadata": {
        "id": "xZDaM_ZgkTJp",
        "scrolled": true
      },
      "outputs": [],
      "source": [
        "repeat_experiment_with_strategy(experiment_name = \"E5_Ciphertext_Pairs\", reps = 10, start_round = 5, end_round = 6, cipher_class = Present, diff = [0, 0, 0, 0, 0, 0, 0, 0, 0, 0xd, 0, 0, 0, 0, 0, 0], data_format = \"Pairs\", shape = \"INSHAPE\", network = \"Gohr\", strategy = \"Iterative\")"
      ]
    },
    {
      "cell_type": "code",
      "execution_count": null,
      "metadata": {
        "id": "_mWv0VNEkTUq",
        "scrolled": true
      },
      "outputs": [],
      "source": [
        "repeat_experiment_with_strategy(experiment_name = \"E5_Ciphertext_Pairs\", reps = 10, start_round = 2, end_round = 3, cipher_class = ChaCha, diff = [0, 0, 0, 0x8000], data_format = \"Pairs\", shape = \"INSHAPE\", network = \"Gohr\", strategy = \"Iterative\")"
      ]
    },
    {
      "cell_type": "markdown",
      "metadata": {
        "id": "epff9_C1jzFH"
      },
      "source": [
        "Input is UNSHAPED"
      ]
    },
    {
      "cell_type": "code",
      "execution_count": null,
      "metadata": {
        "id": "4Vpn5FeXm0CW",
        "scrolled": true
      },
      "outputs": [],
      "source": [
        "repeat_experiment_with_strategy(experiment_name = \"E5_Ciphertext_Pairs\", reps = 10, start_round = 5, end_round = 6, cipher_class = Speck , diff = [0x40, 0], data_format = \"Pairs\", shape = \"UNSHAPED\", network = \"Gohr\", strategy = \"Iterative\")"
      ]
    },
    {
      "cell_type": "code",
      "execution_count": null,
      "metadata": {
        "id": "dUVqNoUYm0PS",
        "scrolled": true
      },
      "outputs": [],
      "source": [
        "repeat_experiment_with_strategy(experiment_name = \"E5_Ciphertext_Pairs\", reps = 10 start_round = 8, end_round = 9, cipher_class = Simon , diff = [0, 0x400], data_format = \"Pairs\", shape = \"UNSHAPED\", network = \"Gohr\", strategy = \"Iterative\")"
      ]
    },
    {
      "cell_type": "code",
      "execution_count": null,
      "metadata": {
        "id": "4X3NPjvBm0Ss",
        "scrolled": true
      },
      "outputs": [],
      "source": [
        "repeat_experiment_with_strategy(experiment_name = \"E5_Ciphertext_Pairs\", reps = 10, start_round = 5, end_round = 6, cipher_class = Skinny , diff = [0, 0, 0, 0, 0, 0, 0, 0, 0, 0, 0, 0, 2, 0, 0, 0], data_format = \"Pairs\", shape = \"UNSHAPED\", network = \"Gohr\", strategy = \"Iterative\")"
      ]
    },
    {
      "cell_type": "code",
      "execution_count": null,
      "metadata": {
        "id": "kCspr11-n6cz"
      },
      "outputs": [],
      "source": [
        "repeat_experiment_with_strategy(experiment_name = \"E5_Ciphertext_Pairs\", reps = 10, start_round = 49, end_round = 50, cipher_class = Katan , diff = [0x4000], data_format = \"Pairs\", shape = \"UNSHAPED\", network = \"Gohr\", strategy = \"Iterative\")"
      ]
    },
    {
      "cell_type": "code",
      "execution_count": null,
      "metadata": {
        "id": "9fiGj4JNm0WF"
      },
      "outputs": [],
      "source": [
        "repeat_experiment_with_strategy(experiment_name = \"E5_Ciphertext_Pairs\", reps = 10, start_round = 5, end_round = 6, cipher_class = Present, diff = [0, 0, 0, 0, 0, 0, 0, 0, 0, 0xd, 0, 0, 0, 0, 0, 0], data_format = \"Pairs\", shape = \"UNSHAPED\", network = \"Gohr\", strategy = \"Iterative\")"
      ]
    },
    {
      "cell_type": "code",
      "execution_count": null,
      "metadata": {
        "id": "ZZOh6Gfom0ZP"
      },
      "outputs": [],
      "source": [
        "repeat_experiment_with_strategy(experiment_name = \"E5_Ciphertext_Pairs\", reps = 10, start_round = 2, end_round = 3, cipher_class = ChaCha, diff = [0, 0, 0, 0x8000], data_format = \"Pairs\", shape = \"UNSHAPED\", network = \"Gohr\", strategy = \"Iterative\")"
      ]
    },
    {
      "cell_type": "markdown",
      "metadata": {
        "id": "Iar9_iOhjRQW"
      },
      "source": [
        "#### MLP"
      ]
    },
    {
      "cell_type": "markdown",
      "metadata": {
        "id": "ouoW-Bnbj1vQ"
      },
      "source": [
        "Input is INSHAPE"
      ]
    },
    {
      "cell_type": "code",
      "execution_count": null,
      "metadata": {
        "id": "oUvL5ZtVpM8t"
      },
      "outputs": [],
      "source": [
        "repeat_experiment_with_strategy(experiment_name = \"E5_Ciphertext_Pairs\", reps = 10, start_round = 5, end_round = 6, cipher_class = Speck , diff = [0x40, 0], data_format = \"Pairs\", shape = \"INSHAPE\", network = \"MLP\", strategy = \"Iterative\")"
      ]
    },
    {
      "cell_type": "code",
      "execution_count": null,
      "metadata": {
        "id": "hqKvI1xCpNA7"
      },
      "outputs": [],
      "source": [
        "repeat_experiment_with_strategy(experiment_name = \"E5_Ciphertext_Pairs\", reps = 10, start_round = 8, end_round = 9, cipher_class = Simon , diff = [0, 0x400], data_format = \"Pairs\", shape = \"INSHAPE\", network = \"MLP\", strategy = \"Iterative\")"
      ]
    },
    {
      "cell_type": "code",
      "execution_count": null,
      "metadata": {
        "id": "TQHrBnYUpNEx"
      },
      "outputs": [],
      "source": [
        "repeat_experiment_with_strategy(experiment_name = \"E5_Ciphertext_Pairs\", reps = 10, start_round = 5, end_round = 6, cipher_class = Skinny , diff = [0, 0, 0, 0, 0, 0, 0, 0, 0, 0, 0, 0, 2, 0, 0, 0], data_format = \"Pairs\", shape = \"INSHAPE\", network = \"MLP\", strategy = \"Iterative\")"
      ]
    },
    {
      "cell_type": "code",
      "execution_count": null,
      "metadata": {
        "id": "xLSfXpLjpNJA"
      },
      "outputs": [],
      "source": [
        "repeat_experiment_with_strategy(experiment_name = \"E5_Ciphertext_Pairs\", reps = 10, start_round = 49, end_round = 50, cipher_class = Katan , diff = [0x4000], data_format = \"Pairs\", shape = \"INSHAPE\", network = \"MLP\", strategy = \"Iterative\")"
      ]
    },
    {
      "cell_type": "code",
      "execution_count": null,
      "metadata": {
        "id": "t9Ir8L74pNj2"
      },
      "outputs": [],
      "source": [
        "repeat_experiment_with_strategy(experiment_name = \"E5_Ciphertext_Pairs\", reps = 10, start_round = 5, end_round = 6, cipher_class = Present, diff = [0, 0, 0, 0, 0, 0, 0, 0, 0, 0xd, 0, 0, 0, 0, 0, 0], data_format = \"Pairs\", shape = \"INSHAPE\", network = \"MLP\", strategy = \"Iterative\")"
      ]
    },
    {
      "cell_type": "code",
      "execution_count": null,
      "metadata": {
        "id": "GSyxxe2jpN-x"
      },
      "outputs": [],
      "source": [
        "repeat_experiment_with_strategy(experiment_name = \"E5_Ciphertext_Pairs\", reps = 10, start_round = 2, end_round = 3, cipher_class = ChaCha, diff = [0, 0, 0, 0x8000], data_format = \"Pairs\", shape = \"INSHAPE\", network = \"MLP\", strategy = \"Iterative\")"
      ]
    },
    {
      "cell_type": "markdown",
      "metadata": {
        "id": "WlXueFw4j15p"
      },
      "source": [
        "Input is UNSHAPED"
      ]
    },
    {
      "cell_type": "code",
      "execution_count": null,
      "metadata": {
        "id": "gFEq9_kRpbDe"
      },
      "outputs": [],
      "source": [
        "repeat_experiment_with_strategy(experiment_name = \"E5_Ciphertext_Pairs\", reps = 10, start_round = 5, end_round = 6, cipher_class = Speck , diff = [0x40, 0], data_format = \"Pairs\", shape = \"UNSHAPED\", network = \"MLP\", strategy = \"Iterative\")"
      ]
    },
    {
      "cell_type": "code",
      "execution_count": null,
      "metadata": {
        "id": "ddOgTvOapbOV"
      },
      "outputs": [],
      "source": [
        "repeat_experiment_with_strategy(experiment_name = \"E5_Ciphertext_Pairs\", reps = 10, start_round = 8, end_round = 9, cipher_class = Simon , diff = [0, 0x400], data_format = \"Pairs\", shape = \"UNSHAPED\", network = \"MLP\", strategy = \"Iterative\")"
      ]
    },
    {
      "cell_type": "code",
      "execution_count": null,
      "metadata": {
        "id": "Gnx7lLwmpbTG"
      },
      "outputs": [],
      "source": [
        "repeat_experiment_with_strategy(experiment_name = \"E5_Ciphertext_Pairs\", reps = 10, start_round = 5, end_round = 6, cipher_class = Skinny , diff = [0, 0, 0, 0, 0, 0, 0, 0, 0, 0, 0, 0, 2, 0, 0, 0], data_format = \"Pairs\", shape = \"UNSHAPED\", network = \"MLP\", strategy = \"Iterative\")"
      ]
    },
    {
      "cell_type": "code",
      "execution_count": null,
      "metadata": {
        "id": "Vu9F8Ey7pbXz"
      },
      "outputs": [],
      "source": [
        "repeat_experiment_with_strategy(experiment_name = \"E5_Ciphertext_Pairs\", reps = 10, start_round = 49, end_round = 50, cipher_class = Katan , diff = [0x4000], data_format = \"Pairs\", shape = \"UNSHAPED\", network = \"MLP\", strategy = \"Iterative\")"
      ]
    },
    {
      "cell_type": "code",
      "execution_count": null,
      "metadata": {
        "id": "-EIF8siZpbx5"
      },
      "outputs": [],
      "source": [
        "repeat_experiment_with_strategy(experiment_name = \"E5_Ciphertext_Pairs\", reps = 10, start_round = 5, end_round = 6, cipher_class = Present, diff = [0, 0, 0, 0, 0, 0, 0, 0, 0, 0xd, 0, 0, 0, 0, 0, 0], data_format = \"Pairs\", shape = \"UNSHAPED\", network = \"MLP\", strategy = \"Iterative\")"
      ]
    },
    {
      "cell_type": "code",
      "execution_count": null,
      "metadata": {
        "id": "HBBAsDfhpb-4"
      },
      "outputs": [],
      "source": [
        "repeat_experiment_with_strategy(experiment_name = \"E5_Ciphertext_Pairs\", reps = 10, start_round = 2, end_round = 3, cipher_class = ChaCha, diff = [0, 0, 0, 0x8000], data_format = \"Pairs\", shape = \"UNSHAPED\", network = \"MLP\", strategy = \"Iterative\")"
      ]
    },
    {
      "cell_type": "markdown",
      "metadata": {
        "id": "gzAL_MpvjReC"
      },
      "source": [
        "#### Gohr with Inception block in 1st part"
      ]
    },
    {
      "cell_type": "markdown",
      "metadata": {
        "id": "Fo_ih8SAj66I"
      },
      "source": [
        "Input is INSHAPE"
      ]
    },
    {
      "cell_type": "code",
      "execution_count": null,
      "metadata": {
        "id": "9OCcp5VeqNSG"
      },
      "outputs": [],
      "source": [
        "repeat_experiment_with_strategy(experiment_name = \"E5_Ciphertext_Pairs\", reps = 10, start_round = 5, end_round = 6, cipher_class = Speck , diff = [0x40, 0], data_format = \"Pairs\", shape = \"INSHAPE\", network = \"GohrInception1stB\", strategy = \"Iterative\")"
      ]
    },
    {
      "cell_type": "code",
      "execution_count": null,
      "metadata": {
        "id": "uF73XbKsqNWC"
      },
      "outputs": [],
      "source": [
        "repeat_experiment_with_strategy(experiment_name = \"E5_Ciphertext_Pairs\", reps = 10, start_round = 8, end_round = 9, cipher_class = Simon , diff = [0, 0x400], data_format = \"Pairs\", shape = \"INSHAPE\", network = \"GohrInception1stB\", strategy = \"Iterative\")"
      ]
    },
    {
      "cell_type": "code",
      "execution_count": null,
      "metadata": {
        "id": "y7uIZ6btqNZe"
      },
      "outputs": [],
      "source": [
        "repeat_experiment_with_strategy(experiment_name = \"E5_Ciphertext_Pairs\", reps = 10, start_round = 5, end_round = 6, cipher_class = Skinny , diff = [0, 0, 0, 0, 0, 0, 0, 0, 0, 0, 0, 0, 2, 0, 0, 0], data_format = \"Pairs\", shape = \"INSHAPE\", network = \"GohrInception1stB\", strategy = \"Iterative\")"
      ]
    },
    {
      "cell_type": "code",
      "execution_count": null,
      "metadata": {
        "id": "sJ9w_Zg8qNcu"
      },
      "outputs": [],
      "source": [
        "repeat_experiment_with_strategy(experiment_name = \"E5_Ciphertext_Pairs\", reps = 10, start_round = 49, end_round = 50, cipher_class = Katan , diff = [0x4000], data_format = \"Pairs\", shape = \"INSHAPE\", network = \"GohrInception1stB\", strategy = \"Iterative\")"
      ]
    },
    {
      "cell_type": "code",
      "execution_count": null,
      "metadata": {
        "id": "ZFnYGjRwqN67"
      },
      "outputs": [],
      "source": [
        "repeat_experiment_with_strategy(experiment_name = \"E5_Ciphertext_Pairs\", reps = 10, start_round = 5, end_round = 6, cipher_class = Present, diff = [0, 0, 0, 0, 0, 0, 0, 0, 0, 0xd, 0, 0, 0, 0, 0, 0], data_format = \"Pairs\", shape = \"INSHAPE\", network = \"GohrInception1stB\", strategy = \"Iterative\")"
      ]
    },
    {
      "cell_type": "code",
      "execution_count": null,
      "metadata": {
        "id": "0E0bN87hqOH0"
      },
      "outputs": [],
      "source": [
        "repeat_experiment_with_strategy(experiment_name = \"E5_Ciphertext_Pairs\", reps = 10, start_round = 2, end_round = 3, cipher_class = ChaCha, diff = [0, 0, 0, 0x8000], data_format = \"Pairs\", shape = \"INSHAPE\", network = \"GohrInception1stB\", strategy = \"Iterative\")"
      ]
    },
    {
      "cell_type": "markdown",
      "metadata": {
        "id": "JNutv_ljj7AR"
      },
      "source": [
        "Input is UNSHAPED"
      ]
    },
    {
      "cell_type": "code",
      "execution_count": null,
      "metadata": {
        "id": "FTAhUAsBqgqu"
      },
      "outputs": [],
      "source": [
        "repeat_experiment_with_strategy(experiment_name = \"E5_Ciphertext_Pairs\", reps = 10, start_round = 5, end_round = 6, cipher_class = Speck , diff = [0x40, 0], data_format = \"Pairs\", shape = \"UNSHAPED\", network = \"GohrInception1stB\", strategy = \"Iterative\")"
      ]
    },
    {
      "cell_type": "code",
      "execution_count": null,
      "metadata": {
        "id": "ujdmYdA4qgvI"
      },
      "outputs": [],
      "source": [
        "repeat_experiment_with_strategy(experiment_name = \"E5_Ciphertext_Pairs\", reps = 10, start_round = 8, end_round = 9, cipher_class = Simon , diff = [0, 0x400], data_format = \"Pairs\", shape = \"UNSHAPED\", network = \"GohrInception1stB\", strategy = \"Iterative\")"
      ]
    },
    {
      "cell_type": "code",
      "execution_count": null,
      "metadata": {
        "id": "bVrYg0viqgzA"
      },
      "outputs": [],
      "source": [
        "repeat_experiment_with_strategy(experiment_name = \"E5_Ciphertext_Pairs\", reps = 10, start_round = 5, end_round = 6, cipher_class = Skinny , diff = [0, 0, 0, 0, 0, 0, 0, 0, 0, 0, 0, 0, 2, 0, 0, 0], data_format = \"Pairs\", shape = \"UNSHAPED\", network = \"GohrInception1stB\", strategy = \"Iterative\")"
      ]
    },
    {
      "cell_type": "code",
      "execution_count": null,
      "metadata": {
        "id": "a0Wqzj03qg2g"
      },
      "outputs": [],
      "source": [
        "repeat_experiment_with_strategy(experiment_name = \"E5_Ciphertext_Pairs\", reps = 10, start_round = 49, end_round = 50, cipher_class = Katan , diff = [0x4000], data_format = \"Pairs\", shape = \"UNSHAPED\", network = \"GohrInception1stB\", strategy = \"Iterative\")"
      ]
    },
    {
      "cell_type": "code",
      "execution_count": null,
      "metadata": {
        "id": "4GMTasJ0qhTz"
      },
      "outputs": [],
      "source": [
        "repeat_experiment_with_strategy(experiment_name = \"E5_Ciphertext_Pairs\", reps = 10, start_round = 5, end_round = 6, cipher_class = Present, diff = [0, 0, 0, 0, 0, 0, 0, 0, 0, 0xd, 0, 0, 0, 0, 0, 0], data_format = \"Pairs\", shape = \"UNSHAPED\", network = \"GohrInception1stB\", strategy = \"Iterative\")"
      ]
    },
    {
      "cell_type": "code",
      "execution_count": null,
      "metadata": {
        "id": "l8EQ5ilIqhfA"
      },
      "outputs": [],
      "source": [
        "repeat_experiment_with_strategy(experiment_name = \"E5_Ciphertext_Pairs\", reps = 10, start_round = 2, end_round = 3, cipher_class = ChaCha, diff = [0, 0, 0, 0x8000], data_format = \"Pairs\", shape = \"UNSHAPED\", network = \"GohrInception1stB\", strategy = \"Iterative\")"
      ]
    },
    {
      "cell_type": "markdown",
      "metadata": {
        "id": "0gXvFBgzjRq4"
      },
      "source": [
        "#### Gohr with Inception block in 2nd part"
      ]
    },
    {
      "cell_type": "markdown",
      "metadata": {
        "id": "l-1L9N6Kj_de"
      },
      "source": [
        "Input is INSHAPE"
      ]
    },
    {
      "cell_type": "code",
      "execution_count": null,
      "metadata": {
        "id": "JbAYJSxlrURT"
      },
      "outputs": [],
      "source": [
        "repeat_experiment_with_strategy(experiment_name = \"E5_Ciphertext_Pairs\", reps = 10, start_round = 5, end_round = 6, cipher_class = Speck , diff = [0x40, 0], data_format = \"Pairs\", shape = \"INSHAPE\", network = \"GohrInception2ndB\", strategy = \"Iterative\")"
      ]
    },
    {
      "cell_type": "code",
      "execution_count": null,
      "metadata": {
        "id": "qApvXJfZrUVb"
      },
      "outputs": [],
      "source": [
        "repeat_experiment_with_strategy(experiment_name = \"E5_Ciphertext_Pairs\", reps = 10, start_round = 8, end_round = 9, cipher_class = Simon , diff = [0, 0x400], data_format = \"Pairs\", shape = \"INSHAPE\", network = \"GohrInception2ndB\", strategy = \"Iterative\")"
      ]
    },
    {
      "cell_type": "code",
      "execution_count": null,
      "metadata": {
        "id": "8DwQyAmCrUY5"
      },
      "outputs": [],
      "source": [
        "repeat_experiment_with_strategy(experiment_name = \"E5_Ciphertext_Pairs\", reps = 10, start_round = 5, end_round = 6, cipher_class = Skinny , diff = [0, 0, 0, 0, 0, 0, 0, 0, 0, 0, 0, 0, 2, 0, 0, 0], data_format = \"Pairs\", shape = \"INSHAPE\", network = \"GohrInception2ndB\", strategy = \"Iterative\")"
      ]
    },
    {
      "cell_type": "code",
      "execution_count": null,
      "metadata": {
        "id": "QnHA73RtrU2J"
      },
      "outputs": [],
      "source": [
        "repeat_experiment_with_strategy(experiment_name = \"E5_Ciphertext_Pairs\", reps = 10, start_round = 49, end_round = 50, cipher_class = Katan , diff = [0x4000], data_format = \"Pairs\", shape = \"INSHAPE\", network = \"GohrInception2ndB\", strategy = \"Iterative\")"
      ]
    },
    {
      "cell_type": "code",
      "execution_count": null,
      "metadata": {
        "id": "_dlD8pDDrVDQ"
      },
      "outputs": [],
      "source": [
        "repeat_experiment_with_strategy(experiment_name = \"E5_Ciphertext_Pairs\", reps = 10, start_round = 5, end_round = 6, cipher_class = Present, diff = [0, 0, 0, 0, 0, 0, 0, 0, 0, 0xd, 0, 0, 0, 0, 0, 0], data_format = \"Pairs\", shape = \"INSHAPE\", network = \"GohrInception2ndB\", strategy = \"Iterative\")"
      ]
    },
    {
      "cell_type": "code",
      "execution_count": null,
      "metadata": {
        "id": "SLQVKQ5WrVVu"
      },
      "outputs": [],
      "source": [
        "repeat_experiment_with_strategy(experiment_name = \"E5_Ciphertext_Pairs\", reps = 10, start_round = 2, end_round = 3, cipher_class = ChaCha, diff = [0, 0, 0, 0x8000], data_format = \"Pairs\", shape = \"INSHAPE\", network = \"GohrInception2ndB\", strategy = \"Iterative\")"
      ]
    },
    {
      "cell_type": "markdown",
      "metadata": {
        "id": "IrlKExk8j_jd"
      },
      "source": [
        "Input is UNSHAPED"
      ]
    },
    {
      "cell_type": "code",
      "execution_count": null,
      "metadata": {
        "id": "EKZ2umwkrgte"
      },
      "outputs": [],
      "source": [
        "repeat_experiment_with_strategy(experiment_name = \"E5_Ciphertext_Pairs\", reps = 10, start_round = 5, end_round = 6, cipher_class = Speck , diff = [0x40, 0], data_format = \"Pairs\", shape = \"UNSHAPED\", network = \"GohrInception2ndB\", strategy = \"Iterative\")"
      ]
    },
    {
      "cell_type": "code",
      "execution_count": null,
      "metadata": {
        "id": "HnEev5udrgx5"
      },
      "outputs": [],
      "source": [
        "repeat_experiment_with_strategy(experiment_name = \"E5_Ciphertext_Pairs\", reps = 10, start_round = 8, end_round = 9, cipher_class = Simon , diff = [0, 0x400], data_format = \"Pairs\", shape = \"UNSHAPED\", network = \"GohrInception2ndB\", strategy = \"Iterative\")"
      ]
    },
    {
      "cell_type": "code",
      "execution_count": null,
      "metadata": {
        "id": "LHnODmkbrg10"
      },
      "outputs": [],
      "source": [
        "repeat_experiment_with_strategy(experiment_name = \"E5_Ciphertext_Pairs\", reps = 10, start_round = 5, end_round = 6, cipher_class = Skinny , diff = [0, 0, 0, 0, 0, 0, 0, 0, 0, 0, 0, 0, 2, 0, 0, 0], data_format = \"Pairs\", shape = \"UNSHAPED\", network = \"GohrInception2ndB\", strategy = \"Iterative\")"
      ]
    },
    {
      "cell_type": "code",
      "execution_count": null,
      "metadata": {
        "id": "7CWm44Q2rg5l"
      },
      "outputs": [],
      "source": [
        "repeat_experiment_with_strategy(experiment_name = \"E5_Ciphertext_Pairs\", reps = 10, start_round = 49, end_round = 50, cipher_class = Katan , diff = [0x4000], data_format = \"Pairs\", shape = \"UNSHAPED\", network = \"GohrInception2ndB\", strategy = \"Iterative\")"
      ]
    },
    {
      "cell_type": "code",
      "execution_count": null,
      "metadata": {
        "id": "Iq2pOVNBrhWf"
      },
      "outputs": [],
      "source": [
        "repeat_experiment_with_strategy(experiment_name = \"E5_Ciphertext_Pairs\", reps = 10, start_round = 5, end_round = 6, cipher_class = Present, diff = [0, 0, 0, 0, 0, 0, 0, 0, 0, 0xd, 0, 0, 0, 0, 0, 0], data_format = \"Pairs\", shape = \"UNSHAPED\", network = \"GohrInception2ndB\", strategy = \"Iterative\")"
      ]
    },
    {
      "cell_type": "code",
      "execution_count": null,
      "metadata": {
        "id": "iCpMiburrhjG"
      },
      "outputs": [],
      "source": [
        "repeat_experiment_with_strategy(experiment_name = \"E5_Ciphertext_Pairs\", reps = 10, start_round = 2, end_round = 3, cipher_class = ChaCha, diff = [0, 0, 0, 0x8000], data_format = \"Pairs\", shape = \"UNSHAPED\", network = \"GohrInception2ndB\", strategy = \"Iterative\")"
      ]
    },
    {
      "cell_type": "markdown",
      "metadata": {
        "id": "STZpzE5JjZp4"
      },
      "source": [
        "#### DBit"
      ]
    },
    {
      "cell_type": "markdown",
      "metadata": {
        "id": "xZUWeCnQkF7A"
      },
      "source": [
        "Input is UNSHAPED"
      ]
    },
    {
      "cell_type": "code",
      "execution_count": null,
      "metadata": {
        "id": "MpyVofyZan3c"
      },
      "outputs": [],
      "source": [
        "repeat_experiment_with_strategy(experiment_name = \"E5_Ciphertext_Pairs\", reps = 10, start_round = 5, end_round = 6, cipher_class = Speck , diff = [0x40, 0], data_format = \"Pairs\", shape = \"UNSHAPED\", network = \"DBIT\", strategy = \"Iterative\")"
      ]
    },
    {
      "cell_type": "code",
      "execution_count": null,
      "metadata": {
        "id": "MlnofFpmC7lX"
      },
      "outputs": [],
      "source": [
        "repeat_experiment_with_strategy(experiment_name = \"E5_Ciphertext_Pairs\", reps = 10, start_round = 8, end_round = 9, cipher_class = Simon , diff = [0, 0x400], data_format = \"Pairs\", shape = \"UNSHAPED\", network = \"DBIT\", strategy = \"Iterative\")"
      ]
    },
    {
      "cell_type": "code",
      "execution_count": null,
      "metadata": {
        "id": "WL9JAKnPslX5"
      },
      "outputs": [],
      "source": [
        "repeat_experiment_with_strategy(experiment_name = \"E5_Ciphertext_Pairs\", reps = 10, start_round = 5, end_round = 6, cipher_class = Skinny , diff = [0, 0, 0, 0, 0, 0, 0, 0, 0, 0, 0, 0, 2, 0, 0, 0], data_format = \"Pairs\", shape = \"UNSHAPED\", network = \"DBIT\", strategy = \"Iterative\")"
      ]
    },
    {
      "cell_type": "code",
      "execution_count": null,
      "metadata": {
        "id": "1fCl0iDMslmy"
      },
      "outputs": [],
      "source": [
        "repeat_experiment_with_strategy(experiment_name = \"E5_Ciphertext_Pairs\", reps = 10, start_round = 49, end_round = 50, cipher_class = Katan , diff = [0x4000], data_format = \"Pairs\", shape = \"UNSHAPED\", network = \"DBIT\", strategy = \"Iterative\")"
      ]
    },
    {
      "cell_type": "code",
      "execution_count": null,
      "metadata": {
        "id": "0OL380xRsl2a"
      },
      "outputs": [],
      "source": [
        "repeat_experiment_with_strategy(experiment_name = \"E5_Ciphertext_Pairs\", reps = 10, start_round = 5, end_round = 6, cipher_class = Present, diff = [0, 0, 0, 0, 0, 0, 0, 0, 0, 0xd, 0, 0, 0, 0, 0, 0], data_format = \"Pairs\", shape = \"UNSHAPED\", network = \"DBIT\", strategy = \"Iterative\")"
      ]
    },
    {
      "cell_type": "code",
      "execution_count": null,
      "metadata": {
        "id": "6sgOYQU0smPd"
      },
      "outputs": [],
      "source": [
        "repeat_experiment_with_strategy(experiment_name = \"E5_Ciphertext_Pairs\", reps = 10, start_round = 2, end_round = 3, cipher_class = ChaCha, diff = [0, 0, 0, 0x8000], data_format = \"Pairs\", shape = \"UNSHAPED\", network = \"DBIT\", strategy = \"Iterative\")"
      ]
    },
    {
      "cell_type": "markdown",
      "metadata": {
        "id": "9ZKMcKJ1tIUk"
      },
      "source": [
        "### Question 6: Freezing layer strategy"
      ]
    },
    {
      "cell_type": "markdown",
      "metadata": {
        "id": "mHP4l4zytIUu"
      },
      "source": [
        "#### Gohr"
      ]
    },
    {
      "cell_type": "markdown",
      "metadata": {
        "id": "D4CfoD9etIUu"
      },
      "source": [
        "Input is INSHAPE"
      ]
    },
    {
      "cell_type": "code",
      "execution_count": null,
      "metadata": {
        "id": "S3JgBwvQtIUu"
      },
      "outputs": [],
      "source": [
        "repeat_experiment_with_strategy(experiment_name = \"E6_Ciphertext_Pairs\", reps = 10, start_round = 5, end_round = 6, cipher_class = Speck , diff = [0x40, 0], data_format = \"Pairs\", shape = \"INSHAPE\", network = \"Gohr\", strategy = \"Freeze\")"
      ]
    },
    {
      "cell_type": "code",
      "execution_count": null,
      "metadata": {
        "id": "tv2Fqj6htIUv"
      },
      "outputs": [],
      "source": [
        "repeat_experiment_with_strategy(experiment_name = \"E6_Ciphertext_Pairs\", reps = 10, start_round = 8, end_round = 9, cipher_class = Simon , diff = [0, 0x400], data_format = \"Pairs\", shape = \"INSHAPE\", network = \"Gohr\", strategy = \"Freeze\")"
      ]
    },
    {
      "cell_type": "code",
      "execution_count": null,
      "metadata": {
        "id": "TG9Mjxk2tIUv"
      },
      "outputs": [],
      "source": [
        "repeat_experiment_with_strategy(experiment_name = \"E6_Ciphertext_Pairs\", reps = 10, start_round = 5, end_round = 6, cipher_class = Skinny , diff = [0, 0, 0, 0, 0, 0, 0, 0, 0, 0, 0, 0, 2, 0, 0, 0], data_format = \"Pairs\", shape = \"INSHAPE\", network = \"Gohr\", strategy = \"Freeze\")"
      ]
    },
    {
      "cell_type": "code",
      "execution_count": null,
      "metadata": {
        "id": "-IaU3Q6otIUv"
      },
      "outputs": [],
      "source": [
        "repeat_experiment_with_strategy(experiment_name = \"E6_Ciphertext_Pairs\", reps = 10, start_round = 49, end_round = 50, cipher_class = Katan , diff = [0x4000], data_format = \"Pairs\", shape = \"INSHAPE\", network = \"Gohr\", strategy = \"Freeze\")"
      ]
    },
    {
      "cell_type": "code",
      "execution_count": null,
      "metadata": {
        "id": "4HjnXRmDtIUv"
      },
      "outputs": [],
      "source": [
        "repeat_experiment_with_strategy(experiment_name = \"E6_Ciphertext_Pairs\", reps = 10, start_round = 5, end_round = 6, cipher_class = Present, diff = [0, 0, 0, 0, 0, 0, 0, 0, 0, 0xd, 0, 0, 0, 0, 0, 0], data_format = \"Pairs\", shape = \"INSHAPE\", network = \"Gohr\", strategy = \"Freeze\")"
      ]
    },
    {
      "cell_type": "code",
      "execution_count": null,
      "metadata": {
        "id": "MUMYZGgZtIUv"
      },
      "outputs": [],
      "source": [
        "repeat_experiment_with_strategy(experiment_name = \"E6_Ciphertext_Pairs\", reps = 10, start_round = 2, end_round = 3, cipher_class = ChaCha, diff = [0, 0, 0, 0x8000], data_format = \"Pairs\", shape = \"INSHAPE\", network = \"Gohr\", strategy = \"Freeze\")"
      ]
    },
    {
      "cell_type": "markdown",
      "metadata": {
        "id": "3UAHpk6gtIUv"
      },
      "source": [
        "Input is UNSHAPED"
      ]
    },
    {
      "cell_type": "code",
      "execution_count": null,
      "metadata": {
        "id": "tQHqg4zYtIUv"
      },
      "outputs": [],
      "source": [
        "repeat_experiment_with_strategy(experiment_name = \"E6_Ciphertext_Pairs\", reps = 10, start_round = 5, end_round = 6, cipher_class = Speck , diff = [0x40, 0], data_format = \"Pairs\", shape = \"UNSHAPED\", network = \"Gohr\", strategy = \"Freeze\")"
      ]
    },
    {
      "cell_type": "code",
      "execution_count": null,
      "metadata": {
        "id": "hLFSLfi7tIUw"
      },
      "outputs": [],
      "source": [
        "repeat_experiment_with_strategy(experiment_name = \"E6_Ciphertext_Pairs\", reps = 10, start_round = 8, end_round = 9, cipher_class = Simon , diff = [0, 0x400], data_format = \"Pairs\", shape = \"UNSHAPED\", network = \"Gohr\", strategy = \"Freeze\")"
      ]
    },
    {
      "cell_type": "code",
      "execution_count": null,
      "metadata": {
        "id": "N_odhVEvtIUw"
      },
      "outputs": [],
      "source": [
        "repeat_experiment_with_strategy(experiment_name = \"E6_Ciphertext_Pairs\", reps = 10, start_round = 5, end_round = 6, cipher_class = Skinny , diff = [0, 0, 0, 0, 0, 0, 0, 0, 0, 0, 0, 0, 2, 0, 0, 0], data_format = \"Pairs\", shape = \"UNSHAPED\", network = \"Gohr\", strategy = \"Freeze\")"
      ]
    },
    {
      "cell_type": "code",
      "execution_count": null,
      "metadata": {
        "id": "BQxYi2y7tIUw"
      },
      "outputs": [],
      "source": [
        "repeat_experiment_with_strategy(experiment_name = \"E6_Ciphertext_Pairs\", reps = 10, start_round = 49, end_round = 50, cipher_class = Katan , diff = [0x4000], data_format = \"Pairs\", shape = \"UNSHAPED\", network = \"Gohr\", strategy = \"Freeze\")"
      ]
    },
    {
      "cell_type": "code",
      "execution_count": null,
      "metadata": {
        "id": "AY3FczAntIUw"
      },
      "outputs": [],
      "source": [
        "repeat_experiment_with_strategy(experiment_name = \"E6_Ciphertext_Pairs\", reps = 10, start_round = 5, end_round = 6, cipher_class = Present, diff = [0, 0, 0, 0, 0, 0, 0, 0, 0, 0xd, 0, 0, 0, 0, 0, 0], data_format = \"Pairs\", shape = \"UNSHAPED\", network = \"Gohr\", strategy = \"Freeze\")"
      ]
    },
    {
      "cell_type": "code",
      "execution_count": null,
      "metadata": {
        "id": "wJ3C5Rf5tIUw"
      },
      "outputs": [],
      "source": [
        "repeat_experiment_with_strategy(experiment_name = \"E6_Ciphertext_Pairs\", reps = 10, start_round = 2, end_round = 3, cipher_class = ChaCha, diff = [0, 0, 0, 0x8000], data_format = \"Pairs\", shape = \"UNSHAPED\", network = \"Gohr\", strategy = \"Freeze\")"
      ]
    },
    {
      "cell_type": "markdown",
      "metadata": {
        "id": "ucPkDR5rtIUw"
      },
      "source": [
        "#### MLP"
      ]
    },
    {
      "cell_type": "markdown",
      "metadata": {
        "id": "YfIq-ZmFtIUw"
      },
      "source": [
        "Input is INSHAPE"
      ]
    },
    {
      "cell_type": "code",
      "execution_count": null,
      "metadata": {
        "id": "kZlOW3axtIUx"
      },
      "outputs": [],
      "source": [
        "repeat_experiment_with_strategy(experiment_name = \"E6_Ciphertext_Pairs\", reps = 10, start_round = 5, end_round = 6, cipher_class = Speck , diff = [0x40, 0], data_format = \"Pairs\", shape = \"INSHAPE\", network = \"MLP\", strategy = \"Freeze\")"
      ]
    },
    {
      "cell_type": "code",
      "execution_count": null,
      "metadata": {
        "id": "fpMKVkCytIUx"
      },
      "outputs": [],
      "source": [
        "repeat_experiment_with_strategy(experiment_name = \"E6_Ciphertext_Pairs\", reps = 10, start_round = 8, end_round = 9, cipher_class = Simon , diff = [0, 0x400], data_format = \"Pairs\", shape = \"INSHAPE\", network = \"MLP\", strategy = \"Freeze\")"
      ]
    },
    {
      "cell_type": "code",
      "execution_count": null,
      "metadata": {
        "id": "QNuS8-0VtIUx"
      },
      "outputs": [],
      "source": [
        "repeat_experiment_with_strategy(experiment_name = \"E6_Ciphertext_Pairs\", reps = 10, start_round = 5, end_round = 6, cipher_class = Skinny , diff = [0, 0, 0, 0, 0, 0, 0, 0, 0, 0, 0, 0, 2, 0, 0, 0], data_format = \"Pairs\", shape = \"INSHAPE\", network = \"MLP\", strategy = \"Freeze\")"
      ]
    },
    {
      "cell_type": "code",
      "execution_count": null,
      "metadata": {
        "id": "2SsoAWYntIUx"
      },
      "outputs": [],
      "source": [
        "repeat_experiment_with_strategy(experiment_name = \"E6_Ciphertext_Pairs\", reps = 10, start_round = 49, end_round = 50, cipher_class = Katan , diff = [0x4000], data_format = \"Pairs\", shape = \"INSHAPE\", network = \"MLP\", strategy = \"Freeze\")"
      ]
    },
    {
      "cell_type": "code",
      "execution_count": null,
      "metadata": {
        "id": "S6MhGJjwtIUx"
      },
      "outputs": [],
      "source": [
        "repeat_experiment_with_strategy(experiment_name = \"E6_Ciphertext_Pairs\", reps = 10, start_round = 5, end_round = 6, cipher_class = Present, diff = [0, 0, 0, 0, 0, 0, 0, 0, 0, 0xd, 0, 0, 0, 0, 0, 0], data_format = \"Pairs\", shape = \"INSHAPE\", network = \"MLP\", strategy = \"Freeze\")"
      ]
    },
    {
      "cell_type": "code",
      "execution_count": null,
      "metadata": {
        "id": "fiy3OVBHtIUx"
      },
      "outputs": [],
      "source": [
        "repeat_experiment_with_strategy(experiment_name = \"E6_Ciphertext_Pairs\", reps = 10, start_round = 2, end_round = 3, cipher_class = ChaCha, diff = [0, 0, 0, 0x8000], data_format = \"Pairs\", shape = \"INSHAPE\", network = \"MLP\", strategy = \"Freeze\")"
      ]
    },
    {
      "cell_type": "markdown",
      "metadata": {
        "id": "w6t_NVmatIUx"
      },
      "source": [
        "Input is UNSHAPED"
      ]
    },
    {
      "cell_type": "code",
      "execution_count": null,
      "metadata": {
        "id": "6FNcZaYKtIUy"
      },
      "outputs": [],
      "source": [
        "repeat_experiment_with_strategy(experiment_name = \"E6_Ciphertext_Pairs\", reps = 10, start_round = 5, end_round = 6, cipher_class = Speck , diff = [0x40, 0], data_format = \"Pairs\", shape = \"UNSHAPED\", network = \"MLP\", strategy = \"Freeze\")"
      ]
    },
    {
      "cell_type": "code",
      "execution_count": null,
      "metadata": {
        "id": "dJXH6BdhtIUy"
      },
      "outputs": [],
      "source": [
        "repeat_experiment_with_strategy(experiment_name = \"E6_Ciphertext_Pairs\", reps = 10, start_round = 8, end_round = 9, cipher_class = Simon , diff = [0, 0x400], data_format = \"Pairs\", shape = \"UNSHAPED\", network = \"MLP\", strategy = \"Freeze\")"
      ]
    },
    {
      "cell_type": "code",
      "execution_count": null,
      "metadata": {
        "id": "BG_urSVptIUy"
      },
      "outputs": [],
      "source": [
        "repeat_experiment_with_strategy(experiment_name = \"E6_Ciphertext_Pairs\", reps = 10, start_round = 5, end_round = 6, cipher_class = Skinny , diff = [0, 0, 0, 0, 0, 0, 0, 0, 0, 0, 0, 0, 2, 0, 0, 0], data_format = \"Pairs\", shape = \"UNSHAPED\", network = \"MLP\", strategy = \"Freeze\")"
      ]
    },
    {
      "cell_type": "code",
      "execution_count": null,
      "metadata": {
        "id": "uz23wtsutIUy"
      },
      "outputs": [],
      "source": [
        "repeat_experiment_with_strategy(experiment_name = \"E6_Ciphertext_Pairs\", reps = 10, start_round = 49, end_round = 50, cipher_class = Katan , diff = [0x4000], data_format = \"Pairs\", shape = \"UNSHAPED\", network = \"MLP\", strategy = \"Freeze\")"
      ]
    },
    {
      "cell_type": "code",
      "execution_count": null,
      "metadata": {
        "id": "qVlJCYu0tIUy"
      },
      "outputs": [],
      "source": [
        "repeat_experiment_with_strategy(experiment_name = \"E6_Ciphertext_Pairs\", reps = 10, start_round = 5, end_round = 6, cipher_class = Present, diff = [0, 0, 0, 0, 0, 0, 0, 0, 0, 0xd, 0, 0, 0, 0, 0, 0], data_format = \"Pairs\", shape = \"UNSHAPED\", network = \"MLP\", strategy = \"Freeze\")"
      ]
    },
    {
      "cell_type": "code",
      "execution_count": null,
      "metadata": {
        "id": "ExY0fFgztIUy"
      },
      "outputs": [],
      "source": [
        "repeat_experiment_with_strategy(experiment_name = \"E6_Ciphertext_Pairs\", reps = 10, start_round = 2, end_round = 3, cipher_class = ChaCha, diff = [0, 0, 0, 0x8000], data_format = \"Pairs\", shape = \"UNSHAPED\", network = \"MLP\", strategy = \"Freeze\")"
      ]
    },
    {
      "cell_type": "markdown",
      "metadata": {
        "id": "SLMgvGbCtIUy"
      },
      "source": [
        "#### Gohr with Inception block in 1st part"
      ]
    },
    {
      "cell_type": "markdown",
      "metadata": {
        "id": "NMO0TLzatIUy"
      },
      "source": [
        "Input is INSHAPE"
      ]
    },
    {
      "cell_type": "code",
      "execution_count": null,
      "metadata": {
        "id": "6JxlCFxgtIUz"
      },
      "outputs": [],
      "source": [
        "repeat_experiment_with_strategy(experiment_name = \"E6_Ciphertext_Pairs\", reps = 10, start_round = 5, end_round = 6, cipher_class = Speck , diff = [0x40, 0], data_format = \"Pairs\", shape = \"INSHAPE\", network = \"GohrInception1stB\", strategy = \"Freeze\")"
      ]
    },
    {
      "cell_type": "code",
      "execution_count": null,
      "metadata": {
        "id": "TJfFmx_ZtIUz"
      },
      "outputs": [],
      "source": [
        "repeat_experiment_with_strategy(experiment_name = \"E6_Ciphertext_Pairs\", reps = 10, start_round = 8, end_round = 9, cipher_class = Simon , diff = [0, 0x400], data_format = \"Pairs\", shape = \"INSHAPE\", network = \"GohrInception1stB\", strategy = \"Freeze\")"
      ]
    },
    {
      "cell_type": "code",
      "execution_count": null,
      "metadata": {
        "id": "iUKs4zHstIUz"
      },
      "outputs": [],
      "source": [
        "repeat_experiment_with_strategy(experiment_name = \"E6_Ciphertext_Pairs\", reps = 10, start_round = 5, end_round = 6, cipher_class = Skinny , diff = [0, 0, 0, 0, 0, 0, 0, 0, 0, 0, 0, 0, 2, 0, 0, 0], data_format = \"Pairs\", shape = \"INSHAPE\", network = \"GohrInception1stB\", strategy = \"Freeze\")"
      ]
    },
    {
      "cell_type": "code",
      "execution_count": null,
      "metadata": {
        "id": "OphuQjhWtIUz"
      },
      "outputs": [],
      "source": [
        "repeat_experiment_with_strategy(experiment_name = \"E6_Ciphertext_Pairs\", reps = 10, start_round = 49, end_round = 50, cipher_class = Katan , diff = [0x4000], data_format = \"Pairs\", shape = \"INSHAPE\", network = \"GohrInception1stB\", strategy = \"Freeze\")"
      ]
    },
    {
      "cell_type": "code",
      "execution_count": null,
      "metadata": {
        "id": "4PnXoEFrtIUz"
      },
      "outputs": [],
      "source": [
        "repeat_experiment_with_strategy(experiment_name = \"E6_Ciphertext_Pairs\", reps = 10, start_round = 5, end_round = 6, cipher_class = Present, diff = [0, 0, 0, 0, 0, 0, 0, 0, 0, 0xd, 0, 0, 0, 0, 0, 0], data_format = \"Pairs\", shape = \"INSHAPE\", network = \"GohrInception1stB\", strategy = \"Freeze\")"
      ]
    },
    {
      "cell_type": "code",
      "execution_count": null,
      "metadata": {
        "id": "IP0xZefWtIUz"
      },
      "outputs": [],
      "source": [
        "repeat_experiment_with_strategy(experiment_name = \"E6_Ciphertext_Pairs\", reps = 10, start_round = 2, end_round = 3, cipher_class = ChaCha, diff = [0, 0, 0, 0x8000], data_format = \"Pairs\", shape = \"INSHAPE\", network = \"GohrInception1stB\", strategy = \"Freeze\")"
      ]
    },
    {
      "cell_type": "markdown",
      "metadata": {
        "id": "AvhSBDxstIU0"
      },
      "source": [
        "Input is UNSHAPED"
      ]
    },
    {
      "cell_type": "code",
      "execution_count": null,
      "metadata": {
        "id": "RacGVlDqtIU0"
      },
      "outputs": [],
      "source": [
        "repeat_experiment_with_strategy(experiment_name = \"E6_Ciphertext_Pairs\", reps = 10, start_round = 5, end_round = 6, cipher_class = Speck , diff = [0x40, 0], data_format = \"Pairs\", shape = \"UNSHAPED\", network = \"GohrInception1stB\", strategy = \"Freeze\")"
      ]
    },
    {
      "cell_type": "code",
      "execution_count": null,
      "metadata": {
        "id": "RcmxoinZtIU0"
      },
      "outputs": [],
      "source": [
        "repeat_experiment_with_strategy(experiment_name = \"E6_Ciphertext_Pairs\", reps = 10, start_round = 8, end_round = 9, cipher_class = Simon , diff = [0, 0x400], data_format = \"Pairs\", shape = \"UNSHAPED\", network = \"GohrInception1stB\", strategy = \"Freeze\")"
      ]
    },
    {
      "cell_type": "code",
      "execution_count": null,
      "metadata": {
        "id": "CmE5FzjFtIU0"
      },
      "outputs": [],
      "source": [
        "repeat_experiment_with_strategy(experiment_name = \"E6_Ciphertext_Pairs\", reps = 10, start_round = 5, end_round = 6, cipher_class = Skinny , diff = [0, 0, 0, 0, 0, 0, 0, 0, 0, 0, 0, 0, 2, 0, 0, 0], data_format = \"Pairs\", shape = \"UNSHAPED\", network = \"GohrInception1stB\", strategy = \"Freeze\")"
      ]
    },
    {
      "cell_type": "code",
      "execution_count": null,
      "metadata": {
        "id": "xAAS5yKWtIU0"
      },
      "outputs": [],
      "source": [
        "repeat_experiment_with_strategy(experiment_name = \"E6_Ciphertext_Pairs\", reps = 10, start_round = 49, end_round = 50, cipher_class = Katan , diff = [0x4000], data_format = \"Pairs\", shape = \"UNSHAPED\", network = \"GohrInception1stB\", strategy = \"Freeze\")"
      ]
    },
    {
      "cell_type": "code",
      "execution_count": null,
      "metadata": {
        "id": "Pyvsq_nbtIU1"
      },
      "outputs": [],
      "source": [
        "repeat_experiment_with_strategy(experiment_name = \"E6_Ciphertext_Pairs\", reps = 10, start_round = 5, end_round = 6, cipher_class = Present, diff = [0, 0, 0, 0, 0, 0, 0, 0, 0, 0xd, 0, 0, 0, 0, 0, 0], data_format = \"Pairs\", shape = \"UNSHAPED\", network = \"GohrInception1stB\", strategy = \"Freeze\")"
      ]
    },
    {
      "cell_type": "code",
      "execution_count": null,
      "metadata": {
        "id": "v0_4_Zc9tIU1"
      },
      "outputs": [],
      "source": [
        "repeat_experiment_with_strategy(experiment_name = \"E6_Ciphertext_Pairs\", reps = 10, start_round = 2, end_round = 3, cipher_class = ChaCha, diff = [0, 0, 0, 0x8000], data_format = \"Pairs\", shape = \"UNSHAPED\", network = \"GohrInception1stB\", strategy = \"Freeze\")"
      ]
    },
    {
      "cell_type": "markdown",
      "metadata": {
        "id": "HHk7IT6EtIU1"
      },
      "source": [
        "#### Gohr with Inception block in 2nd part"
      ]
    },
    {
      "cell_type": "markdown",
      "metadata": {
        "id": "SxyskVqatIU1"
      },
      "source": [
        "Input is INSHAPE"
      ]
    },
    {
      "cell_type": "code",
      "execution_count": null,
      "metadata": {
        "id": "MJkLMSsltIU1"
      },
      "outputs": [],
      "source": [
        "repeat_experiment_with_strategy(experiment_name = \"E6_Ciphertext_Pairs\", reps = 10, start_round = 5, end_round = 6, cipher_class = Speck , diff = [0x40, 0], data_format = \"Pairs\", shape = \"INSHAPE\", network = \"GohrInception2ndB\", strategy = \"Freeze\")"
      ]
    },
    {
      "cell_type": "code",
      "execution_count": null,
      "metadata": {
        "id": "12O0br6CtIU1"
      },
      "outputs": [],
      "source": [
        "repeat_experiment_with_strategy(experiment_name = \"E6_Ciphertext_Pairs\", reps = 10, start_round = 8, end_round = 9, cipher_class = Simon , diff = [0, 0x400], data_format = \"Pairs\", shape = \"INSHAPE\", network = \"GohrInception2ndB\", strategy = \"Freeze\")"
      ]
    },
    {
      "cell_type": "code",
      "execution_count": null,
      "metadata": {
        "id": "4DCEoBG8tIU1"
      },
      "outputs": [],
      "source": [
        "repeat_experiment_with_strategy(experiment_name = \"E6_Ciphertext_Pairs\", reps = 10, start_round = 5, end_round = 6, cipher_class = Skinny , diff = [0, 0, 0, 0, 0, 0, 0, 0, 0, 0, 0, 0, 2, 0, 0, 0], data_format = \"Pairs\", shape = \"INSHAPE\", network = \"GohrInception2ndB\", strategy = \"Freeze\")"
      ]
    },
    {
      "cell_type": "code",
      "execution_count": null,
      "metadata": {
        "id": "VeSvQoyEtIU2"
      },
      "outputs": [],
      "source": [
        "repeat_experiment_with_strategy(experiment_name = \"E6_Ciphertext_Pairs\", reps = 10, start_round = 49, end_round = 50, cipher_class = Katan , diff = [0x4000], data_format = \"Pairs\", shape = \"INSHAPE\", network = \"GohrInception2ndB\", strategy = \"Freeze\")"
      ]
    },
    {
      "cell_type": "code",
      "execution_count": null,
      "metadata": {
        "id": "2QJalqQ5tIU2"
      },
      "outputs": [],
      "source": [
        "repeat_experiment_with_strategy(experiment_name = \"E6_Ciphertext_Pairs\", reps = 10, start_round = 5, end_round = 6, cipher_class = Present, diff = [0, 0, 0, 0, 0, 0, 0, 0, 0, 0xd, 0, 0, 0, 0, 0, 0], data_format = \"Pairs\", shape = \"INSHAPE\", network = \"GohrInception2ndB\", strategy = \"Freeze\")"
      ]
    },
    {
      "cell_type": "code",
      "execution_count": null,
      "metadata": {
        "id": "dwxNM0NitIU2"
      },
      "outputs": [],
      "source": [
        "repeat_experiment_with_strategy(experiment_name = \"E6_Ciphertext_Pairs\", reps = 10, start_round = 2, end_round = 3, cipher_class = ChaCha, diff = [0, 0, 0, 0x8000], data_format = \"Pairs\", shape = \"INSHAPE\", network = \"GohrInception2ndB\", strategy = \"Freeze\")"
      ]
    },
    {
      "cell_type": "markdown",
      "metadata": {
        "id": "YcNzPk_5tIU2"
      },
      "source": [
        "Input is UNSHAPED"
      ]
    },
    {
      "cell_type": "code",
      "execution_count": null,
      "metadata": {
        "id": "uqrACo8WtIU2"
      },
      "outputs": [],
      "source": [
        "repeat_experiment_with_strategy(experiment_name = \"E6_Ciphertext_Pairs\", reps = 10, start_round = 5, end_round = 6, cipher_class = Speck , diff = [0x40, 0], data_format = \"Pairs\", shape = \"UNSHAPED\", network = \"GohrInception2ndB\", strategy = \"Freeze\")"
      ]
    },
    {
      "cell_type": "code",
      "execution_count": null,
      "metadata": {
        "id": "eqIobJsQtIU2"
      },
      "outputs": [],
      "source": [
        "repeat_experiment_with_strategy(experiment_name = \"E6_Ciphertext_Pairs\", reps = 10, start_round = 8, end_round = 9, cipher_class = Simon , diff = [0, 0x400], data_format = \"Pairs\", shape = \"UNSHAPED\", network = \"GohrInception2ndB\", strategy = \"Freeze\")"
      ]
    },
    {
      "cell_type": "code",
      "execution_count": null,
      "metadata": {
        "id": "7G25-VpTtIU2"
      },
      "outputs": [],
      "source": [
        "repeat_experiment_with_strategy(experiment_name = \"E6_Ciphertext_Pairs\", reps = 10, start_round = 5, end_round = 6, cipher_class = Skinny , diff = [0, 0, 0, 0, 0, 0, 0, 0, 0, 0, 0, 0, 2, 0, 0, 0], data_format = \"Pairs\", shape = \"UNSHAPED\", network = \"GohrInception2ndB\", strategy = \"Freeze\")"
      ]
    },
    {
      "cell_type": "code",
      "execution_count": null,
      "metadata": {
        "id": "LqBGiqN2tIU2"
      },
      "outputs": [],
      "source": [
        "repeat_experiment_with_strategy(experiment_name = \"E6_Ciphertext_Pairs\", reps = 10, start_round = 49, end_round = 50, cipher_class = Katan , diff = [0x4000], data_format = \"Pairs\", shape = \"UNSHAPED\", network = \"GohrInception2ndB\", strategy = \"Freeze\")"
      ]
    },
    {
      "cell_type": "code",
      "execution_count": null,
      "metadata": {
        "id": "IO-PFgVYtIU3"
      },
      "outputs": [],
      "source": [
        "repeat_experiment_with_strategy(experiment_name = \"E6_Ciphertext_Pairs\", reps = 10, start_round = 5, end_round = 6, cipher_class = Present, diff = [0, 0, 0, 0, 0, 0, 0, 0, 0, 0xd, 0, 0, 0, 0, 0, 0], data_format = \"Pairs\", shape = \"UNSHAPED\", network = \"GohrInception2ndB\", strategy = \"Freeze\")"
      ]
    },
    {
      "cell_type": "code",
      "execution_count": null,
      "metadata": {
        "id": "UiRys3UMtIU3"
      },
      "outputs": [],
      "source": [
        "repeat_experiment_with_strategy(experiment_name = \"E6_Ciphertext_Pairs\", reps = 10, start_round = 2, end_round = 3, cipher_class = ChaCha, diff = [0, 0, 0, 0x8000], data_format = \"Pairs\", shape = \"UNSHAPED\", network = \"GohrInception2ndB\", strategy = \"Freeze\")"
      ]
    },
    {
      "cell_type": "markdown",
      "metadata": {
        "id": "4pGlfUy6tIU3"
      },
      "source": [
        "#### DBit"
      ]
    },
    {
      "cell_type": "markdown",
      "metadata": {
        "id": "MGXBD-iLtIU3"
      },
      "source": [
        "Input is UNSHAPED"
      ]
    },
    {
      "cell_type": "code",
      "execution_count": null,
      "metadata": {
        "id": "fMnBOJTKtIU3"
      },
      "outputs": [],
      "source": [
        "repeat_experiment_with_strategy(experiment_name = \"E6_Ciphertext_Pairs\", reps = 10, start_round = 5, end_round = 6, cipher_class = Speck , diff = [0x40, 0], data_format = \"Pairs\", shape = \"UNSHAPED\", network = \"DBIT\", strategy = \"Freeze\")"
      ]
    },
    {
      "cell_type": "code",
      "execution_count": null,
      "metadata": {
        "id": "R94r73q7tIU3"
      },
      "outputs": [],
      "source": [
        "repeat_experiment_with_strategy(experiment_name = \"E6_Ciphertext_Pairs\", reps = 10, start_round = 8, end_round = 9, cipher_class = Simon , diff = [0, 0x400], data_format = \"Pairs\", shape = \"UNSHAPED\", network = \"DBIT\", strategy = \"Freeze\")"
      ]
    },
    {
      "cell_type": "code",
      "execution_count": null,
      "metadata": {
        "id": "Qh4yNarMtIU4"
      },
      "outputs": [],
      "source": [
        "repeat_experiment_with_strategy(experiment_name = \"E6_Ciphertext_Pairs\", reps = 10, start_round = 5, end_round = 6, cipher_class = Skinny , diff = [0, 0, 0, 0, 0, 0, 0, 0, 0, 0, 0, 0, 2, 0, 0, 0], data_format = \"Pairs\", shape = \"UNSHAPED\", network = \"DBIT\", strategy = \"Freeze\")"
      ]
    },
    {
      "cell_type": "code",
      "execution_count": null,
      "metadata": {
        "id": "C8cAS9K1tIU4"
      },
      "outputs": [],
      "source": [
        "repeat_experiment_with_strategy(experiment_name = \"E6_Ciphertext_Pairs\", reps = 10, start_round = 49, end_round = 50, cipher_class = Katan , diff = [0x4000], data_format = \"Pairs\", shape = \"UNSHAPED\", network = \"DBIT\", strategy = \"Freeze\")"
      ]
    },
    {
      "cell_type": "code",
      "execution_count": null,
      "metadata": {
        "id": "dXwgfXPCtIU4"
      },
      "outputs": [],
      "source": [
        "repeat_experiment_with_strategy(experiment_name = \"E6_Ciphertext_Pairs\", reps = 10, start_round = 5, end_round = 6, cipher_class = Present, diff = [0, 0, 0, 0, 0, 0, 0, 0, 0, 0xd, 0, 0, 0, 0, 0, 0], data_format = \"Pairs\", shape = \"UNSHAPED\", network = \"DBIT\", strategy = \"Freeze\")"
      ]
    },
    {
      "cell_type": "code",
      "execution_count": null,
      "metadata": {
        "id": "XAIzY33mtIU4"
      },
      "outputs": [],
      "source": [
        "repeat_experiment_with_strategy(experiment_name = \"E6_Ciphertext_Pairs\", reps = 10, start_round = 2, end_round = 3, cipher_class = ChaCha, diff = [0, 0, 0, 0x8000], data_format = \"Pairs\", shape = \"UNSHAPED\", network = \"DBIT\", strategy = \"Freeze\")"
      ]
    },
    {
      "cell_type": "markdown",
      "metadata": {
        "id": "MNoBu3TrXinu"
      },
      "source": [
        "## Question 7"
      ]
    },
    {
      "cell_type": "markdown",
      "source": [
        "Based on code from: https://github.com/Crypto-TII/nnbits/tree/main"
      ],
      "metadata": {
        "id": "xc2S3PPXnVkL"
      }
    },
    {
      "cell_type": "code",
      "execution_count": null,
      "metadata": {
        "id": "jL-S3PwPXinu"
      },
      "outputs": [],
      "source": [
        "# USE YOUR HARDWARE INFORMATION TO ADJUST YOUR HARDWARE INFORMATION DOWN BELOW\n",
        "!nvidia-smi"
      ]
    },
    {
      "cell_type": "code",
      "execution_count": null,
      "metadata": {
        "scrolled": true,
        "id": "cmw4pAOQXinv"
      },
      "outputs": [],
      "source": [
        "!git clone https://github.com/Crypto-TII/nnbits\n",
        "!pip install -r nnbits/requirements.txt"
      ]
    },
    {
      "cell_type": "code",
      "execution_count": null,
      "metadata": {
        "id": "5_KdU0znXinv"
      },
      "outputs": [],
      "source": [
        "# CHOOSE CIPHER, ROUND NR, and INPUT DIFFERENCE\n",
        "\n",
        "nr = 9\n",
        "n  = 10**7\n",
        "\n",
        "cipher = Simon(nr)\n",
        "diff = [0, 0x400]\n",
        "data_format = \"Pairs\"\n",
        "\n",
        "X, Y = make_train_data(n_samples = n, cipher = cipher, diff = diff, calc_back = 0, data_format = data_format)\n",
        "X_val, Y_val = make_train_data(n_samples = n//10, cipher = cipher, diff = diff, calc_back = 0, data_format = data_format)"
      ]
    },
    {
      "cell_type": "code",
      "execution_count": null,
      "metadata": {
        "id": "71tlRoeRXinv"
      },
      "outputs": [],
      "source": [
        "np.save('data_train_full.npy', X);\n",
        "np.save('data_train_labels.npy', Y);\n",
        "np.save('data_test_full.npy', X_val);\n",
        "np.save('data_test_labels.npy', Y_val);"
      ]
    },
    {
      "cell_type": "code",
      "execution_count": null,
      "metadata": {
        "id": "Jf47S2T_Xinw"
      },
      "outputs": [],
      "source": [
        "import numpy as np\n",
        "\n",
        "X = np.load('data_train_full.npy')\n",
        "Y = np.load('data_train_labels.npy')\n",
        "X_val = np.load('data_test_full.npy')\n",
        "Y_val = np.load('data_test_labels.npy')"
      ]
    },
    {
      "cell_type": "code",
      "execution_count": null,
      "metadata": {
        "id": "jYUkWwAVXinx"
      },
      "outputs": [],
      "source": [
        "final   = np.r_[X, X_val]\n",
        "np.save('combined.npy', final)"
      ]
    },
    {
      "cell_type": "code",
      "execution_count": null,
      "metadata": {
        "id": "aQ6RY8yIXinx"
      },
      "outputs": [],
      "source": [
        "X = X[Y==1]\n",
        "X_val = X_val[Y_val==1]\n",
        "\n",
        "final   = np.r_[X, X_val]\n",
        "\n",
        "np.save('combined_Y1.npy', final)"
      ]
    },
    {
      "cell_type": "code",
      "execution_count": null,
      "metadata": {
        "id": "osYHXj4YXinx"
      },
      "outputs": [],
      "source": [
        "# ADJUST NAME\n",
        "\n",
        "savepath = f'gohr_ensemble_longR8_Simon'"
      ]
    },
    {
      "cell_type": "code",
      "execution_count": null,
      "metadata": {
        "id": "XqdRDj_ZXiny"
      },
      "outputs": [],
      "source": [
        "import toml\n",
        "import numpy as np\n",
        "import matplotlib.pyplot as plt\n",
        "\n",
        "from nnbits.nnbits.filemanager import FileManager\n",
        "from nnbits.nnbits.bitanalysis import get_X\n"
      ]
    },
    {
      "cell_type": "code",
      "execution_count": null,
      "metadata": {
        "id": "fa_Ycj7KXiny"
      },
      "outputs": [],
      "source": [
        "F = FileManager(savepath)\n",
        "\n",
        "datapath = 'combined_Y1.npy'\n",
        "cfgdict = {'DATAPATH': datapath,\n",
        "            # ensemble settings\n",
        "            'NEURAL_NETWORK_MODEL': 'gohr',\n",
        "            'NEURAL_NETWORKS': 64,   #ADJUST NUMER TO MATCH TO INPUT BITS - for the experiments in the paper, this doesn't need to be changed\n",
        "            'PREDICT_LABEL': False,\n",
        "            'SELECT_BITS_STRATEGY': 'target',\n",
        "            'TARGET_BITS': [0,  1,  2,  3,  4,  5,  6,  7,  8,  9, 10, 11, 12, 13, 14, 15, 16,\n",
        "            17, 18, 19, 20, 21, 22, 23, 24, 25, 26, 27, 28, 29, 30, 31, 32, 33,\n",
        "            34, 35, 36, 37, 38, 39, 40, 41, 42, 43, 44, 45, 46, 47, 48, 49, 50,\n",
        "            51, 52, 53, 54, 55, 56, 57, 58, 59, 60, 61, 62, 63],  #ADJUST NUMER TO MATCH TO INPUT BITS  - for the experiments in the paper, this doesn't need to be changed\n",
        "            'INPUT_DATA_OP': 'zero',\n",
        "            # hardware settings\n",
        "            # ADJUST HERE ACCORDING TO YOUR HARDWARE\n",
        "            'N_GPUS': 6,\n",
        "            'N_ACTORS_PER_GPU': 4,\n",
        "            'GPU_PER_ACTOR': 0.25,\n",
        "            'CPU_PER_ACTOR': 5,\n",
        "            # training settings\n",
        "            'N_EPOCHS': 200,\n",
        "            'N_TRAIN': 4997120,\n",
        "            'N_VAL': 499712,\n",
        "            'BATCHSIZE': 4096,\n",
        "            'EARLY_STOPPING': False,\n",
        "            'SAVE_BEST_WEIGHTS': True}\n",
        "\n",
        "with open(F.filename_config(), 'w') as configfile:\n",
        "    toml.dump(cfgdict, configfile)\n",
        "\n",
        "print(\"=\"*len(datapath))\n",
        "print(datapath)"
      ]
    },
    {
      "cell_type": "code",
      "execution_count": null,
      "metadata": {
        "scrolled": true,
        "id": "mcMXfwQKXiny"
      },
      "outputs": [],
      "source": [
        "# ADJUST NAME\n",
        "\n",
        "!python -m nnbits.nnbits.run --savepath 'gohr_ensemble_longR8_Simon'"
      ]
    },
    {
      "cell_type": "code",
      "source": [
        "import matplotlib.pyplot as plt\n",
        "\n",
        "# Data from above needs to be introduced below in form {bit_number : acc}\n",
        "\n",
        "test_accuracies_dict = { bit_no: acc} # Complete this list\n",
        "# Plotting\n",
        "plt.bar(test_accuracies_dict.keys(), test_accuracies_dict.values())\n",
        "plt.xlabel('Bit ID')\n",
        "plt.ylabel('Test accuracy')\n",
        "plt.title('Test accuracies of ResNet on Simon-8R') #Adjust name\n",
        "plt.ylim(0, 100)\n",
        "plt.savefig('Simon-8R.png', dpi=300)  #Adjust name\n",
        "plt.show()"
      ],
      "metadata": {
        "id": "dYSdc-RWxec2"
      },
      "execution_count": null,
      "outputs": []
    },
    {
      "cell_type": "code",
      "execution_count": null,
      "metadata": {
        "id": "D3HCxDheXiny"
      },
      "outputs": [],
      "source": [
        "F = FileManager(savepath)\n",
        "\n",
        "datapath = 'combined.npy'\n",
        "cfgdict = {'DATAPATH': datapath,\n",
        "            # ensemble settings\n",
        "            'NEURAL_NETWORK_MODEL': 'gohr',\n",
        "            'NEURAL_NETWORKS': 64,  #ADJUST NUMER TO MATCH TO INPUT BITS  - for the experiments in the paper, this doesn't need to be changed\n",
        "            'PREDICT_LABEL': False,\n",
        "            'SELECT_BITS_STRATEGY': 'target',\n",
        "            'TARGET_BITS': [0,  1,  2,  3,  4,  5,  6,  7,  8,  9, 10, 11, 12, 13, 14, 15, 16,\n",
        "            17, 18, 19, 20, 21, 22, 23, 24, 25, 26, 27, 28, 29, 30, 31, 32, 33,\n",
        "            34, 35, 36, 37, 38, 39, 40, 41, 42, 43, 44, 45, 46, 47, 48, 49, 50,\n",
        "            51, 52, 53, 54, 55, 56, 57, 58, 59, 60, 61, 62, 63],  #ADJUST NUMER TO MATCH TO INPUT BITS  - for the experiments in the paper, this doesn't need to be changed\n",
        "            'INPUT_DATA_OP': 'zero',\n",
        "            # hardware settings\n",
        "            # ADJUST HERE ACCORDING TO YOUR HARDWARE\n",
        "            'N_GPUS': 6,\n",
        "            'N_ACTORS_PER_GPU': 2,\n",
        "            'GPU_PER_ACTOR': 0.5,\n",
        "            'CPU_PER_ACTOR': 5,\n",
        "            # testing settings\n",
        "            'N_TEST': 11_000_000,\n",
        "            'TEST_ONLY': True,\n",
        "            # training settings\n",
        "            'N_EPOCHS': 2,\n",
        "            'N_TRAIN': 0,\n",
        "            'N_VAL': 0,\n",
        "            'BATCHSIZE': 4096,\n",
        "            'EARLY_STOPPING': False,\n",
        "            'SAVE_BEST_WEIGHTS': True\n",
        "             }\n",
        "\n",
        "with open(F.filename_config(), 'w') as configfile:\n",
        "    toml.dump(cfgdict, configfile)\n",
        "\n",
        "print(\"=\"*len(datapath))\n",
        "print(datapath)"
      ]
    },
    {
      "cell_type": "code",
      "execution_count": null,
      "metadata": {
        "scrolled": true,
        "id": "0SsDi6SHXinz"
      },
      "outputs": [],
      "source": [
        "# ADJUST NAME\n",
        "\n",
        "!python -m nnbits.nnbits.run --savepath 'gohr_ensemble_longR8_Simon'"
      ]
    },
    {
      "cell_type": "code",
      "execution_count": null,
      "metadata": {
        "id": "cDZdWlzdXinz"
      },
      "outputs": [],
      "source": [
        "from nnbits.nnbits.gohr_original.gohr import bs, LearningRateScheduler, cyclic_lr\n",
        "\n",
        "def create_model(d1=64, d2=64, reg_param=1e-5):\n",
        "\n",
        "    import tensorflow as tf\n",
        "    gpus = tf.config.experimental.list_physical_devices(\"GPU\")\n",
        "    tf.config.experimental.set_visible_devices(gpus[0], 'GPU')\n",
        "    from keras.models import Model\n",
        "    from keras.layers import Dense, Conv1D, Conv2D, Input, Reshape, Permute, Add, Flatten, BatchNormalization, \\\n",
        "        Activation, Lambda\n",
        "    from keras.layers import Concatenate, MaxPooling2D\n",
        "    from keras.regularizers import l2\n",
        "    from keras import backend as K\n",
        "    import numpy as np\n",
        "\n",
        "    inp = Input(shape=(64,))\n",
        "    dense1 = Dense(d1,kernel_regularizer=l2(reg_param))(inp);\n",
        "    dense1 = BatchNormalization()(dense1);\n",
        "    dense1 = Activation('relu')(dense1);\n",
        "    dense2 = Dense(d2, kernel_regularizer=l2(reg_param))(dense1);\n",
        "    dense2 = BatchNormalization()(dense2);\n",
        "    dense2 = Activation('relu')(dense2);\n",
        "    out = Dense(1, activation='sigmoid', kernel_regularizer=l2(reg_param))(dense2);\n",
        "    model = Model(inputs=inp, outputs=out);\n",
        "    return(model);\n",
        "\n",
        "N_TRAIN = 10_000_000\n",
        "N_EVAL = 1_000_000"
      ]
    },
    {
      "cell_type": "code",
      "execution_count": null,
      "metadata": {
        "id": "uyr2CSMVXinz"
      },
      "outputs": [],
      "source": [
        "\n",
        "\n",
        "Y = np.load('data_train_labels.npy')[:N_TRAIN]\n",
        "\n",
        "X = np.zeros((N_TRAIN, 64))\n",
        "\n",
        "for network_id in np.arange(64):\n",
        "    filename = f'{savepath}/test_accuracies_bit_by_bit/{network_id}_testing.npy'\n",
        "    x = np.load(filename)\n",
        "    X[:,network_id] = x[:N_TRAIN]\n",
        "\n",
        "\n",
        "Y_eval = np.load('data_test_labels.npy')[:N_EVAL]\n",
        "\n",
        "X_eval = np.zeros((N_EVAL, 64))\n",
        "\n",
        "for network_id in np.arange(64):\n",
        "\n",
        "    filename = f'{savepath}/test_accuracies_bit_by_bit/{network_id}_testing.npy'\n",
        "    x = np.load(filename)\n",
        "    X_eval[:,network_id] = x[N_TRAIN:]\n",
        "\n",
        "num_epochs = 200\n",
        "\n",
        "model = create_model(reg_param=10**-5);\n",
        "model.compile(optimizer='adam',loss='mse',metrics=['acc']);\n",
        "\n",
        "lr = LearningRateScheduler(cyclic_lr(10,0.002, 0.0001));\n",
        "\n",
        "h = model.fit(X, Y, epochs=num_epochs, batch_size=bs, callbacks=[lr], validation_data=(X_eval, Y_eval))\n",
        "\n",
        "print(\"Best validation accuracy: \", np.max(h.history['val_acc']));"
      ]
    }
  ],
  "metadata": {
    "accelerator": "GPU",
    "colab": {
      "collapsed_sections": [
        "9O51XzwDACsD",
        "xt3WS5mve95J",
        "cshXBNawymaQ",
        "F9YRNdQ70qnK",
        "wdlIhW5L3aXx",
        "RZtGXvVoz1wT",
        "G4_h8QJX6AST",
        "1eVCpBOdn8Tk",
        "Ty6Mzbr8isAf",
        "4RsQjkI7yaQr",
        "6PsXNQxTyevL",
        "IG6cdvDkyiWK",
        "b8oOxEPWjBHx",
        "ESPbxBhwyq1n",
        "ZKwud-qhOQZt",
        "i1201SurQgeY",
        "0DCQuSqYR1hv",
        "r_LnMERMTBVu",
        "EigTFFA9NTNL",
        "UyKSgGilWNQA",
        "OWNAg2sOVzwl",
        "LaUgHQBvWLa6",
        "mwxewAZokMH-",
        "vutawm55k5Hw",
        "H7F-YVLWkXuB",
        "AR8C6VUOt3V2",
        "tef1HR-nIYqD",
        "MLSECXRljI8Y",
        "kb3SIGkcjO1B",
        "Iar9_iOhjRQW",
        "gzAL_MpvjReC",
        "0gXvFBgzjRq4",
        "STZpzE5JjZp4",
        "9ZKMcKJ1tIUk",
        "mHP4l4zytIUu",
        "ucPkDR5rtIUw",
        "SLMgvGbCtIUy",
        "HHk7IT6EtIU1",
        "4pGlfUy6tIU3",
        "MNoBu3TrXinu"
      ],
      "gpuType": "T4",
      "provenance": [],
      "toc_visible": true
    },
    "kernelspec": {
      "display_name": "Python 3 (ipykernel)",
      "language": "python",
      "name": "python3"
    },
    "language_info": {
      "codemirror_mode": {
        "name": "ipython",
        "version": 3
      },
      "file_extension": ".py",
      "mimetype": "text/x-python",
      "name": "python",
      "nbconvert_exporter": "python",
      "pygments_lexer": "ipython3",
      "version": "3.11.0rc1"
    }
  },
  "nbformat": 4,
  "nbformat_minor": 0
}